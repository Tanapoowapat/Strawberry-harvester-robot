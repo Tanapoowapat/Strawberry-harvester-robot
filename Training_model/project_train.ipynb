{
 "cells": [
  {
   "cell_type": "code",
   "execution_count": 1,
   "metadata": {},
   "outputs": [
    {
     "name": "stdout",
     "output_type": "stream",
     "text": [
      "/bin/bash: /home/tyomsarn/miniconda3/envs/ml-jupyter/lib/libtinfo.so.6: no version information available (required by /bin/bash)\n",
      "/home/tyomsarn/miniconda3/envs/ml-jupyter/bin/python\n"
     ]
    }
   ],
   "source": [
    "!which python"
   ]
  },
  {
   "cell_type": "code",
   "execution_count": null,
   "metadata": {},
   "outputs": [],
   "source": [
    "print('test')"
   ]
  },
  {
   "cell_type": "code",
   "execution_count": 2,
   "metadata": {},
   "outputs": [
    {
     "name": "stdout",
     "output_type": "stream",
     "text": [
      "/bin/bash: /home/tyomsarn/miniconda3/envs/ml-jupyter/lib/libtinfo.so.6: no version information available (required by /bin/bash)\n",
      "Thu Jan 11 09:47:57 2024       \n",
      "+---------------------------------------------------------------------------------------+\n",
      "| NVIDIA-SMI 535.129.03             Driver Version: 535.129.03   CUDA Version: 12.2     |\n",
      "|-----------------------------------------+----------------------+----------------------+\n",
      "| GPU  Name                 Persistence-M | Bus-Id        Disp.A | Volatile Uncorr. ECC |\n",
      "| Fan  Temp   Perf          Pwr:Usage/Cap |         Memory-Usage | GPU-Util  Compute M. |\n",
      "|                                         |                      |               MIG M. |\n",
      "|=========================================+======================+======================|\n",
      "|   0  NVIDIA A100-SXM4-40GB          Off | 00000000:BD:00.0 Off |                    0 |\n",
      "| N/A   40C    P0              56W / 400W |      7MiB / 40960MiB |      0%      Default |\n",
      "|                                         |                      |             Disabled |\n",
      "+-----------------------------------------+----------------------+----------------------+\n",
      "                                                                                         \n",
      "+---------------------------------------------------------------------------------------+\n",
      "| Processes:                                                                            |\n",
      "|  GPU   GI   CI        PID   Type   Process name                            GPU Memory |\n",
      "|        ID   ID                                                             Usage      |\n",
      "|=======================================================================================|\n",
      "|  No running processes found                                                           |\n",
      "+---------------------------------------------------------------------------------------+\n"
     ]
    }
   ],
   "source": [
    "!nvidia-smi"
   ]
  },
  {
   "cell_type": "markdown",
   "metadata": {},
   "source": [
    "# Install library\n"
   ]
  },
  {
   "cell_type": "code",
   "execution_count": 4,
   "metadata": {},
   "outputs": [
    {
     "name": "stdout",
     "output_type": "stream",
     "text": [
      "Requirement already satisfied: ultralytics in d:\\work\\image_processing\\lab4\\venv\\lib\\site-packages (8.0.200)\n",
      "Collecting ultralytics\n",
      "  Downloading ultralytics-8.1.0-py3-none-any.whl (699 kB)\n",
      "     -------------------------------------- 699.2/699.2 kB 2.4 MB/s eta 0:00:00\n",
      "Requirement already satisfied: tqdm>=4.64.0 in d:\\work\\image_processing\\lab4\\venv\\lib\\site-packages (from ultralytics) (4.66.1)\n",
      "Collecting hub-sdk>=0.0.2\n",
      "  Downloading hub_sdk-0.0.3-py3-none-any.whl (37 kB)\n",
      "Requirement already satisfied: torchvision>=0.9.0 in d:\\work\\image_processing\\lab4\\venv\\lib\\site-packages (from ultralytics) (0.16.0)\n",
      "Requirement already satisfied: thop>=0.1.1 in d:\\work\\image_processing\\lab4\\venv\\lib\\site-packages (from ultralytics) (0.1.1.post2209072238)\n",
      "Requirement already satisfied: opencv-python>=4.6.0 in d:\\work\\image_processing\\lab4\\venv\\lib\\site-packages (from ultralytics) (4.8.0.76)\n",
      "Requirement already satisfied: pillow>=7.1.2 in d:\\work\\image_processing\\lab4\\venv\\lib\\site-packages (from ultralytics) (10.0.0)\n",
      "Requirement already satisfied: pandas>=1.1.4 in d:\\work\\image_processing\\lab4\\venv\\lib\\site-packages (from ultralytics) (2.1.1)\n",
      "Requirement already satisfied: psutil in d:\\work\\image_processing\\lab4\\venv\\lib\\site-packages (from ultralytics) (5.9.5)\n",
      "Requirement already satisfied: matplotlib>=3.3.0 in d:\\work\\image_processing\\lab4\\venv\\lib\\site-packages (from ultralytics) (3.7.3)\n",
      "Requirement already satisfied: pyyaml>=5.3.1 in d:\\work\\image_processing\\lab4\\venv\\lib\\site-packages (from ultralytics) (6.0.1)\n",
      "Requirement already satisfied: requests>=2.23.0 in d:\\work\\image_processing\\lab4\\venv\\lib\\site-packages (from ultralytics) (2.31.0)\n",
      "Requirement already satisfied: scipy>=1.4.1 in d:\\work\\image_processing\\lab4\\venv\\lib\\site-packages (from ultralytics) (1.11.2)\n",
      "Requirement already satisfied: torch>=1.8.0 in d:\\work\\image_processing\\lab4\\venv\\lib\\site-packages (from ultralytics) (2.1.0)\n",
      "Requirement already satisfied: py-cpuinfo in d:\\work\\image_processing\\lab4\\venv\\lib\\site-packages (from ultralytics) (9.0.0)\n",
      "Requirement already satisfied: numpy>=1.22.2 in d:\\work\\image_processing\\lab4\\venv\\lib\\site-packages (from ultralytics) (1.25.2)\n",
      "Requirement already satisfied: seaborn>=0.11.0 in d:\\work\\image_processing\\lab4\\venv\\lib\\site-packages (from ultralytics) (0.13.0)\n",
      "Requirement already satisfied: kiwisolver>=1.0.1 in d:\\work\\image_processing\\lab4\\venv\\lib\\site-packages (from matplotlib>=3.3.0->ultralytics) (1.4.5)\n",
      "Requirement already satisfied: fonttools>=4.22.0 in d:\\work\\image_processing\\lab4\\venv\\lib\\site-packages (from matplotlib>=3.3.0->ultralytics) (4.42.1)\n",
      "Requirement already satisfied: cycler>=0.10 in d:\\work\\image_processing\\lab4\\venv\\lib\\site-packages (from matplotlib>=3.3.0->ultralytics) (0.11.0)\n",
      "Requirement already satisfied: pyparsing>=2.3.1 in d:\\work\\image_processing\\lab4\\venv\\lib\\site-packages (from matplotlib>=3.3.0->ultralytics) (3.1.1)\n",
      "Requirement already satisfied: python-dateutil>=2.7 in d:\\work\\image_processing\\lab4\\venv\\lib\\site-packages (from matplotlib>=3.3.0->ultralytics) (2.8.2)\n",
      "Requirement already satisfied: packaging>=20.0 in d:\\work\\image_processing\\lab4\\venv\\lib\\site-packages (from matplotlib>=3.3.0->ultralytics) (23.1)\n",
      "Requirement already satisfied: contourpy>=1.0.1 in d:\\work\\image_processing\\lab4\\venv\\lib\\site-packages (from matplotlib>=3.3.0->ultralytics) (1.1.0)\n",
      "Requirement already satisfied: pytz>=2020.1 in d:\\work\\image_processing\\lab4\\venv\\lib\\site-packages (from pandas>=1.1.4->ultralytics) (2023.3.post1)\n",
      "Requirement already satisfied: tzdata>=2022.1 in d:\\work\\image_processing\\lab4\\venv\\lib\\site-packages (from pandas>=1.1.4->ultralytics) (2023.3)\n",
      "Requirement already satisfied: certifi>=2017.4.17 in d:\\work\\image_processing\\lab4\\venv\\lib\\site-packages (from requests>=2.23.0->ultralytics) (2023.7.22)\n",
      "Requirement already satisfied: charset-normalizer<4,>=2 in d:\\work\\image_processing\\lab4\\venv\\lib\\site-packages (from requests>=2.23.0->ultralytics) (3.2.0)\n",
      "Requirement already satisfied: idna<4,>=2.5 in d:\\work\\image_processing\\lab4\\venv\\lib\\site-packages (from requests>=2.23.0->ultralytics) (3.4)\n",
      "Requirement already satisfied: urllib3<3,>=1.21.1 in d:\\work\\image_processing\\lab4\\venv\\lib\\site-packages (from requests>=2.23.0->ultralytics) (1.26.16)\n",
      "Requirement already satisfied: jinja2 in d:\\work\\image_processing\\lab4\\venv\\lib\\site-packages (from torch>=1.8.0->ultralytics) (3.1.2)\n",
      "Requirement already satisfied: fsspec in d:\\work\\image_processing\\lab4\\venv\\lib\\site-packages (from torch>=1.8.0->ultralytics) (2023.9.2)\n",
      "Requirement already satisfied: typing-extensions in d:\\work\\image_processing\\lab4\\venv\\lib\\site-packages (from torch>=1.8.0->ultralytics) (4.7.1)\n",
      "Requirement already satisfied: filelock in d:\\work\\image_processing\\lab4\\venv\\lib\\site-packages (from torch>=1.8.0->ultralytics) (3.12.4)\n",
      "Requirement already satisfied: sympy in d:\\work\\image_processing\\lab4\\venv\\lib\\site-packages (from torch>=1.8.0->ultralytics) (1.12)\n",
      "Requirement already satisfied: networkx in d:\\work\\image_processing\\lab4\\venv\\lib\\site-packages (from torch>=1.8.0->ultralytics) (3.2)\n",
      "Requirement already satisfied: colorama in d:\\work\\image_processing\\lab4\\venv\\lib\\site-packages (from tqdm>=4.64.0->ultralytics) (0.4.6)\n",
      "Requirement already satisfied: six>=1.5 in d:\\work\\image_processing\\lab4\\venv\\lib\\site-packages (from python-dateutil>=2.7->matplotlib>=3.3.0->ultralytics) (1.16.0)\n",
      "Requirement already satisfied: MarkupSafe>=2.0 in d:\\work\\image_processing\\lab4\\venv\\lib\\site-packages (from jinja2->torch>=1.8.0->ultralytics) (2.1.3)\n",
      "Requirement already satisfied: mpmath>=0.19 in d:\\work\\image_processing\\lab4\\venv\\lib\\site-packages (from sympy->torch>=1.8.0->ultralytics) (1.3.0)\n",
      "Installing collected packages: hub-sdk, ultralytics\n",
      "  Attempting uninstall: ultralytics\n",
      "    Found existing installation: ultralytics 8.0.200\n",
      "    Uninstalling ultralytics-8.0.200:\n",
      "      Successfully uninstalled ultralytics-8.0.200\n",
      "Successfully installed hub-sdk-0.0.3 ultralytics-8.1.0\n",
      "Note: you may need to restart the kernel to use updated packages.\n"
     ]
    },
    {
     "name": "stderr",
     "output_type": "stream",
     "text": [
      "WARNING: Ignoring invalid distribution -rotobuf (d:\\work\\image_processing\\lab4\\venv\\lib\\site-packages)\n",
      "WARNING: Ignoring invalid distribution -rotobuf (d:\\work\\image_processing\\lab4\\venv\\lib\\site-packages)\n",
      "WARNING: Ignoring invalid distribution -rotobuf (d:\\work\\image_processing\\lab4\\venv\\lib\\site-packages)\n",
      "    WARNING: Ignoring invalid distribution -rotobuf (d:\\work\\image_processing\\lab4\\venv\\lib\\site-packages)\n",
      "WARNING: Ignoring invalid distribution -rotobuf (d:\\work\\image_processing\\lab4\\venv\\lib\\site-packages)\n",
      "WARNING: Ignoring invalid distribution -rotobuf (d:\\work\\image_processing\\lab4\\venv\\lib\\site-packages)\n",
      "WARNING: Ignoring invalid distribution -rotobuf (d:\\work\\image_processing\\lab4\\venv\\lib\\site-packages)\n",
      "WARNING: Ignoring invalid distribution -rotobuf (d:\\work\\image_processing\\lab4\\venv\\lib\\site-packages)\n",
      "WARNING: Ignoring invalid distribution -rotobuf (d:\\work\\image_processing\\lab4\\venv\\lib\\site-packages)\n",
      "\n",
      "[notice] A new release of pip available: 22.2.2 -> 23.3.2\n",
      "[notice] To update, run: python.exe -m pip install --upgrade pip\n"
     ]
    }
   ],
   "source": [
    "%pip install -U ultralytics\n",
    "#%pip install roboflow"
   ]
  },
  {
   "cell_type": "code",
   "execution_count": 1,
   "metadata": {},
   "outputs": [
    {
     "name": "stdout",
     "output_type": "stream",
     "text": [
      "/bin/bash: /home/tyomsarn/miniconda3/envs/ml-jupyter/lib/libtinfo.so.6: no version information available (required by /bin/bash)\n",
      "# packages in environment at /home/tyomsarn/miniconda3/envs/ml-jupyter:\n",
      "#\n",
      "# Name                    Version                   Build  Channel\n",
      "_libgcc_mutex             0.1                 conda_forge    conda-forge\n",
      "_openmp_mutex             4.5                       2_gnu    conda-forge\n",
      "alsa-lib                  1.2.10               hd590300_0    conda-forge\n",
      "anyio                     4.1.0              pyhd8ed1ab_0    conda-forge\n",
      "aom                       3.7.1                h59595ed_0    conda-forge\n",
      "argon2-cffi               23.1.0             pyhd8ed1ab_0    conda-forge\n",
      "argon2-cffi-bindings      21.2.0           py38h01eb140_4    conda-forge\n",
      "arrow                     1.3.0              pyhd8ed1ab_0    conda-forge\n",
      "asttokens                 2.4.1              pyhd8ed1ab_0    conda-forge\n",
      "async-lru                 2.0.4              pyhd8ed1ab_0    conda-forge\n",
      "attr                      2.5.1                h166bdaf_1    conda-forge\n",
      "attrs                     23.1.0             pyh71513ae_1    conda-forge\n",
      "babel                     2.14.0             pyhd8ed1ab_0    conda-forge\n",
      "backcall                  0.2.0              pyh9f0ad1d_0    conda-forge\n",
      "beautifulsoup4            4.12.2             pyha770c72_0    conda-forge\n",
      "bleach                    6.1.0              pyhd8ed1ab_0    conda-forge\n",
      "brotli                    1.1.0                hd590300_1    conda-forge\n",
      "brotli-bin                1.1.0                hd590300_1    conda-forge\n",
      "brotli-python             1.0.9            py38hfa26641_7    conda-forge\n",
      "bzip2                     1.0.8                hd590300_5    conda-forge\n",
      "c-ares                    1.23.0               hd590300_0    conda-forge\n",
      "ca-certificates           2023.11.17           hbcca054_0    conda-forge\n",
      "cached-property           1.5.2                hd8ed1ab_1    conda-forge\n",
      "cached_property           1.5.2              pyha770c72_1    conda-forge\n",
      "cairo                     1.18.0               h3faef2a_0    conda-forge\n",
      "certifi                   2023.11.17         pyhd8ed1ab_0    conda-forge\n",
      "cffi                      1.16.0           py38h6d47a40_0    conda-forge\n",
      "charset-normalizer        3.3.2              pyhd8ed1ab_0    conda-forge\n",
      "colorama                  0.4.6              pyhd8ed1ab_0    conda-forge\n",
      "comm                      0.1.4              pyhd8ed1ab_0    conda-forge\n",
      "contourpy                 1.1.1            py38h7f3f72f_1    conda-forge\n",
      "cycler                    0.12.1             pyhd8ed1ab_0    conda-forge\n",
      "dav1d                     1.2.1                hd590300_0    conda-forge\n",
      "dbus                      1.13.6               h5008d03_3    conda-forge\n",
      "debugpy                   1.6.7            py38h6a678d5_0  \n",
      "decorator                 5.1.1              pyhd8ed1ab_0    conda-forge\n",
      "defusedxml                0.7.1              pyhd8ed1ab_0    conda-forge\n",
      "entrypoints               0.4                pyhd8ed1ab_0    conda-forge\n",
      "exceptiongroup            1.2.0              pyhd8ed1ab_0    conda-forge\n",
      "executing                 2.0.1              pyhd8ed1ab_0    conda-forge\n",
      "expat                     2.5.0                hcb278e6_1    conda-forge\n",
      "ffmpeg                    6.1.0           gpl_h186bccc_105    conda-forge\n",
      "filelock                  3.13.1                   pypi_0    pypi\n",
      "font-ttf-dejavu-sans-mono 2.37                 hab24e00_0    conda-forge\n",
      "font-ttf-inconsolata      3.000                h77eed37_0    conda-forge\n",
      "font-ttf-source-code-pro  2.038                h77eed37_0    conda-forge\n",
      "font-ttf-ubuntu           0.83                 h77eed37_1    conda-forge\n",
      "fontconfig                2.14.2               h14ed4e7_0    conda-forge\n",
      "fonts-conda-ecosystem     1                             0    conda-forge\n",
      "fonts-conda-forge         1                             0    conda-forge\n",
      "fonttools                 4.46.0           py38h01eb140_0    conda-forge\n",
      "fqdn                      1.5.1              pyhd8ed1ab_0    conda-forge\n",
      "freeglut                  3.2.2                hac7e632_2    conda-forge\n",
      "freetype                  2.12.1               h267a509_2    conda-forge\n",
      "fribidi                   1.0.10               h36c2ea0_0    conda-forge\n",
      "fsspec                    2023.12.2                pypi_0    pypi\n",
      "gettext                   0.21.1               h27087fc_0    conda-forge\n",
      "glib                      2.78.3               hfc55251_0    conda-forge\n",
      "glib-tools                2.78.3               hfc55251_0    conda-forge\n",
      "gmp                       6.3.0                h59595ed_0    conda-forge\n",
      "gnutls                    3.7.9                hb077bed_0    conda-forge\n",
      "graphite2                 1.3.13            h58526e2_1001    conda-forge\n",
      "gst-plugins-base          1.22.7               h8e1006c_1    conda-forge\n",
      "gstreamer                 1.22.7               h98fc4e7_1    conda-forge\n",
      "harfbuzz                  8.3.0                h3d44ed6_0    conda-forge\n",
      "hdf5                      1.14.3          nompi_h4f84152_100    conda-forge\n",
      "icu                       73.2                 h59595ed_0    conda-forge\n",
      "idna                      3.6                pyhd8ed1ab_0    conda-forge\n",
      "importlib-metadata        7.0.0              pyha770c72_0    conda-forge\n",
      "importlib-resources       6.1.1              pyhd8ed1ab_0    conda-forge\n",
      "importlib_metadata        7.0.0                hd8ed1ab_0    conda-forge\n",
      "importlib_resources       6.1.1              pyhd8ed1ab_0    conda-forge\n",
      "ipykernel                 6.26.0             pyhf8b6a83_0    conda-forge\n",
      "ipython                   8.12.2             pyh41d4057_0    conda-forge\n",
      "isoduration               20.11.0            pyhd8ed1ab_0    conda-forge\n",
      "jasper                    4.1.0                he6dfbbe_0    conda-forge\n",
      "jedi                      0.19.1             pyhd8ed1ab_0    conda-forge\n",
      "jinja2                    3.1.2              pyhd8ed1ab_1    conda-forge\n",
      "json5                     0.9.14             pyhd8ed1ab_0    conda-forge\n",
      "jsonpointer               2.4              py38h578d9bd_3    conda-forge\n",
      "jsonschema                4.20.0             pyhd8ed1ab_0    conda-forge\n",
      "jsonschema-specifications 2023.11.2          pyhd8ed1ab_0    conda-forge\n",
      "jsonschema-with-format-nongpl 4.20.0             pyhd8ed1ab_0    conda-forge\n",
      "jupyter-lsp               2.2.1              pyhd8ed1ab_0    conda-forge\n",
      "jupyter_client            8.6.0              pyhd8ed1ab_0    conda-forge\n",
      "jupyter_core              5.5.0            py38h578d9bd_0    conda-forge\n",
      "jupyter_events            0.9.0              pyhd8ed1ab_0    conda-forge\n",
      "jupyter_server            2.12.1             pyhd8ed1ab_0    conda-forge\n",
      "jupyter_server_terminals  0.5.0              pyhd8ed1ab_0    conda-forge\n",
      "jupyterlab                4.0.9              pyhd8ed1ab_0    conda-forge\n",
      "jupyterlab_pygments       0.3.0              pyhd8ed1ab_0    conda-forge\n",
      "jupyterlab_server         2.25.2             pyhd8ed1ab_0    conda-forge\n",
      "keyutils                  1.6.1                h166bdaf_0    conda-forge\n",
      "kiwisolver                1.4.5            py38h7f3f72f_1    conda-forge\n",
      "krb5                      1.21.2               h659d440_0    conda-forge\n",
      "lame                      3.100             h166bdaf_1003    conda-forge\n",
      "lcms2                     2.16                 hb7c19ff_0    conda-forge\n",
      "ld_impl_linux-64          2.38                 h1181459_1  \n",
      "lerc                      4.0.0                h27087fc_0    conda-forge\n",
      "libabseil                 20230802.1      cxx17_h59595ed_0    conda-forge\n",
      "libaec                    1.1.2                h59595ed_1    conda-forge\n",
      "libass                    0.17.1               h8fe9dca_1    conda-forge\n",
      "libblas                   3.9.0           20_linux64_openblas    conda-forge\n",
      "libbrotlicommon           1.1.0                hd590300_1    conda-forge\n",
      "libbrotlidec              1.1.0                hd590300_1    conda-forge\n",
      "libbrotlienc              1.1.0                hd590300_1    conda-forge\n",
      "libcap                    2.69                 h0f662aa_0    conda-forge\n",
      "libcblas                  3.9.0           20_linux64_openblas    conda-forge\n",
      "libclang                  15.0.7          default_hb11cfb5_4    conda-forge\n",
      "libclang13                15.0.7          default_ha2b6cf4_4    conda-forge\n",
      "libcups                   2.3.3                h4637d8d_4    conda-forge\n",
      "libcurl                   8.5.0                hca28451_0    conda-forge\n",
      "libdeflate                1.19                 hd590300_0    conda-forge\n",
      "libdrm                    2.4.114              h166bdaf_0    conda-forge\n",
      "libedit                   3.1.20191231         he28a2e2_2    conda-forge\n",
      "libev                     4.33                 hd590300_2    conda-forge\n",
      "libevent                  2.1.12               hf998b51_1    conda-forge\n",
      "libexpat                  2.5.0                hcb278e6_1    conda-forge\n",
      "libffi                    3.4.4                h6a678d5_0  \n",
      "libflac                   1.4.3                h59595ed_0    conda-forge\n",
      "libgcc-ng                 13.2.0               h807b86a_3    conda-forge\n",
      "libgcrypt                 1.10.3               hd590300_0    conda-forge\n",
      "libgfortran-ng            13.2.0               h69a702a_3    conda-forge\n",
      "libgfortran5              13.2.0               ha4646dd_3    conda-forge\n",
      "libglib                   2.78.3               h783c2da_0    conda-forge\n",
      "libglu                    9.0.0             hac7e632_1003    conda-forge\n",
      "libgomp                   13.2.0               h807b86a_3    conda-forge\n",
      "libgpg-error              1.47                 h71f35ed_0    conda-forge\n",
      "libiconv                  1.17                 hd590300_2    conda-forge\n",
      "libidn2                   2.3.4                h166bdaf_0    conda-forge\n",
      "libjpeg-turbo             3.0.0                hd590300_1    conda-forge\n",
      "liblapack                 3.9.0           20_linux64_openblas    conda-forge\n",
      "liblapacke                3.9.0           20_linux64_openblas    conda-forge\n",
      "libllvm15                 15.0.7               hb3ce162_4    conda-forge\n",
      "libnghttp2                1.58.0               h47da74e_1    conda-forge\n",
      "libogg                    1.3.4                h7f98852_1    conda-forge\n",
      "libopenblas               0.3.25          pthreads_h413a1c8_0    conda-forge\n",
      "libopencv                 4.8.1            py38hf950233_5    conda-forge\n",
      "libopenvino               2023.1.0             h59595ed_2    conda-forge\n",
      "libopenvino-auto-batch-plugin 2023.1.0             h59595ed_2    conda-forge\n",
      "libopenvino-auto-plugin   2023.1.0             h59595ed_2    conda-forge\n",
      "libopenvino-hetero-plugin 2023.1.0             h59595ed_2    conda-forge\n",
      "libopenvino-intel-cpu-plugin 2023.1.0             h59595ed_2    conda-forge\n",
      "libopenvino-intel-gpu-plugin 2023.1.0             h59595ed_2    conda-forge\n",
      "libopenvino-ir-frontend   2023.1.0             h59595ed_2    conda-forge\n",
      "libopenvino-onnx-frontend 2023.1.0             h59595ed_2    conda-forge\n",
      "libopenvino-paddle-frontend 2023.1.0             h59595ed_2    conda-forge\n",
      "libopenvino-pytorch-frontend 2023.1.0             h59595ed_2    conda-forge\n",
      "libopenvino-tensorflow-frontend 2023.1.0             h59595ed_2    conda-forge\n",
      "libopenvino-tensorflow-lite-frontend 2023.1.0             h59595ed_2    conda-forge\n",
      "libopus                   1.3.1                h7f98852_1    conda-forge\n",
      "libpciaccess              0.17                 h166bdaf_0    conda-forge\n",
      "libpng                    1.6.39               h753d276_0    conda-forge\n",
      "libpq                     16.1                 h33b98f1_7    conda-forge\n",
      "libprotobuf               4.24.4               hf27288f_0    conda-forge\n",
      "libsndfile                1.2.2                hc60ed4a_1    conda-forge\n",
      "libsodium                 1.0.18               h36c2ea0_1    conda-forge\n",
      "libsqlite                 3.44.2               h2797004_0    conda-forge\n",
      "libssh2                   1.11.0               h0841786_0    conda-forge\n",
      "libstdcxx-ng              13.2.0               h7e041cc_3    conda-forge\n",
      "libsystemd0               255                  h3516f8a_0    conda-forge\n",
      "libtasn1                  4.19.0               h166bdaf_0    conda-forge\n",
      "libtiff                   4.6.0                ha9c0a0a_2    conda-forge\n",
      "libunistring              0.9.10               h7f98852_0    conda-forge\n",
      "libuuid                   2.38.1               h0b41bf4_0    conda-forge\n",
      "libva                     2.20.0               hd590300_0    conda-forge\n",
      "libvorbis                 1.3.7                h9c3ff4c_0    conda-forge\n",
      "libvpx                    1.13.1               h59595ed_0    conda-forge\n",
      "libwebp-base              1.3.2                hd590300_0    conda-forge\n",
      "libxcb                    1.15                 h0b41bf4_0    conda-forge\n",
      "libxkbcommon              1.6.0                hd429924_1    conda-forge\n",
      "libxml2                   2.12.3               h232c23b_0    conda-forge\n",
      "libzlib                   1.2.13               hd590300_5    conda-forge\n",
      "lz4-c                     1.9.4                hcb278e6_0    conda-forge\n",
      "markupsafe                2.1.3            py38h01eb140_1    conda-forge\n",
      "matplotlib-base           3.7.3            py38h58ed7fa_0    conda-forge\n",
      "matplotlib-inline         0.1.6              pyhd8ed1ab_0    conda-forge\n",
      "mistune                   3.0.2              pyhd8ed1ab_0    conda-forge\n",
      "mpg123                    1.32.3               h59595ed_0    conda-forge\n",
      "mpmath                    1.3.0                    pypi_0    pypi\n",
      "munkres                   1.1.4              pyh9f0ad1d_0    conda-forge\n",
      "mysql-common              8.0.33               hf1915f5_6    conda-forge\n",
      "mysql-libs                8.0.33               hca2cd23_6    conda-forge\n",
      "nbclient                  0.8.0              pyhd8ed1ab_0    conda-forge\n",
      "nbconvert-core            7.12.0             pyhd8ed1ab_0    conda-forge\n",
      "nbformat                  5.9.2              pyhd8ed1ab_0    conda-forge\n",
      "ncurses                   6.4                  h6a678d5_0  \n",
      "nest-asyncio              1.5.8              pyhd8ed1ab_0    conda-forge\n",
      "nettle                    3.9.1                h7ab15ed_0    conda-forge\n",
      "networkx                  3.1                      pypi_0    pypi\n",
      "notebook-shim             0.2.3              pyhd8ed1ab_0    conda-forge\n",
      "nspr                      4.35                 h27087fc_0    conda-forge\n",
      "nss                       3.96                 h1d7d5a4_0    conda-forge\n",
      "numpy                     1.24.4           py38h59b608b_0    conda-forge\n",
      "nvidia-cublas-cu12        12.1.3.1                 pypi_0    pypi\n",
      "nvidia-cuda-cupti-cu12    12.1.105                 pypi_0    pypi\n",
      "nvidia-cuda-nvrtc-cu12    12.1.105                 pypi_0    pypi\n",
      "nvidia-cuda-runtime-cu12  12.1.105                 pypi_0    pypi\n",
      "nvidia-cudnn-cu12         8.9.2.26                 pypi_0    pypi\n",
      "nvidia-cufft-cu12         11.0.2.54                pypi_0    pypi\n",
      "nvidia-curand-cu12        10.3.2.106               pypi_0    pypi\n",
      "nvidia-cusolver-cu12      11.4.5.107               pypi_0    pypi\n",
      "nvidia-cusparse-cu12      12.1.0.106               pypi_0    pypi\n",
      "nvidia-nccl-cu12          2.18.1                   pypi_0    pypi\n",
      "nvidia-nvjitlink-cu12     12.3.101                 pypi_0    pypi\n",
      "nvidia-nvtx-cu12          12.1.105                 pypi_0    pypi\n",
      "ocl-icd                   2.3.1                h7f98852_0    conda-forge\n",
      "ocl-icd-system            1.0.0                         1    conda-forge\n",
      "opencv                    4.8.1            py38hcdeea67_5    conda-forge\n",
      "openh264                  2.4.0                h59595ed_0    conda-forge\n",
      "openjpeg                  2.5.0                h488ebb8_3    conda-forge\n",
      "openssl                   3.2.0                hd590300_1    conda-forge\n",
      "overrides                 7.4.0              pyhd8ed1ab_0    conda-forge\n",
      "p11-kit                   0.24.1               hc5aa10d_0    conda-forge\n",
      "packaging                 23.2               pyhd8ed1ab_0    conda-forge\n",
      "pandas                    2.0.3            py38h01efb38_1    conda-forge\n",
      "pandocfilters             1.5.0              pyhd8ed1ab_0    conda-forge\n",
      "parso                     0.8.3              pyhd8ed1ab_0    conda-forge\n",
      "patsy                     0.5.4              pyhd8ed1ab_0    conda-forge\n",
      "pcre2                     10.42                hcad00b1_0    conda-forge\n",
      "pexpect                   4.8.0              pyh1a96a4e_2    conda-forge\n",
      "pickleshare               0.7.5                   py_1003    conda-forge\n",
      "pillow                    10.1.0           py38ha43c96d_0    conda-forge\n",
      "pip                       23.3.1           py38h06a4308_0  \n",
      "pixman                    0.42.2               h59595ed_0    conda-forge\n",
      "pkgutil-resolve-name      1.3.10             pyhd8ed1ab_1    conda-forge\n",
      "platformdirs              4.1.0              pyhd8ed1ab_0    conda-forge\n",
      "pooch                     1.8.0              pyhd8ed1ab_0    conda-forge\n",
      "prometheus_client         0.19.0             pyhd8ed1ab_0    conda-forge\n",
      "prompt-toolkit            3.0.42             pyha770c72_0    conda-forge\n",
      "prompt_toolkit            3.0.42               hd8ed1ab_0    conda-forge\n",
      "psutil                    5.9.5            py38h01eb140_1    conda-forge\n",
      "pthread-stubs             0.4               h36c2ea0_1001    conda-forge\n",
      "ptyprocess                0.7.0              pyhd3deb0d_0    conda-forge\n",
      "pugixml                   1.14                 h59595ed_0    conda-forge\n",
      "pulseaudio-client         16.1                 hb77b528_5    conda-forge\n",
      "pure_eval                 0.2.2              pyhd8ed1ab_0    conda-forge\n",
      "py-cpuinfo                9.0.0              pyhd8ed1ab_0    conda-forge\n",
      "py-opencv                 4.8.1            py38hb04e15d_5    conda-forge\n",
      "pycparser                 2.21               pyhd8ed1ab_0    conda-forge\n",
      "pygments                  2.17.2             pyhd8ed1ab_0    conda-forge\n",
      "pyparsing                 3.1.1              pyhd8ed1ab_0    conda-forge\n",
      "pysocks                   1.7.1              pyha2e5f31_6    conda-forge\n",
      "python                    3.8.18               h955ad1f_0  \n",
      "python-dateutil           2.8.2              pyhd8ed1ab_0    conda-forge\n",
      "python-fastjsonschema     2.19.0             pyhd8ed1ab_0    conda-forge\n",
      "python-json-logger        2.0.7              pyhd8ed1ab_0    conda-forge\n",
      "python-tzdata             2023.3             pyhd8ed1ab_0    conda-forge\n",
      "python_abi                3.8                      2_cp38    conda-forge\n",
      "pytz                      2023.3.post1       pyhd8ed1ab_0    conda-forge\n",
      "pyyaml                    6.0.1            py38h01eb140_1    conda-forge\n",
      "pyzmq                     25.1.0           py38h6a678d5_0  \n",
      "qt-main                   5.15.8              h450f30e_18    conda-forge\n",
      "readline                  8.2                  h5eee18b_0  \n",
      "referencing               0.32.0             pyhd8ed1ab_0    conda-forge\n",
      "requests                  2.31.0             pyhd8ed1ab_0    conda-forge\n",
      "rfc3339-validator         0.1.4              pyhd8ed1ab_0    conda-forge\n",
      "rfc3986-validator         0.1.1              pyh9f0ad1d_0    conda-forge\n",
      "rpds-py                   0.13.2           py38h0cc4f7c_0    conda-forge\n",
      "scipy                     1.10.1           py38h59b608b_3    conda-forge\n",
      "seaborn                   0.13.0               hd8ed1ab_0    conda-forge\n",
      "seaborn-base              0.13.0             pyhd8ed1ab_0    conda-forge\n",
      "send2trash                1.8.2              pyh41d4057_0    conda-forge\n",
      "setuptools                68.2.2           py38h06a4308_0  \n",
      "six                       1.16.0             pyh6c4a22f_0    conda-forge\n",
      "snappy                    1.1.10               h9fff704_0    conda-forge\n",
      "sniffio                   1.3.0              pyhd8ed1ab_0    conda-forge\n",
      "soupsieve                 2.5                pyhd8ed1ab_1    conda-forge\n",
      "sqlite                    3.41.2               h5eee18b_0  \n",
      "stack_data                0.6.2              pyhd8ed1ab_0    conda-forge\n",
      "statsmodels               0.14.1           py38h7f0c24c_0    conda-forge\n",
      "svt-av1                   1.8.0                h59595ed_0    conda-forge\n",
      "sympy                     1.12                     pypi_0    pypi\n",
      "tbb                       2021.7.0             h924138e_0    conda-forge\n",
      "terminado                 0.18.0             pyh0d859eb_0    conda-forge\n",
      "thop                      0.1.1-2209072238          pypi_0    pypi\n",
      "tinycss2                  1.2.1              pyhd8ed1ab_0    conda-forge\n",
      "tk                        8.6.13          noxft_h4845f30_101    conda-forge\n",
      "tomli                     2.0.1              pyhd8ed1ab_0    conda-forge\n",
      "torch                     2.1.2                    pypi_0    pypi\n",
      "torchvision               0.16.2                   pypi_0    pypi\n",
      "tornado                   6.3.3            py38h01eb140_1    conda-forge\n",
      "tqdm                      4.66.1             pyhd8ed1ab_0    conda-forge\n",
      "traitlets                 5.14.0             pyhd8ed1ab_0    conda-forge\n",
      "triton                    2.1.0                    pypi_0    pypi\n",
      "types-python-dateutil     2.8.19.14          pyhd8ed1ab_0    conda-forge\n",
      "typing-extensions         4.9.0                hd8ed1ab_0    conda-forge\n",
      "typing_extensions         4.9.0              pyha770c72_0    conda-forge\n",
      "typing_utils              0.1.0              pyhd8ed1ab_0    conda-forge\n",
      "ultralytics               8.0.227            pyhf3ec037_0    conda-forge\n",
      "unicodedata2              15.1.0           py38h01eb140_0    conda-forge\n",
      "uri-template              1.3.0              pyhd8ed1ab_0    conda-forge\n",
      "urllib3                   2.1.0              pyhd8ed1ab_0    conda-forge\n",
      "wcwidth                   0.2.12             pyhd8ed1ab_0    conda-forge\n",
      "webcolors                 1.13               pyhd8ed1ab_0    conda-forge\n",
      "webencodings              0.5.1              pyhd8ed1ab_2    conda-forge\n",
      "websocket-client          1.7.0              pyhd8ed1ab_0    conda-forge\n",
      "wheel                     0.41.2           py38h06a4308_0  \n",
      "x264                      1!164.3095           h166bdaf_2    conda-forge\n",
      "x265                      3.5                  h924138e_3    conda-forge\n",
      "xcb-util                  0.4.0                hd590300_1    conda-forge\n",
      "xcb-util-image            0.4.0                h8ee46fc_1    conda-forge\n",
      "xcb-util-keysyms          0.4.0                h8ee46fc_1    conda-forge\n",
      "xcb-util-renderutil       0.3.9                hd590300_1    conda-forge\n",
      "xcb-util-wm               0.4.1                h8ee46fc_1    conda-forge\n",
      "xkeyboard-config          2.40                 hd590300_0    conda-forge\n",
      "xorg-fixesproto           5.0               h7f98852_1002    conda-forge\n",
      "xorg-inputproto           2.3.2             h7f98852_1002    conda-forge\n",
      "xorg-kbproto              1.0.7             h7f98852_1002    conda-forge\n",
      "xorg-libice               1.1.1                hd590300_0    conda-forge\n",
      "xorg-libsm                1.2.4                h7391055_0    conda-forge\n",
      "xorg-libx11               1.8.7                h8ee46fc_0    conda-forge\n",
      "xorg-libxau               1.0.11               hd590300_0    conda-forge\n",
      "xorg-libxdmcp             1.1.3                h7f98852_0    conda-forge\n",
      "xorg-libxext              1.3.4                h0b41bf4_2    conda-forge\n",
      "xorg-libxfixes            5.0.3             h7f98852_1004    conda-forge\n",
      "xorg-libxi                1.7.10               h7f98852_0    conda-forge\n",
      "xorg-libxrender           0.9.11               hd590300_0    conda-forge\n",
      "xorg-renderproto          0.11.1            h7f98852_1002    conda-forge\n",
      "xorg-xextproto            7.3.0             h0b41bf4_1003    conda-forge\n",
      "xorg-xf86vidmodeproto     2.3.1             h7f98852_1002    conda-forge\n",
      "xorg-xproto               7.0.31            h7f98852_1007    conda-forge\n",
      "xz                        5.4.5                h5eee18b_0  \n",
      "yaml                      0.2.5                h7f98852_2    conda-forge\n",
      "zeromq                    4.3.4                h9c3ff4c_1    conda-forge\n",
      "zipp                      3.17.0             pyhd8ed1ab_0    conda-forge\n",
      "zlib                      1.2.13               hd590300_5    conda-forge\n",
      "zstd                      1.5.5                hfc55251_0    conda-forge\n"
     ]
    }
   ],
   "source": [
    "!conda list"
   ]
  },
  {
   "cell_type": "markdown",
   "metadata": {},
   "source": [
    "# Import Dataset"
   ]
  },
  {
   "cell_type": "code",
   "execution_count": 6,
   "metadata": {},
   "outputs": [
    {
     "name": "stdout",
     "output_type": "stream",
     "text": [
      "loading Roboflow workspace...\n",
      "loading Roboflow project...\n"
     ]
    },
    {
     "name": "stderr",
     "output_type": "stream",
     "text": [
      "IProgress not found. Please update jupyter and ipywidgets. See https://ipywidgets.readthedocs.io/en/stable/user_install.html\n"
     ]
    },
    {
     "name": "stdout",
     "output_type": "stream",
     "text": [
      "Dependency ultralytics==8.0.134 is required but found version=8.0.201, to fix: `pip install ultralytics==8.0.134`\n"
     ]
    },
    {
     "name": "stderr",
     "output_type": "stream",
     "text": [
      "Downloading Dataset Version Zip in strawberry-1 to yolov8:: 100%|██████████| 234794/234794 [00:12<00:00, 18318.19it/s]"
     ]
    },
    {
     "name": "stdout",
     "output_type": "stream",
     "text": [
      "\n"
     ]
    },
    {
     "name": "stderr",
     "output_type": "stream",
     "text": [
      "\n",
      "Extracting Dataset Version Zip to strawberry-1 in yolov8:: 100%|██████████| 4234/4234 [00:06<00:00, 675.77it/s]\n"
     ]
    }
   ],
   "source": [
    "from roboflow import Roboflow\n",
    "rf = Roboflow(api_key=\"v6wanvB3hqfanMKcyxdL\")\n",
    "project = rf.workspace(\"5060tanapoowapat-yumsarn\").project(\"strawberry-2vs5u\")\n",
    "dataset = project.version(1).download(\"yolov8\")\n"
   ]
  },
  {
   "cell_type": "code",
   "execution_count": 4,
   "metadata": {},
   "outputs": [
    {
     "name": "stdout",
     "output_type": "stream",
     "text": [
      "/bin/bash: /home/tyomsarn/miniconda3/envs/ml-jupyter/lib/libtinfo.so.6: no version information available (required by /bin/bash)\n",
      "datasets       example-run-jupyter.sh  model\t      requirements.txt\n",
      "err_69509.txt  img\t\t       out_69509.txt  runs\n"
     ]
    }
   ],
   "source": [
    "!ls"
   ]
  },
  {
   "cell_type": "markdown",
   "metadata": {},
   "source": [
    "# Test Pretrain model"
   ]
  },
  {
   "cell_type": "code",
   "execution_count": 2,
   "metadata": {},
   "outputs": [
    {
     "name": "stdout",
     "output_type": "stream",
     "text": [
      "/bin/bash: /home/dip_33/miniconda3/envs/ml-jupyter/lib/libtinfo.so.6: no version information available (required by /bin/bash)\n",
      "^C\n"
     ]
    }
   ],
   "source": [
    "!yolo predict model=yolov8n.pt source='https://ultralytics.com/images/bus.jpg'"
   ]
  },
  {
   "cell_type": "code",
   "execution_count": 8,
   "metadata": {},
   "outputs": [
    {
     "name": "stdout",
     "output_type": "stream",
     "text": [
      " Volume in drive D is sometime\n",
      " Volume Serial Number is 8EBF-E785\n",
      "\n",
      " Directory of d:\\work\\Project\n",
      "\n",
      "01/12/2024  09:59 PM    <DIR>          .\n",
      "01/12/2024  09:59 PM    <DIR>          ..\n",
      "10/28/2023  10:44 PM    <DIR>          archive\n",
      "10/28/2023  09:59 PM        56,651,867 archive.zip\n",
      "12/18/2023  11:59 AM    <DIR>          d\n",
      "12/20/2023  09:51 PM    <DIR>          images\n",
      "10/27/2023  01:21 PM    <DIR>          models\n",
      "10/26/2023  06:50 PM             3,928 output.png\n",
      "12/20/2023  11:55 PM         8,862,961 project.ipynb\n",
      "01/12/2024  10:09 PM           371,344 project_train.ipynb\n",
      "10/27/2023  05:49 PM            83,347 results.jpg\n",
      "01/11/2024  09:33 PM         6,866,774 test.ipynb\n",
      "12/23/2023  07:00 PM                 0 test.py\n",
      "10/27/2023  11:47 PM    <DIR>          video\n",
      "01/12/2024  09:59 PM         7,054,355 yolov8n-seg.pt\n",
      "               8 File(s)     79,894,576 bytes\n",
      "               7 Dir(s)  498,064,379,904 bytes free\n"
     ]
    }
   ],
   "source": [
    "%ls"
   ]
  },
  {
   "cell_type": "code",
   "execution_count": 2,
   "metadata": {},
   "outputs": [
    {
     "name": "stdout",
     "output_type": "stream",
     "text": [
      "\u001b[34m\u001b[1mTuner: \u001b[0mInitialized Tuner instance with 'tune_dir=runs/segment/tune'\n",
      "\u001b[34m\u001b[1mTuner: \u001b[0m💡 Learn about tuning at https://docs.ultralytics.com/guides/hyperparameter-tuning\n",
      "\u001b[34m\u001b[1mTuner: \u001b[0mStarting iteration 1/100 with hyperparameters: {'lr0': 0.01, 'lrf': 0.01, 'momentum': 0.937, 'weight_decay': 0.0005, 'warmup_epochs': 3.0, 'warmup_momentum': 0.8, 'box': 7.5, 'cls': 0.5, 'dfl': 1.5, 'hsv_h': 0.015, 'hsv_s': 0.7, 'hsv_v': 0.4, 'degrees': 0.0, 'translate': 0.1, 'scale': 0.5, 'shear': 0.0, 'perspective': 0.0, 'flipud': 0.0, 'fliplr': 0.5, 'mosaic': 1.0, 'mixup': 0.0, 'copy_paste': 0.0}\n",
      "New https://pypi.org/project/ultralytics/8.1.0 available 😃 Update with 'pip install -U ultralytics'\n",
      "Ultralytics YOLOv8.0.227 🚀 Python-3.8.18 torch-2.1.2+cu121 CUDA:0 (NVIDIA A100-SXM4-40GB, 40339MiB)\n",
      "\u001b[34m\u001b[1mengine/trainer: \u001b[0mtask=segment, mode=train, model=yolov8n-seg.pt, data=./datasets/data.yaml, epochs=30, patience=50, batch=4, imgsz=640, save=False, save_period=-1, cache=False, device=None, workers=2, project=None, name=train, exist_ok=False, pretrained=True, optimizer=AdamW, verbose=True, seed=0, deterministic=True, single_cls=False, rect=False, cos_lr=False, close_mosaic=10, resume=False, amp=True, fraction=1.0, profile=False, freeze=None, overlap_mask=True, mask_ratio=4, dropout=0.0, val=False, split=val, save_json=False, save_hybrid=False, conf=None, iou=0.7, max_det=300, half=False, dnn=False, plots=False, source=None, vid_stride=1, stream_buffer=False, visualize=False, augment=False, agnostic_nms=False, classes=None, retina_masks=False, show=False, save_frames=False, save_txt=False, save_conf=False, save_crop=False, show_labels=True, show_conf=True, show_boxes=True, line_width=None, format=torchscript, keras=False, optimize=False, int8=False, dynamic=False, simplify=False, opset=None, workspace=4, nms=False, lr0=0.01, lrf=0.01, momentum=0.937, weight_decay=0.0005, warmup_epochs=3.0, warmup_momentum=0.8, warmup_bias_lr=0.1, box=7.5, cls=0.5, dfl=1.5, pose=12.0, kobj=1.0, label_smoothing=0.0, nbs=64, hsv_h=0.015, hsv_s=0.7, hsv_v=0.4, degrees=0.0, translate=0.1, scale=0.5, shear=0.0, perspective=0.0, flipud=0.0, fliplr=0.5, mosaic=1.0, mixup=0.0, copy_paste=0.0, cfg=None, tracker=botsort.yaml, save_dir=runs/segment/train\n",
      "Overriding model.yaml nc=80 with nc=1\n",
      "\n",
      "                   from  n    params  module                                       arguments                     \n",
      "  0                  -1  1       464  ultralytics.nn.modules.conv.Conv             [3, 16, 3, 2]                 \n",
      "  1                  -1  1      4672  ultralytics.nn.modules.conv.Conv             [16, 32, 3, 2]                \n",
      "  2                  -1  1      7360  ultralytics.nn.modules.block.C2f             [32, 32, 1, True]             \n",
      "  3                  -1  1     18560  ultralytics.nn.modules.conv.Conv             [32, 64, 3, 2]                \n",
      "  4                  -1  2     49664  ultralytics.nn.modules.block.C2f             [64, 64, 2, True]             \n",
      "  5                  -1  1     73984  ultralytics.nn.modules.conv.Conv             [64, 128, 3, 2]               \n",
      "  6                  -1  2    197632  ultralytics.nn.modules.block.C2f             [128, 128, 2, True]           \n",
      "  7                  -1  1    295424  ultralytics.nn.modules.conv.Conv             [128, 256, 3, 2]              \n",
      "  8                  -1  1    460288  ultralytics.nn.modules.block.C2f             [256, 256, 1, True]           \n",
      "  9                  -1  1    164608  ultralytics.nn.modules.block.SPPF            [256, 256, 5]                 \n",
      " 10                  -1  1         0  torch.nn.modules.upsampling.Upsample         [None, 2, 'nearest']          \n",
      " 11             [-1, 6]  1         0  ultralytics.nn.modules.conv.Concat           [1]                           \n",
      " 12                  -1  1    148224  ultralytics.nn.modules.block.C2f             [384, 128, 1]                 \n",
      " 13                  -1  1         0  torch.nn.modules.upsampling.Upsample         [None, 2, 'nearest']          \n",
      " 14             [-1, 4]  1         0  ultralytics.nn.modules.conv.Concat           [1]                           \n",
      " 15                  -1  1     37248  ultralytics.nn.modules.block.C2f             [192, 64, 1]                  \n",
      " 16                  -1  1     36992  ultralytics.nn.modules.conv.Conv             [64, 64, 3, 2]                \n",
      " 17            [-1, 12]  1         0  ultralytics.nn.modules.conv.Concat           [1]                           \n",
      " 18                  -1  1    123648  ultralytics.nn.modules.block.C2f             [192, 128, 1]                 \n",
      " 19                  -1  1    147712  ultralytics.nn.modules.conv.Conv             [128, 128, 3, 2]              \n",
      " 20             [-1, 9]  1         0  ultralytics.nn.modules.conv.Concat           [1]                           \n",
      " 21                  -1  1    493056  ultralytics.nn.modules.block.C2f             [384, 256, 1]                 \n",
      " 22        [15, 18, 21]  1   1004275  ultralytics.nn.modules.head.Segment          [1, 32, 64, [64, 128, 256]]   \n",
      "YOLOv8n-seg summary: 261 layers, 3263811 parameters, 3263795 gradients, 12.1 GFLOPs\n",
      "\n",
      "Transferred 381/417 items from pretrained weights\n",
      "Freezing layer 'model.22.dfl.conv.weight'\n",
      "\u001b[34m\u001b[1mAMP: \u001b[0mrunning Automatic Mixed Precision (AMP) checks with YOLOv8n...\n",
      "Downloading https://github.com/ultralytics/assets/releases/download/v0.0.0/yolov8n.pt to 'yolov8n.pt'...\n"
     ]
    },
    {
     "name": "stderr",
     "output_type": "stream",
     "text": [
      "100%|██████████| 6.23M/6.23M [00:00<00:00, 265MB/s]"
     ]
    },
    {
     "name": "stdout",
     "output_type": "stream",
     "text": [
      "WARNING ⚠️ NMS time limit 0.550s exceeded\n",
      "\u001b[34m\u001b[1mAMP: \u001b[0mchecks passed ✅\n"
     ]
    },
    {
     "name": "stderr",
     "output_type": "stream",
     "text": [
      "\n",
      "\u001b[34m\u001b[1mtrain: \u001b[0mScanning /home/tyomsarn/jupyter-workspace/datasets/train/labels.cache... 3006 images, 9 backgrounds, 0 corrupt: 100%|██████████| 3006/3006 [00:00<?, ?it/s]\n",
      "\u001b[34m\u001b[1mval: \u001b[0mScanning /home/tyomsarn/jupyter-workspace/datasets/valid/labels.cache... 659 images, 2 backgrounds, 0 corrupt: 100%|██████████| 659/659 [00:00<?, ?it/s]\n",
      "/home/tyomsarn/miniconda3/envs/ml-jupyter/lib/python3.8/site-packages/torch/utils/data/dataloader.py:557: UserWarning: This DataLoader will create 4 worker processes in total. Our suggested max number of worker in current system is 2, which is smaller than what this DataLoader is going to create. Please be aware that excessive worker creation might get DataLoader running slow or even freeze, lower the worker number to avoid potential slowness/freeze if necessary.\n",
      "  warnings.warn(_create_warning_msg(\n",
      "  0%|          | 0/752 [00:00<?, ?it/s]"
     ]
    },
    {
     "name": "stdout",
     "output_type": "stream",
     "text": [
      "\u001b[34m\u001b[1mval: \u001b[0mWARNING ⚠️ /home/tyomsarn/jupyter-workspace/datasets/valid/images/1039_png.rf.64629ab04acfc99b80e3eb2074e14b04.jpg: 1 duplicate labels removed\n",
      "\u001b[34m\u001b[1moptimizer:\u001b[0m AdamW(lr=0.01, momentum=0.937) with parameter groups 66 weight(decay=0.0), 77 weight(decay=0.0005), 76 bias(decay=0.0)\n",
      "Image sizes 640 train, 640 val\n",
      "Using 2 dataloader workers\n",
      "Logging results to \u001b[1mruns/segment/train\u001b[0m\n",
      "Starting training for 30 epochs...\n",
      "\n",
      "      Epoch    GPU_mem   box_loss   seg_loss   cls_loss   dfl_loss  Instances       Size\n"
     ]
    },
    {
     "name": "stderr",
     "output_type": "stream",
     "text": [
      "       1/30      1.03G     0.7224     0.9298     0.8609     0.9799         12        640: 100%|██████████| 752/752 [01:19<00:00,  9.42it/s]\n",
      "       2/30      1.03G     0.7151       1.03     0.7515     0.9937         18        640:   0%|          | 1/752 [00:00<01:45,  7.10it/s]"
     ]
    },
    {
     "name": "stdout",
     "output_type": "stream",
     "text": [
      "\n",
      "      Epoch    GPU_mem   box_loss   seg_loss   cls_loss   dfl_loss  Instances       Size\n"
     ]
    },
    {
     "name": "stderr",
     "output_type": "stream",
     "text": [
      "       2/30      1.05G     0.6904     0.8256     0.7166     0.9775          8        640: 100%|██████████| 752/752 [01:11<00:00, 10.47it/s]\n",
      "  0%|          | 0/752 [00:00<?, ?it/s]"
     ]
    },
    {
     "name": "stdout",
     "output_type": "stream",
     "text": [
      "\n",
      "      Epoch    GPU_mem   box_loss   seg_loss   cls_loss   dfl_loss  Instances       Size\n"
     ]
    },
    {
     "name": "stderr",
     "output_type": "stream",
     "text": [
      "       3/30      1.05G     0.6231     0.7636     0.6479     0.9475         11        640: 100%|██████████| 752/752 [01:10<00:00, 10.59it/s]"
     ]
    },
    {
     "name": "stdout",
     "output_type": "stream",
     "text": [
      "\n",
      "      Epoch    GPU_mem   box_loss   seg_loss   cls_loss   dfl_loss  Instances       Size\n"
     ]
    },
    {
     "name": "stderr",
     "output_type": "stream",
     "text": [
      "\n",
      "       4/30      1.05G     0.5888      0.718     0.6149     0.9386          4        640: 100%|██████████| 752/752 [01:10<00:00, 10.62it/s]\n",
      "  0%|          | 0/752 [00:00<?, ?it/s]"
     ]
    },
    {
     "name": "stdout",
     "output_type": "stream",
     "text": [
      "\n",
      "      Epoch    GPU_mem   box_loss   seg_loss   cls_loss   dfl_loss  Instances       Size\n"
     ]
    },
    {
     "name": "stderr",
     "output_type": "stream",
     "text": [
      "       5/30      1.05G     0.5527     0.6646     0.5845     0.9194          5        640: 100%|██████████| 752/752 [01:10<00:00, 10.63it/s]\n",
      "  0%|          | 0/752 [00:00<?, ?it/s]"
     ]
    },
    {
     "name": "stdout",
     "output_type": "stream",
     "text": [
      "\n",
      "      Epoch    GPU_mem   box_loss   seg_loss   cls_loss   dfl_loss  Instances       Size\n"
     ]
    },
    {
     "name": "stderr",
     "output_type": "stream",
     "text": [
      "       6/30      1.05G     0.5302     0.6536     0.5549     0.9121         10        640: 100%|██████████| 752/752 [01:10<00:00, 10.63it/s]\n",
      "       7/30      1.03G      0.887      1.364     0.7134       1.21         16        640:   0%|          | 1/752 [00:00<01:19,  9.40it/s]"
     ]
    },
    {
     "name": "stdout",
     "output_type": "stream",
     "text": [
      "\n",
      "      Epoch    GPU_mem   box_loss   seg_loss   cls_loss   dfl_loss  Instances       Size\n"
     ]
    },
    {
     "name": "stderr",
     "output_type": "stream",
     "text": [
      "       7/30      1.05G     0.5203     0.6291     0.5393     0.9088         17        640: 100%|██████████| 752/752 [01:10<00:00, 10.62it/s]\n",
      "       8/30      1.03G     0.5794      0.962     0.7053     0.8839         23        640:   0%|          | 1/752 [00:00<01:17,  9.67it/s]"
     ]
    },
    {
     "name": "stdout",
     "output_type": "stream",
     "text": [
      "\n",
      "      Epoch    GPU_mem   box_loss   seg_loss   cls_loss   dfl_loss  Instances       Size\n"
     ]
    },
    {
     "name": "stderr",
     "output_type": "stream",
     "text": [
      "       8/30      1.05G     0.5028     0.6012     0.5175     0.9023         11        640: 100%|██████████| 752/752 [01:10<00:00, 10.65it/s]\n",
      "       9/30      1.04G     0.4982     0.4427     0.6439     0.8378          4        640:   0%|          | 1/752 [00:00<01:22,  9.08it/s]"
     ]
    },
    {
     "name": "stdout",
     "output_type": "stream",
     "text": [
      "\n",
      "      Epoch    GPU_mem   box_loss   seg_loss   cls_loss   dfl_loss  Instances       Size\n"
     ]
    },
    {
     "name": "stderr",
     "output_type": "stream",
     "text": [
      "       9/30      1.05G     0.4922     0.5975      0.523     0.8987          2        640: 100%|██████████| 752/752 [01:10<00:00, 10.62it/s]\n",
      "  0%|          | 0/752 [00:00<?, ?it/s]"
     ]
    },
    {
     "name": "stdout",
     "output_type": "stream",
     "text": [
      "\n",
      "      Epoch    GPU_mem   box_loss   seg_loss   cls_loss   dfl_loss  Instances       Size\n"
     ]
    },
    {
     "name": "stderr",
     "output_type": "stream",
     "text": [
      "      10/30      1.05G     0.4768     0.5757     0.4988     0.8923         21        640: 100%|██████████| 752/752 [01:10<00:00, 10.66it/s]\n",
      "      11/30      1.03G     0.5572     0.7108     0.4386     0.9043         19        640:   0%|          | 1/752 [00:00<01:18,  9.54it/s]"
     ]
    },
    {
     "name": "stdout",
     "output_type": "stream",
     "text": [
      "\n",
      "      Epoch    GPU_mem   box_loss   seg_loss   cls_loss   dfl_loss  Instances       Size\n"
     ]
    },
    {
     "name": "stderr",
     "output_type": "stream",
     "text": [
      "      11/30      1.05G     0.4509     0.5572     0.4803     0.8856          4        640: 100%|██████████| 752/752 [01:10<00:00, 10.62it/s]\n",
      "      12/30      1.03G     0.4367      0.462     0.5325     0.8428         33        640:   0%|          | 1/752 [00:00<01:16,  9.78it/s]"
     ]
    },
    {
     "name": "stdout",
     "output_type": "stream",
     "text": [
      "\n",
      "      Epoch    GPU_mem   box_loss   seg_loss   cls_loss   dfl_loss  Instances       Size\n"
     ]
    },
    {
     "name": "stderr",
     "output_type": "stream",
     "text": [
      "      12/30      1.05G     0.4474     0.5477     0.4828     0.8847          8        640: 100%|██████████| 752/752 [01:10<00:00, 10.64it/s]\n",
      "  0%|          | 0/752 [00:00<?, ?it/s]"
     ]
    },
    {
     "name": "stdout",
     "output_type": "stream",
     "text": [
      "\n",
      "      Epoch    GPU_mem   box_loss   seg_loss   cls_loss   dfl_loss  Instances       Size\n"
     ]
    },
    {
     "name": "stderr",
     "output_type": "stream",
     "text": [
      "      13/30      1.05G      0.441     0.5371     0.4681     0.8823         15        640: 100%|██████████| 752/752 [01:10<00:00, 10.65it/s]\n",
      "  0%|          | 0/752 [00:00<?, ?it/s]"
     ]
    },
    {
     "name": "stdout",
     "output_type": "stream",
     "text": [
      "\n",
      "      Epoch    GPU_mem   box_loss   seg_loss   cls_loss   dfl_loss  Instances       Size\n"
     ]
    },
    {
     "name": "stderr",
     "output_type": "stream",
     "text": [
      "      14/30      1.05G     0.4382      0.531     0.4561     0.8829         11        640: 100%|██████████| 752/752 [01:10<00:00, 10.64it/s]\n",
      "      15/30      1.03G     0.4304     0.4246     0.4693     0.8844         16        640:   0%|          | 0/752 [00:00<?, ?it/s]"
     ]
    },
    {
     "name": "stdout",
     "output_type": "stream",
     "text": [
      "\n",
      "      Epoch    GPU_mem   box_loss   seg_loss   cls_loss   dfl_loss  Instances       Size\n"
     ]
    },
    {
     "name": "stderr",
     "output_type": "stream",
     "text": [
      "      15/30      1.05G      0.431     0.5323     0.4372     0.8878         24        640:  21%|██        | 158/752 [00:14<00:55, 10.77it/s]"
     ]
    }
   ],
   "source": [
    "#hyper parameter\n",
    "from ultralytics import YOLO\n",
    "\n",
    "# Initialize the YOLO model\n",
    "model = YOLO('yolov8n.pt')\n",
    "\n",
    "# Tune hyperparameters on COCO8 for 100 epochs\n",
    "model.tune(data='./datasets/data.yaml', imgsz=640,epochs=30, iterations=100, optimizer='AdamW', plots=False, save=False, val=False, batch=4, workers=2)"
   ]
  },
  {
   "cell_type": "markdown",
   "metadata": {},
   "source": [
    "# Start Train"
   ]
  },
  {
   "cell_type": "code",
   "execution_count": 1,
   "metadata": {},
   "outputs": [
    {
     "name": "stdout",
     "output_type": "stream",
     "text": [
      "Downloading https://github.com/ultralytics/assets/releases/download/v0.0.0/yolov8n.pt to 'yolov8n.pt'...\n"
     ]
    },
    {
     "name": "stderr",
     "output_type": "stream",
     "text": [
      "100%|██████████| 6.23M/6.23M [00:00<00:00, 77.8MB/s]\n"
     ]
    },
    {
     "name": "stdout",
     "output_type": "stream",
     "text": [
      "New https://pypi.org/project/ultralytics/8.1.9 available 😃 Update with 'pip install -U ultralytics'\n",
      "Ultralytics YOLOv8.0.227 🚀 Python-3.8.18 torch-2.1.2+cu121 CUDA:0 (NVIDIA A100-SXM4-40GB, 40339MiB)\n",
      "\u001b[34m\u001b[1mengine/trainer: \u001b[0mtask=detect, mode=train, model=yolov8n.pt, data=./datasets/data.yaml, epochs=100, patience=50, batch=4, imgsz=640, save=True, save_period=-1, cache=False, device=0, workers=2, project=None, name=train, exist_ok=False, pretrained=True, optimizer=auto, verbose=True, seed=0, deterministic=True, single_cls=False, rect=False, cos_lr=False, close_mosaic=10, resume=False, amp=True, fraction=1.0, profile=False, freeze=None, overlap_mask=True, mask_ratio=4, dropout=0.0, val=True, split=val, save_json=False, save_hybrid=False, conf=None, iou=0.7, max_det=300, half=False, dnn=False, plots=True, source=None, vid_stride=1, stream_buffer=False, visualize=False, augment=False, agnostic_nms=False, classes=None, retina_masks=False, show=False, save_frames=False, save_txt=False, save_conf=False, save_crop=False, show_labels=True, show_conf=True, show_boxes=True, line_width=None, format=torchscript, keras=False, optimize=False, int8=False, dynamic=False, simplify=False, opset=None, workspace=4, nms=False, lr0=0.01, lrf=0.01, momentum=0.937, weight_decay=0.0005, warmup_epochs=3.0, warmup_momentum=0.8, warmup_bias_lr=0.1, box=7.5, cls=0.5, dfl=1.5, pose=12.0, kobj=1.0, label_smoothing=0.0, nbs=64, hsv_h=0.015, hsv_s=0.7, hsv_v=0.4, degrees=0.0, translate=0.1, scale=0.5, shear=0.0, perspective=0.0, flipud=0.0, fliplr=0.5, mosaic=1.0, mixup=0.0, copy_paste=0.0, cfg=None, tracker=botsort.yaml, save_dir=runs/detect/train\n",
      "Overriding model.yaml nc=80 with nc=1\n",
      "\n",
      "                   from  n    params  module                                       arguments                     \n",
      "  0                  -1  1       464  ultralytics.nn.modules.conv.Conv             [3, 16, 3, 2]                 \n",
      "  1                  -1  1      4672  ultralytics.nn.modules.conv.Conv             [16, 32, 3, 2]                \n",
      "  2                  -1  1      7360  ultralytics.nn.modules.block.C2f             [32, 32, 1, True]             \n",
      "  3                  -1  1     18560  ultralytics.nn.modules.conv.Conv             [32, 64, 3, 2]                \n",
      "  4                  -1  2     49664  ultralytics.nn.modules.block.C2f             [64, 64, 2, True]             \n",
      "  5                  -1  1     73984  ultralytics.nn.modules.conv.Conv             [64, 128, 3, 2]               \n",
      "  6                  -1  2    197632  ultralytics.nn.modules.block.C2f             [128, 128, 2, True]           \n",
      "  7                  -1  1    295424  ultralytics.nn.modules.conv.Conv             [128, 256, 3, 2]              \n",
      "  8                  -1  1    460288  ultralytics.nn.modules.block.C2f             [256, 256, 1, True]           \n",
      "  9                  -1  1    164608  ultralytics.nn.modules.block.SPPF            [256, 256, 5]                 \n",
      " 10                  -1  1         0  torch.nn.modules.upsampling.Upsample         [None, 2, 'nearest']          \n",
      " 11             [-1, 6]  1         0  ultralytics.nn.modules.conv.Concat           [1]                           \n",
      " 12                  -1  1    148224  ultralytics.nn.modules.block.C2f             [384, 128, 1]                 \n",
      " 13                  -1  1         0  torch.nn.modules.upsampling.Upsample         [None, 2, 'nearest']          \n",
      " 14             [-1, 4]  1         0  ultralytics.nn.modules.conv.Concat           [1]                           \n",
      " 15                  -1  1     37248  ultralytics.nn.modules.block.C2f             [192, 64, 1]                  \n",
      " 16                  -1  1     36992  ultralytics.nn.modules.conv.Conv             [64, 64, 3, 2]                \n",
      " 17            [-1, 12]  1         0  ultralytics.nn.modules.conv.Concat           [1]                           \n",
      " 18                  -1  1    123648  ultralytics.nn.modules.block.C2f             [192, 128, 1]                 \n",
      " 19                  -1  1    147712  ultralytics.nn.modules.conv.Conv             [128, 128, 3, 2]              \n",
      " 20             [-1, 9]  1         0  ultralytics.nn.modules.conv.Concat           [1]                           \n",
      " 21                  -1  1    493056  ultralytics.nn.modules.block.C2f             [384, 256, 1]                 \n",
      " 22        [15, 18, 21]  1    751507  ultralytics.nn.modules.head.Detect           [1, [64, 128, 256]]           \n",
      "Model summary: 225 layers, 3011043 parameters, 3011027 gradients, 8.2 GFLOPs\n",
      "\n",
      "Transferred 319/355 items from pretrained weights\n",
      "Freezing layer 'model.22.dfl.conv.weight'\n",
      "\u001b[34m\u001b[1mAMP: \u001b[0mrunning Automatic Mixed Precision (AMP) checks with YOLOv8n...\n",
      "WARNING ⚠️ NMS time limit 0.550s exceeded\n",
      "\u001b[34m\u001b[1mAMP: \u001b[0mchecks passed ✅\n"
     ]
    },
    {
     "name": "stderr",
     "output_type": "stream",
     "text": [
      "\u001b[34m\u001b[1mtrain: \u001b[0mScanning /home/tyomsarn/jupyter-workspace/datasets/train/labels.cache... 3006 images, 9 backgrounds, 0 corrupt: 100%|██████████| 3006/3006 [00:00<?, ?it/s]\n",
      "\u001b[34m\u001b[1mval: \u001b[0mScanning /home/tyomsarn/jupyter-workspace/datasets/valid/labels.cache... 659 images, 2 backgrounds, 0 corrupt: 100%|██████████| 659/659 [00:00<?, ?it/s]"
     ]
    },
    {
     "name": "stdout",
     "output_type": "stream",
     "text": [
      "\u001b[34m\u001b[1mval: \u001b[0mWARNING ⚠️ /home/tyomsarn/jupyter-workspace/datasets/valid/images/1039_png.rf.64629ab04acfc99b80e3eb2074e14b04.jpg: 1 duplicate labels removed\n"
     ]
    },
    {
     "name": "stderr",
     "output_type": "stream",
     "text": [
      "\n",
      "/home/tyomsarn/miniconda3/envs/ml-jupyter/lib/python3.8/site-packages/torch/utils/data/dataloader.py:557: UserWarning: This DataLoader will create 4 worker processes in total. Our suggested max number of worker in current system is 2, which is smaller than what this DataLoader is going to create. Please be aware that excessive worker creation might get DataLoader running slow or even freeze, lower the worker number to avoid potential slowness/freeze if necessary.\n",
      "  warnings.warn(_create_warning_msg(\n"
     ]
    },
    {
     "name": "stdout",
     "output_type": "stream",
     "text": [
      "Plotting labels to runs/detect/train/labels.jpg... \n",
      "\u001b[34m\u001b[1moptimizer:\u001b[0m 'optimizer=auto' found, ignoring 'lr0=0.01' and 'momentum=0.937' and determining best 'optimizer', 'lr0' and 'momentum' automatically... \n",
      "\u001b[34m\u001b[1moptimizer:\u001b[0m AdamW(lr=0.002, momentum=0.9) with parameter groups 57 weight(decay=0.0), 64 weight(decay=0.0005), 63 bias(decay=0.0)\n",
      "Image sizes 640 train, 640 val\n",
      "Using 2 dataloader workers\n",
      "Logging results to \u001b[1mruns/detect/train\u001b[0m\n",
      "Starting training for 100 epochs...\n",
      "\n",
      "      Epoch    GPU_mem   box_loss   cls_loss   dfl_loss  Instances       Size\n"
     ]
    },
    {
     "name": "stderr",
     "output_type": "stream",
     "text": [
      "      1/100     0.858G      0.528      1.024     0.8972         12        640: 100%|██████████| 752/752 [01:18<00:00,  9.61it/s]\n",
      "                 Class     Images  Instances      Box(P          R      mAP50  mAP50-95): 100%|██████████| 83/83 [00:06<00:00, 13.53it/s]\n"
     ]
    },
    {
     "name": "stdout",
     "output_type": "stream",
     "text": [
      "                   all        659       1682      0.877      0.917      0.949      0.869\n",
      "\n",
      "      Epoch    GPU_mem   box_loss   cls_loss   dfl_loss  Instances       Size\n"
     ]
    },
    {
     "name": "stderr",
     "output_type": "stream",
     "text": [
      "      2/100     0.881G     0.4921     0.6684     0.8897         19        640:   5%|▍         | 34/752 [00:02<00:58, 12.35it/s]"
     ]
    }
   ],
   "source": [
    "from ultralytics import YOLO\n",
    "\n",
    "model = YOLO('yolov8n.pt') # load a pretrained model (recommended for training)\n",
    "\n",
    "# Train the model\n",
    "results = model.train(data='./datasets/data.yaml', epochs=100, imgsz=640, device=0, optimizer='auto', batch=4, workers=2)"
   ]
  },
  {
   "cell_type": "markdown",
   "metadata": {},
   "source": [
    "# Validate the model"
   ]
  },
  {
   "cell_type": "code",
   "execution_count": 1,
   "metadata": {},
   "outputs": [
    {
     "name": "stdout",
     "output_type": "stream",
     "text": [
      "Ultralytics YOLOv8.0.227 🚀 Python-3.8.18 torch-2.1.2+cu121 CUDA:0 (NVIDIA A100-SXM4-40GB, 40339MiB)\n",
      "Model summary (fused): 168 layers, 3005843 parameters, 0 gradients, 8.1 GFLOPs\n"
     ]
    },
    {
     "name": "stderr",
     "output_type": "stream",
     "text": [
      "\u001b[34m\u001b[1mval: \u001b[0mScanning /home/tyomsarn/jupyter-workspace/datasets/valid/labels.cache... 659 images, 2 backgrounds, 0 corrupt: 100%|██████████| 659/659 [00:00<?, ?it/s]"
     ]
    },
    {
     "name": "stdout",
     "output_type": "stream",
     "text": [
      "\u001b[34m\u001b[1mval: \u001b[0mWARNING ⚠️ /home/tyomsarn/jupyter-workspace/datasets/valid/images/1039_png.rf.64629ab04acfc99b80e3eb2074e14b04.jpg: 1 duplicate labels removed\n"
     ]
    },
    {
     "name": "stderr",
     "output_type": "stream",
     "text": [
      "\n",
      "/home/tyomsarn/miniconda3/envs/ml-jupyter/lib/python3.8/site-packages/torch/utils/data/dataloader.py:557: UserWarning: This DataLoader will create 8 worker processes in total. Our suggested max number of worker in current system is 2, which is smaller than what this DataLoader is going to create. Please be aware that excessive worker creation might get DataLoader running slow or even freeze, lower the worker number to avoid potential slowness/freeze if necessary.\n",
      "  warnings.warn(_create_warning_msg(\n",
      "                 Class     Images  Instances      Box(P          R      mAP50  mAP50-95): 100%|██████████| 42/42 [00:05<00:00,  7.91it/s]\n"
     ]
    },
    {
     "name": "stdout",
     "output_type": "stream",
     "text": [
      "                   all        659       1682      0.911      0.907      0.959      0.927\n",
      "Speed: 0.3ms preprocess, 1.4ms inference, 0.0ms loss, 1.5ms postprocess per image\n",
      "Results saved to \u001b[1mruns/detect/val\u001b[0m\n"
     ]
    },
    {
     "data": {
      "text/plain": [
       "ultralytics.utils.metrics.DetMetrics object with attributes:\n",
       "\n",
       "ap_class_index: array([0])\n",
       "box: ultralytics.utils.metrics.Metric object\n",
       "confusion_matrix: <ultralytics.utils.metrics.ConfusionMatrix object at 0x7f6e7819aaf0>\n",
       "curves: ['Precision-Recall(B)', 'F1-Confidence(B)', 'Precision-Confidence(B)', 'Recall-Confidence(B)']\n",
       "curves_results: [[array([          0,    0.001001,    0.002002,    0.003003,    0.004004,    0.005005,    0.006006,    0.007007,    0.008008,    0.009009,     0.01001,    0.011011,    0.012012,    0.013013,    0.014014,    0.015015,    0.016016,    0.017017,    0.018018,    0.019019,     0.02002,    0.021021,    0.022022,    0.023023,\n",
       "          0.024024,    0.025025,    0.026026,    0.027027,    0.028028,    0.029029,     0.03003,    0.031031,    0.032032,    0.033033,    0.034034,    0.035035,    0.036036,    0.037037,    0.038038,    0.039039,     0.04004,    0.041041,    0.042042,    0.043043,    0.044044,    0.045045,    0.046046,    0.047047,\n",
       "          0.048048,    0.049049,     0.05005,    0.051051,    0.052052,    0.053053,    0.054054,    0.055055,    0.056056,    0.057057,    0.058058,    0.059059,     0.06006,    0.061061,    0.062062,    0.063063,    0.064064,    0.065065,    0.066066,    0.067067,    0.068068,    0.069069,     0.07007,    0.071071,\n",
       "          0.072072,    0.073073,    0.074074,    0.075075,    0.076076,    0.077077,    0.078078,    0.079079,     0.08008,    0.081081,    0.082082,    0.083083,    0.084084,    0.085085,    0.086086,    0.087087,    0.088088,    0.089089,     0.09009,    0.091091,    0.092092,    0.093093,    0.094094,    0.095095,\n",
       "          0.096096,    0.097097,    0.098098,    0.099099,      0.1001,      0.1011,      0.1021,      0.1031,      0.1041,     0.10511,     0.10611,     0.10711,     0.10811,     0.10911,     0.11011,     0.11111,     0.11211,     0.11311,     0.11411,     0.11512,     0.11612,     0.11712,     0.11812,     0.11912,\n",
       "           0.12012,     0.12112,     0.12212,     0.12312,     0.12412,     0.12513,     0.12613,     0.12713,     0.12813,     0.12913,     0.13013,     0.13113,     0.13213,     0.13313,     0.13413,     0.13514,     0.13614,     0.13714,     0.13814,     0.13914,     0.14014,     0.14114,     0.14214,     0.14314,\n",
       "           0.14414,     0.14515,     0.14615,     0.14715,     0.14815,     0.14915,     0.15015,     0.15115,     0.15215,     0.15315,     0.15415,     0.15516,     0.15616,     0.15716,     0.15816,     0.15916,     0.16016,     0.16116,     0.16216,     0.16316,     0.16416,     0.16517,     0.16617,     0.16717,\n",
       "           0.16817,     0.16917,     0.17017,     0.17117,     0.17217,     0.17317,     0.17417,     0.17518,     0.17618,     0.17718,     0.17818,     0.17918,     0.18018,     0.18118,     0.18218,     0.18318,     0.18418,     0.18519,     0.18619,     0.18719,     0.18819,     0.18919,     0.19019,     0.19119,\n",
       "           0.19219,     0.19319,     0.19419,      0.1952,      0.1962,      0.1972,      0.1982,      0.1992,      0.2002,      0.2012,      0.2022,      0.2032,      0.2042,     0.20521,     0.20621,     0.20721,     0.20821,     0.20921,     0.21021,     0.21121,     0.21221,     0.21321,     0.21421,     0.21522,\n",
       "           0.21622,     0.21722,     0.21822,     0.21922,     0.22022,     0.22122,     0.22222,     0.22322,     0.22422,     0.22523,     0.22623,     0.22723,     0.22823,     0.22923,     0.23023,     0.23123,     0.23223,     0.23323,     0.23423,     0.23524,     0.23624,     0.23724,     0.23824,     0.23924,\n",
       "           0.24024,     0.24124,     0.24224,     0.24324,     0.24424,     0.24525,     0.24625,     0.24725,     0.24825,     0.24925,     0.25025,     0.25125,     0.25225,     0.25325,     0.25425,     0.25526,     0.25626,     0.25726,     0.25826,     0.25926,     0.26026,     0.26126,     0.26226,     0.26326,\n",
       "           0.26426,     0.26527,     0.26627,     0.26727,     0.26827,     0.26927,     0.27027,     0.27127,     0.27227,     0.27327,     0.27427,     0.27528,     0.27628,     0.27728,     0.27828,     0.27928,     0.28028,     0.28128,     0.28228,     0.28328,     0.28428,     0.28529,     0.28629,     0.28729,\n",
       "           0.28829,     0.28929,     0.29029,     0.29129,     0.29229,     0.29329,     0.29429,      0.2953,      0.2963,      0.2973,      0.2983,      0.2993,      0.3003,      0.3013,      0.3023,      0.3033,      0.3043,     0.30531,     0.30631,     0.30731,     0.30831,     0.30931,     0.31031,     0.31131,\n",
       "           0.31231,     0.31331,     0.31431,     0.31532,     0.31632,     0.31732,     0.31832,     0.31932,     0.32032,     0.32132,     0.32232,     0.32332,     0.32432,     0.32533,     0.32633,     0.32733,     0.32833,     0.32933,     0.33033,     0.33133,     0.33233,     0.33333,     0.33433,     0.33534,\n",
       "           0.33634,     0.33734,     0.33834,     0.33934,     0.34034,     0.34134,     0.34234,     0.34334,     0.34434,     0.34535,     0.34635,     0.34735,     0.34835,     0.34935,     0.35035,     0.35135,     0.35235,     0.35335,     0.35435,     0.35536,     0.35636,     0.35736,     0.35836,     0.35936,\n",
       "           0.36036,     0.36136,     0.36236,     0.36336,     0.36436,     0.36537,     0.36637,     0.36737,     0.36837,     0.36937,     0.37037,     0.37137,     0.37237,     0.37337,     0.37437,     0.37538,     0.37638,     0.37738,     0.37838,     0.37938,     0.38038,     0.38138,     0.38238,     0.38338,\n",
       "           0.38438,     0.38539,     0.38639,     0.38739,     0.38839,     0.38939,     0.39039,     0.39139,     0.39239,     0.39339,     0.39439,      0.3954,      0.3964,      0.3974,      0.3984,      0.3994,      0.4004,      0.4014,      0.4024,      0.4034,      0.4044,     0.40541,     0.40641,     0.40741,\n",
       "           0.40841,     0.40941,     0.41041,     0.41141,     0.41241,     0.41341,     0.41441,     0.41542,     0.41642,     0.41742,     0.41842,     0.41942,     0.42042,     0.42142,     0.42242,     0.42342,     0.42442,     0.42543,     0.42643,     0.42743,     0.42843,     0.42943,     0.43043,     0.43143,\n",
       "           0.43243,     0.43343,     0.43443,     0.43544,     0.43644,     0.43744,     0.43844,     0.43944,     0.44044,     0.44144,     0.44244,     0.44344,     0.44444,     0.44545,     0.44645,     0.44745,     0.44845,     0.44945,     0.45045,     0.45145,     0.45245,     0.45345,     0.45445,     0.45546,\n",
       "           0.45646,     0.45746,     0.45846,     0.45946,     0.46046,     0.46146,     0.46246,     0.46346,     0.46446,     0.46547,     0.46647,     0.46747,     0.46847,     0.46947,     0.47047,     0.47147,     0.47247,     0.47347,     0.47447,     0.47548,     0.47648,     0.47748,     0.47848,     0.47948,\n",
       "           0.48048,     0.48148,     0.48248,     0.48348,     0.48448,     0.48549,     0.48649,     0.48749,     0.48849,     0.48949,     0.49049,     0.49149,     0.49249,     0.49349,     0.49449,      0.4955,      0.4965,      0.4975,      0.4985,      0.4995,      0.5005,      0.5015,      0.5025,      0.5035,\n",
       "            0.5045,     0.50551,     0.50651,     0.50751,     0.50851,     0.50951,     0.51051,     0.51151,     0.51251,     0.51351,     0.51451,     0.51552,     0.51652,     0.51752,     0.51852,     0.51952,     0.52052,     0.52152,     0.52252,     0.52352,     0.52452,     0.52553,     0.52653,     0.52753,\n",
       "           0.52853,     0.52953,     0.53053,     0.53153,     0.53253,     0.53353,     0.53453,     0.53554,     0.53654,     0.53754,     0.53854,     0.53954,     0.54054,     0.54154,     0.54254,     0.54354,     0.54454,     0.54555,     0.54655,     0.54755,     0.54855,     0.54955,     0.55055,     0.55155,\n",
       "           0.55255,     0.55355,     0.55455,     0.55556,     0.55656,     0.55756,     0.55856,     0.55956,     0.56056,     0.56156,     0.56256,     0.56356,     0.56456,     0.56557,     0.56657,     0.56757,     0.56857,     0.56957,     0.57057,     0.57157,     0.57257,     0.57357,     0.57457,     0.57558,\n",
       "           0.57658,     0.57758,     0.57858,     0.57958,     0.58058,     0.58158,     0.58258,     0.58358,     0.58458,     0.58559,     0.58659,     0.58759,     0.58859,     0.58959,     0.59059,     0.59159,     0.59259,     0.59359,     0.59459,      0.5956,      0.5966,      0.5976,      0.5986,      0.5996,\n",
       "            0.6006,      0.6016,      0.6026,      0.6036,      0.6046,     0.60561,     0.60661,     0.60761,     0.60861,     0.60961,     0.61061,     0.61161,     0.61261,     0.61361,     0.61461,     0.61562,     0.61662,     0.61762,     0.61862,     0.61962,     0.62062,     0.62162,     0.62262,     0.62362,\n",
       "           0.62462,     0.62563,     0.62663,     0.62763,     0.62863,     0.62963,     0.63063,     0.63163,     0.63263,     0.63363,     0.63463,     0.63564,     0.63664,     0.63764,     0.63864,     0.63964,     0.64064,     0.64164,     0.64264,     0.64364,     0.64464,     0.64565,     0.64665,     0.64765,\n",
       "           0.64865,     0.64965,     0.65065,     0.65165,     0.65265,     0.65365,     0.65465,     0.65566,     0.65666,     0.65766,     0.65866,     0.65966,     0.66066,     0.66166,     0.66266,     0.66366,     0.66466,     0.66567,     0.66667,     0.66767,     0.66867,     0.66967,     0.67067,     0.67167,\n",
       "           0.67267,     0.67367,     0.67467,     0.67568,     0.67668,     0.67768,     0.67868,     0.67968,     0.68068,     0.68168,     0.68268,     0.68368,     0.68468,     0.68569,     0.68669,     0.68769,     0.68869,     0.68969,     0.69069,     0.69169,     0.69269,     0.69369,     0.69469,      0.6957,\n",
       "            0.6967,      0.6977,      0.6987,      0.6997,      0.7007,      0.7017,      0.7027,      0.7037,      0.7047,     0.70571,     0.70671,     0.70771,     0.70871,     0.70971,     0.71071,     0.71171,     0.71271,     0.71371,     0.71471,     0.71572,     0.71672,     0.71772,     0.71872,     0.71972,\n",
       "           0.72072,     0.72172,     0.72272,     0.72372,     0.72472,     0.72573,     0.72673,     0.72773,     0.72873,     0.72973,     0.73073,     0.73173,     0.73273,     0.73373,     0.73473,     0.73574,     0.73674,     0.73774,     0.73874,     0.73974,     0.74074,     0.74174,     0.74274,     0.74374,\n",
       "           0.74474,     0.74575,     0.74675,     0.74775,     0.74875,     0.74975,     0.75075,     0.75175,     0.75275,     0.75375,     0.75475,     0.75576,     0.75676,     0.75776,     0.75876,     0.75976,     0.76076,     0.76176,     0.76276,     0.76376,     0.76476,     0.76577,     0.76677,     0.76777,\n",
       "           0.76877,     0.76977,     0.77077,     0.77177,     0.77277,     0.77377,     0.77477,     0.77578,     0.77678,     0.77778,     0.77878,     0.77978,     0.78078,     0.78178,     0.78278,     0.78378,     0.78478,     0.78579,     0.78679,     0.78779,     0.78879,     0.78979,     0.79079,     0.79179,\n",
       "           0.79279,     0.79379,     0.79479,      0.7958,      0.7968,      0.7978,      0.7988,      0.7998,      0.8008,      0.8018,      0.8028,      0.8038,      0.8048,     0.80581,     0.80681,     0.80781,     0.80881,     0.80981,     0.81081,     0.81181,     0.81281,     0.81381,     0.81481,     0.81582,\n",
       "           0.81682,     0.81782,     0.81882,     0.81982,     0.82082,     0.82182,     0.82282,     0.82382,     0.82482,     0.82583,     0.82683,     0.82783,     0.82883,     0.82983,     0.83083,     0.83183,     0.83283,     0.83383,     0.83483,     0.83584,     0.83684,     0.83784,     0.83884,     0.83984,\n",
       "           0.84084,     0.84184,     0.84284,     0.84384,     0.84484,     0.84585,     0.84685,     0.84785,     0.84885,     0.84985,     0.85085,     0.85185,     0.85285,     0.85385,     0.85485,     0.85586,     0.85686,     0.85786,     0.85886,     0.85986,     0.86086,     0.86186,     0.86286,     0.86386,\n",
       "           0.86486,     0.86587,     0.86687,     0.86787,     0.86887,     0.86987,     0.87087,     0.87187,     0.87287,     0.87387,     0.87487,     0.87588,     0.87688,     0.87788,     0.87888,     0.87988,     0.88088,     0.88188,     0.88288,     0.88388,     0.88488,     0.88589,     0.88689,     0.88789,\n",
       "           0.88889,     0.88989,     0.89089,     0.89189,     0.89289,     0.89389,     0.89489,      0.8959,      0.8969,      0.8979,      0.8989,      0.8999,      0.9009,      0.9019,      0.9029,      0.9039,      0.9049,     0.90591,     0.90691,     0.90791,     0.90891,     0.90991,     0.91091,     0.91191,\n",
       "           0.91291,     0.91391,     0.91491,     0.91592,     0.91692,     0.91792,     0.91892,     0.91992,     0.92092,     0.92192,     0.92292,     0.92392,     0.92492,     0.92593,     0.92693,     0.92793,     0.92893,     0.92993,     0.93093,     0.93193,     0.93293,     0.93393,     0.93493,     0.93594,\n",
       "           0.93694,     0.93794,     0.93894,     0.93994,     0.94094,     0.94194,     0.94294,     0.94394,     0.94494,     0.94595,     0.94695,     0.94795,     0.94895,     0.94995,     0.95095,     0.95195,     0.95295,     0.95395,     0.95495,     0.95596,     0.95696,     0.95796,     0.95896,     0.95996,\n",
       "           0.96096,     0.96196,     0.96296,     0.96396,     0.96496,     0.96597,     0.96697,     0.96797,     0.96897,     0.96997,     0.97097,     0.97197,     0.97297,     0.97397,     0.97497,     0.97598,     0.97698,     0.97798,     0.97898,     0.97998,     0.98098,     0.98198,     0.98298,     0.98398,\n",
       "           0.98498,     0.98599,     0.98699,     0.98799,     0.98899,     0.98999,     0.99099,     0.99199,     0.99299,     0.99399,     0.99499,       0.996,       0.997,       0.998,       0.999,           1]), array([[          1,           1,           1,           1,           1,           1,           1,           1,           1,           1,           1,           1,           1,           1,           1,           1,           1,           1,           1,           1,           1,           1,           1,\n",
       "                  1,           1,           1,           1,           1,           1,           1,           1,           1,           1,           1,           1,           1,           1,           1,           1,           1,           1,           1,           1,           1,           1,           1,\n",
       "                  1,           1,           1,           1,           1,           1,           1,           1,           1,           1,           1,           1,           1,           1,           1,           1,           1,           1,           1,           1,           1,           1,           1,\n",
       "                  1,           1,           1,           1,           1,           1,           1,           1,           1,           1,           1,           1,           1,           1,           1,           1,           1,           1,           1,           1,           1,           1,           1,\n",
       "                  1,           1,           1,           1,           1,           1,           1,           1,           1,           1,           1,           1,           1,           1,           1,           1,           1,           1,           1,           1,           1,           1,           1,\n",
       "                  1,           1,           1,           1,           1,           1,           1,           1,           1,           1,           1,           1,           1,           1,           1,           1,           1,           1,           1,           1,           1,           1,           1,\n",
       "                  1,           1,           1,           1,           1,           1,           1,           1,           1,           1,           1,           1,     0.99742,     0.99742,     0.99742,     0.99742,     0.99742,     0.99742,     0.99742,     0.99742,     0.99742,     0.99742,     0.99742,\n",
       "            0.99742,     0.99742,     0.99742,     0.99742,     0.99742,     0.99742,     0.99742,     0.99742,     0.99742,     0.99742,     0.99742,     0.99742,     0.99742,     0.99742,     0.99742,     0.99742,     0.99742,     0.99742,     0.99742,     0.99742,     0.99742,     0.99742,     0.99742,\n",
       "            0.99742,     0.99742,     0.99742,     0.99742,     0.99742,     0.99742,     0.99742,     0.99742,     0.99742,     0.99742,     0.99742,     0.99742,     0.99742,     0.99742,     0.99742,     0.99742,     0.99742,     0.99742,     0.99742,     0.99742,     0.99742,     0.99742,     0.99742,\n",
       "            0.99742,     0.99742,     0.99742,     0.99742,     0.99742,     0.99742,     0.99742,     0.99742,     0.99742,     0.99742,     0.99742,     0.99742,     0.99742,     0.99742,     0.99742,     0.99742,     0.99742,     0.99742,     0.99742,     0.99742,     0.99742,     0.99742,     0.99742,\n",
       "            0.99512,     0.99512,     0.99512,     0.99512,     0.99512,     0.99512,     0.99512,     0.99512,     0.99512,     0.99512,     0.99512,     0.99512,     0.99512,     0.99367,     0.99367,     0.99367,     0.99367,     0.99367,     0.99367,     0.99367,     0.99367,     0.99367,     0.99367,\n",
       "            0.99367,     0.99367,     0.99367,     0.99367,     0.99367,     0.99367,     0.99367,     0.99367,     0.99367,     0.99367,     0.99367,     0.99367,     0.99367,     0.99367,     0.99367,     0.99367,     0.99367,     0.99367,     0.99367,     0.99367,     0.99367,     0.99367,     0.99367,\n",
       "            0.99367,     0.99367,     0.99367,     0.99367,     0.99035,     0.99035,     0.99035,     0.99035,     0.99035,     0.99035,     0.99035,     0.99035,     0.99035,     0.99035,     0.99035,     0.99035,     0.99035,     0.99035,     0.99035,     0.99035,     0.99035,     0.99035,     0.99035,\n",
       "            0.99035,     0.99035,     0.99035,     0.99035,     0.99035,     0.99035,     0.98864,     0.98864,     0.98864,     0.98864,     0.98864,     0.98864,     0.98743,     0.98743,     0.98743,     0.98743,     0.98743,     0.98743,     0.98743,     0.98743,     0.98743,     0.98743,     0.98743,\n",
       "            0.98743,     0.98743,     0.98743,     0.98743,     0.98743,     0.98706,     0.98706,     0.98706,     0.98706,     0.98706,     0.98706,     0.98706,     0.98706,     0.98706,     0.98706,     0.98706,     0.98706,     0.98706,     0.98706,     0.98706,     0.98706,     0.98706,     0.98706,\n",
       "            0.98706,     0.98706,     0.98706,     0.98706,     0.98706,     0.98706,     0.98706,     0.98706,     0.98706,     0.98706,     0.98706,     0.98706,     0.98706,     0.98706,     0.98706,     0.98706,     0.98706,     0.98706,     0.98592,     0.98592,     0.98592,     0.98592,     0.98592,\n",
       "            0.98592,     0.98592,     0.98592,     0.98592,     0.98592,     0.98592,     0.98592,     0.98516,     0.98516,     0.98516,     0.98516,     0.98516,     0.98516,     0.98516,     0.98516,     0.98516,     0.98516,     0.98516,     0.98516,     0.98516,     0.98516,     0.98516,     0.98516,\n",
       "            0.98516,     0.98516,     0.98516,     0.98516,     0.98429,     0.98429,     0.98429,     0.98429,     0.98429,     0.98429,     0.98429,     0.98429,     0.98429,     0.98429,     0.98429,     0.98429,     0.98429,     0.98429,     0.98429,     0.98312,     0.98312,     0.98312,     0.98312,\n",
       "            0.98312,     0.98312,     0.98283,     0.98283,     0.98283,     0.98283,     0.98283,     0.98283,     0.98283,     0.98283,     0.98283,     0.98283,     0.98283,     0.98283,     0.98283,     0.98283,     0.98283,     0.98283,     0.98283,     0.98283,     0.98283,     0.98283,     0.98283,\n",
       "            0.98283,     0.98283,     0.98283,     0.98283,     0.98283,     0.98263,     0.98263,     0.98263,     0.98263,     0.98263,     0.98263,     0.98263,     0.98263,     0.98263,     0.98263,     0.98263,     0.98263,     0.98263,     0.98263,     0.98263,     0.98263,     0.98263,     0.98263,\n",
       "            0.98263,     0.98263,     0.98263,     0.98263,     0.98263,     0.98263,     0.98263,     0.98263,     0.98263,     0.98263,     0.98263,      0.9816,      0.9816,      0.9816,      0.9816,      0.9816,      0.9812,      0.9812,      0.9812,      0.9812,      0.9812,      0.9812,      0.9812,\n",
       "             0.9812,      0.9812,      0.9812,      0.9812,      0.9812,      0.9812,      0.9812,      0.9812,      0.9812,      0.9812,      0.9812,      0.9812,      0.9812,     0.98021,     0.98021,     0.98021,     0.98021,     0.98021,     0.97968,     0.97968,     0.97968,     0.97968,     0.97968,\n",
       "            0.97968,     0.97968,     0.97968,     0.97968,     0.97968,     0.97968,     0.97968,     0.97968,     0.97968,     0.97968,     0.97914,     0.97914,     0.97914,     0.97914,     0.97914,     0.97914,     0.97914,     0.97914,     0.97914,     0.97914,     0.97914,     0.97914,     0.97914,\n",
       "            0.97914,     0.97847,     0.97847,     0.97847,     0.97847,     0.97847,     0.97847,     0.97847,     0.97847,     0.97847,     0.97847,     0.97754,     0.97754,     0.97754,     0.97679,     0.97679,     0.97679,     0.97679,     0.97679,     0.97679,     0.97679,     0.97643,     0.97643,\n",
       "            0.97643,     0.97643,     0.97643,     0.97643,     0.97643,     0.97643,     0.97643,     0.97643,     0.97643,     0.97643,     0.97643,     0.97643,     0.97643,     0.97643,     0.97643,     0.97403,     0.97403,     0.97403,     0.97403,     0.97403,     0.97403,     0.97403,     0.97403,\n",
       "            0.97403,     0.97403,     0.97403,     0.97403,     0.97403,     0.97379,     0.97379,     0.97379,     0.97379,     0.97379,     0.97379,     0.97379,     0.97379,     0.97379,     0.97379,     0.97379,     0.97379,     0.97379,     0.97379,     0.97379,     0.97379,     0.97295,     0.97295,\n",
       "            0.97295,     0.97295,     0.97295,     0.97295,     0.97295,     0.97295,     0.97295,     0.97295,     0.97295,     0.97295,     0.97295,     0.97295,     0.97295,     0.97295,     0.97295,     0.97295,     0.97295,     0.97295,     0.97295,     0.97295,     0.97295,     0.97295,     0.97295,\n",
       "            0.97295,     0.97295,     0.97295,     0.97295,     0.97295,     0.97295,     0.97295,     0.97295,     0.97295,     0.97295,     0.97295,     0.97295,     0.97295,     0.97295,     0.97295,     0.97295,     0.97295,     0.97295,     0.97295,     0.97295,     0.97295,     0.97295,     0.97295,\n",
       "            0.97295,     0.97295,     0.97295,     0.97295,     0.97295,     0.97295,     0.97295,     0.97295,     0.97295,     0.97295,     0.97295,     0.97295,     0.97295,     0.97295,     0.97295,     0.97295,     0.97295,     0.97295,     0.97295,      0.9722,      0.9722,     0.97145,     0.97145,\n",
       "            0.97064,     0.96993,     0.96993,     0.96993,     0.96944,     0.96944,     0.96944,     0.96944,     0.96944,     0.96944,     0.96944,     0.96944,     0.96886,     0.96886,     0.96886,     0.96886,     0.96886,     0.96828,     0.96828,     0.96828,     0.96828,     0.96828,     0.96755,\n",
       "            0.96755,     0.96678,     0.96639,     0.96639,     0.96639,     0.96639,     0.96639,     0.96639,     0.96639,     0.96639,     0.96639,      0.9651,      0.9651,      0.9651,      0.9651,      0.9651,      0.9651,     0.96449,     0.96449,     0.96449,       0.964,       0.964,       0.964,\n",
       "              0.964,       0.964,       0.964,     0.96329,     0.96296,     0.96296,     0.96296,     0.96296,     0.96296,     0.96296,     0.96296,     0.96296,     0.96296,     0.96232,     0.96232,     0.96232,     0.96184,     0.96184,     0.96184,     0.96184,     0.96184,     0.96124,     0.96124,\n",
       "            0.96124,     0.96086,     0.96086,     0.96086,     0.96086,     0.96086,     0.96086,     0.96086,     0.96055,     0.96055,     0.96055,     0.96055,     0.96055,     0.96055,     0.96055,     0.96055,     0.95997,     0.95997,     0.95997,     0.95937,     0.95937,     0.95937,     0.95883,\n",
       "            0.95883,     0.95883,     0.95858,     0.95858,     0.95858,     0.95858,     0.95858,     0.95858,     0.95858,     0.95858,     0.95858,      0.9583,      0.9583,      0.9583,      0.9583,      0.9583,      0.9583,      0.9583,      0.9583,      0.9583,     0.95785,     0.95785,     0.95785,\n",
       "            0.95785,     0.95731,     0.95731,     0.95731,     0.95671,     0.95671,     0.95612,     0.95612,     0.95575,     0.95575,     0.95575,     0.95575,     0.95575,     0.95575,      0.9548,      0.9548,      0.9548,      0.9548,      0.9548,      0.9548,      0.9548,      0.9548,     0.95419,\n",
       "            0.95362,     0.95231,     0.95101,     0.94979,      0.9492,      0.9492,     0.94875,     0.94875,     0.94875,     0.94817,     0.94762,     0.94762,     0.94701,     0.94582,     0.94582,     0.94543,     0.94543,     0.94543,     0.94543,     0.94508,     0.94508,     0.94508,     0.94508,\n",
       "            0.94463,     0.94463,     0.94463,     0.94343,     0.94343,     0.94291,     0.94244,     0.94244,     0.94244,     0.94188,     0.94149,     0.94149,     0.94149,     0.94149,     0.94036,     0.93935,     0.93935,     0.93935,     0.93935,     0.93828,     0.93828,     0.93721,     0.93721,\n",
       "            0.93721,     0.93673,      0.9362,      0.9362,     0.93571,     0.93544,     0.93544,     0.93544,     0.93544,     0.93544,     0.93488,     0.93385,     0.93385,     0.93333,     0.93159,     0.93108,     0.93053,     0.92943,     0.92907,     0.92907,     0.92907,     0.92821,     0.92821,\n",
       "            0.92821,     0.92821,     0.92772,     0.92665,     0.92611,     0.92505,      0.9248,      0.9248,      0.9248,      0.9248,      0.9246,      0.9246,      0.9246,      0.9246,      0.9246,     0.92426,     0.92426,     0.92426,     0.92317,     0.92213,     0.92002,     0.92002,     0.91905,\n",
       "            0.91854,     0.91813,     0.91813,     0.91662,     0.91662,     0.91632,     0.91632,     0.91367,     0.91367,     0.91213,     0.91061,     0.91017,     0.90969,     0.90656,     0.90625,     0.90625,     0.90417,     0.90317,     0.89802,     0.89605,     0.89559,     0.89261,     0.89023,\n",
       "            0.89023,      0.8873,     0.88648,      0.8861,      0.8861,     0.88573,     0.88099,     0.88099,     0.87908,     0.87675,     0.87591,     0.87507,     0.87465,     0.87375,     0.86865,     0.86832,     0.86832,     0.86324,     0.86245,     0.85831,     0.85784,     0.85784,     0.85784,\n",
       "            0.85514,     0.85255,     0.85043,     0.84599,     0.84534,     0.84506,     0.84506,     0.84441,     0.84271,     0.84244,     0.84216,     0.84136,       0.841,     0.83898,     0.83653,     0.83575,     0.83333,     0.82838,      0.8256,     0.82401,     0.82219,     0.82145,     0.82038,\n",
       "            0.81563,     0.81206,     0.81054,     0.80993,     0.80216,     0.79717,     0.78892,     0.77275,     0.77213,     0.76408,     0.76288,     0.75563,     0.74796,     0.74548,     0.74269,     0.73455,     0.70684,     0.69697,      0.6867,     0.68076,     0.65163,     0.64494,     0.63415,\n",
       "            0.61363,     0.58821,     0.56252,     0.49821,     0.46496,     0.37868,     0.30295,     0.22721,     0.15147,    0.075736,           0]]), 'Recall', 'Precision'], [array([          0,    0.001001,    0.002002,    0.003003,    0.004004,    0.005005,    0.006006,    0.007007,    0.008008,    0.009009,     0.01001,    0.011011,    0.012012,    0.013013,    0.014014,    0.015015,    0.016016,    0.017017,    0.018018,    0.019019,     0.02002,    0.021021,    0.022022,    0.023023,\n",
       "          0.024024,    0.025025,    0.026026,    0.027027,    0.028028,    0.029029,     0.03003,    0.031031,    0.032032,    0.033033,    0.034034,    0.035035,    0.036036,    0.037037,    0.038038,    0.039039,     0.04004,    0.041041,    0.042042,    0.043043,    0.044044,    0.045045,    0.046046,    0.047047,\n",
       "          0.048048,    0.049049,     0.05005,    0.051051,    0.052052,    0.053053,    0.054054,    0.055055,    0.056056,    0.057057,    0.058058,    0.059059,     0.06006,    0.061061,    0.062062,    0.063063,    0.064064,    0.065065,    0.066066,    0.067067,    0.068068,    0.069069,     0.07007,    0.071071,\n",
       "          0.072072,    0.073073,    0.074074,    0.075075,    0.076076,    0.077077,    0.078078,    0.079079,     0.08008,    0.081081,    0.082082,    0.083083,    0.084084,    0.085085,    0.086086,    0.087087,    0.088088,    0.089089,     0.09009,    0.091091,    0.092092,    0.093093,    0.094094,    0.095095,\n",
       "          0.096096,    0.097097,    0.098098,    0.099099,      0.1001,      0.1011,      0.1021,      0.1031,      0.1041,     0.10511,     0.10611,     0.10711,     0.10811,     0.10911,     0.11011,     0.11111,     0.11211,     0.11311,     0.11411,     0.11512,     0.11612,     0.11712,     0.11812,     0.11912,\n",
       "           0.12012,     0.12112,     0.12212,     0.12312,     0.12412,     0.12513,     0.12613,     0.12713,     0.12813,     0.12913,     0.13013,     0.13113,     0.13213,     0.13313,     0.13413,     0.13514,     0.13614,     0.13714,     0.13814,     0.13914,     0.14014,     0.14114,     0.14214,     0.14314,\n",
       "           0.14414,     0.14515,     0.14615,     0.14715,     0.14815,     0.14915,     0.15015,     0.15115,     0.15215,     0.15315,     0.15415,     0.15516,     0.15616,     0.15716,     0.15816,     0.15916,     0.16016,     0.16116,     0.16216,     0.16316,     0.16416,     0.16517,     0.16617,     0.16717,\n",
       "           0.16817,     0.16917,     0.17017,     0.17117,     0.17217,     0.17317,     0.17417,     0.17518,     0.17618,     0.17718,     0.17818,     0.17918,     0.18018,     0.18118,     0.18218,     0.18318,     0.18418,     0.18519,     0.18619,     0.18719,     0.18819,     0.18919,     0.19019,     0.19119,\n",
       "           0.19219,     0.19319,     0.19419,      0.1952,      0.1962,      0.1972,      0.1982,      0.1992,      0.2002,      0.2012,      0.2022,      0.2032,      0.2042,     0.20521,     0.20621,     0.20721,     0.20821,     0.20921,     0.21021,     0.21121,     0.21221,     0.21321,     0.21421,     0.21522,\n",
       "           0.21622,     0.21722,     0.21822,     0.21922,     0.22022,     0.22122,     0.22222,     0.22322,     0.22422,     0.22523,     0.22623,     0.22723,     0.22823,     0.22923,     0.23023,     0.23123,     0.23223,     0.23323,     0.23423,     0.23524,     0.23624,     0.23724,     0.23824,     0.23924,\n",
       "           0.24024,     0.24124,     0.24224,     0.24324,     0.24424,     0.24525,     0.24625,     0.24725,     0.24825,     0.24925,     0.25025,     0.25125,     0.25225,     0.25325,     0.25425,     0.25526,     0.25626,     0.25726,     0.25826,     0.25926,     0.26026,     0.26126,     0.26226,     0.26326,\n",
       "           0.26426,     0.26527,     0.26627,     0.26727,     0.26827,     0.26927,     0.27027,     0.27127,     0.27227,     0.27327,     0.27427,     0.27528,     0.27628,     0.27728,     0.27828,     0.27928,     0.28028,     0.28128,     0.28228,     0.28328,     0.28428,     0.28529,     0.28629,     0.28729,\n",
       "           0.28829,     0.28929,     0.29029,     0.29129,     0.29229,     0.29329,     0.29429,      0.2953,      0.2963,      0.2973,      0.2983,      0.2993,      0.3003,      0.3013,      0.3023,      0.3033,      0.3043,     0.30531,     0.30631,     0.30731,     0.30831,     0.30931,     0.31031,     0.31131,\n",
       "           0.31231,     0.31331,     0.31431,     0.31532,     0.31632,     0.31732,     0.31832,     0.31932,     0.32032,     0.32132,     0.32232,     0.32332,     0.32432,     0.32533,     0.32633,     0.32733,     0.32833,     0.32933,     0.33033,     0.33133,     0.33233,     0.33333,     0.33433,     0.33534,\n",
       "           0.33634,     0.33734,     0.33834,     0.33934,     0.34034,     0.34134,     0.34234,     0.34334,     0.34434,     0.34535,     0.34635,     0.34735,     0.34835,     0.34935,     0.35035,     0.35135,     0.35235,     0.35335,     0.35435,     0.35536,     0.35636,     0.35736,     0.35836,     0.35936,\n",
       "           0.36036,     0.36136,     0.36236,     0.36336,     0.36436,     0.36537,     0.36637,     0.36737,     0.36837,     0.36937,     0.37037,     0.37137,     0.37237,     0.37337,     0.37437,     0.37538,     0.37638,     0.37738,     0.37838,     0.37938,     0.38038,     0.38138,     0.38238,     0.38338,\n",
       "           0.38438,     0.38539,     0.38639,     0.38739,     0.38839,     0.38939,     0.39039,     0.39139,     0.39239,     0.39339,     0.39439,      0.3954,      0.3964,      0.3974,      0.3984,      0.3994,      0.4004,      0.4014,      0.4024,      0.4034,      0.4044,     0.40541,     0.40641,     0.40741,\n",
       "           0.40841,     0.40941,     0.41041,     0.41141,     0.41241,     0.41341,     0.41441,     0.41542,     0.41642,     0.41742,     0.41842,     0.41942,     0.42042,     0.42142,     0.42242,     0.42342,     0.42442,     0.42543,     0.42643,     0.42743,     0.42843,     0.42943,     0.43043,     0.43143,\n",
       "           0.43243,     0.43343,     0.43443,     0.43544,     0.43644,     0.43744,     0.43844,     0.43944,     0.44044,     0.44144,     0.44244,     0.44344,     0.44444,     0.44545,     0.44645,     0.44745,     0.44845,     0.44945,     0.45045,     0.45145,     0.45245,     0.45345,     0.45445,     0.45546,\n",
       "           0.45646,     0.45746,     0.45846,     0.45946,     0.46046,     0.46146,     0.46246,     0.46346,     0.46446,     0.46547,     0.46647,     0.46747,     0.46847,     0.46947,     0.47047,     0.47147,     0.47247,     0.47347,     0.47447,     0.47548,     0.47648,     0.47748,     0.47848,     0.47948,\n",
       "           0.48048,     0.48148,     0.48248,     0.48348,     0.48448,     0.48549,     0.48649,     0.48749,     0.48849,     0.48949,     0.49049,     0.49149,     0.49249,     0.49349,     0.49449,      0.4955,      0.4965,      0.4975,      0.4985,      0.4995,      0.5005,      0.5015,      0.5025,      0.5035,\n",
       "            0.5045,     0.50551,     0.50651,     0.50751,     0.50851,     0.50951,     0.51051,     0.51151,     0.51251,     0.51351,     0.51451,     0.51552,     0.51652,     0.51752,     0.51852,     0.51952,     0.52052,     0.52152,     0.52252,     0.52352,     0.52452,     0.52553,     0.52653,     0.52753,\n",
       "           0.52853,     0.52953,     0.53053,     0.53153,     0.53253,     0.53353,     0.53453,     0.53554,     0.53654,     0.53754,     0.53854,     0.53954,     0.54054,     0.54154,     0.54254,     0.54354,     0.54454,     0.54555,     0.54655,     0.54755,     0.54855,     0.54955,     0.55055,     0.55155,\n",
       "           0.55255,     0.55355,     0.55455,     0.55556,     0.55656,     0.55756,     0.55856,     0.55956,     0.56056,     0.56156,     0.56256,     0.56356,     0.56456,     0.56557,     0.56657,     0.56757,     0.56857,     0.56957,     0.57057,     0.57157,     0.57257,     0.57357,     0.57457,     0.57558,\n",
       "           0.57658,     0.57758,     0.57858,     0.57958,     0.58058,     0.58158,     0.58258,     0.58358,     0.58458,     0.58559,     0.58659,     0.58759,     0.58859,     0.58959,     0.59059,     0.59159,     0.59259,     0.59359,     0.59459,      0.5956,      0.5966,      0.5976,      0.5986,      0.5996,\n",
       "            0.6006,      0.6016,      0.6026,      0.6036,      0.6046,     0.60561,     0.60661,     0.60761,     0.60861,     0.60961,     0.61061,     0.61161,     0.61261,     0.61361,     0.61461,     0.61562,     0.61662,     0.61762,     0.61862,     0.61962,     0.62062,     0.62162,     0.62262,     0.62362,\n",
       "           0.62462,     0.62563,     0.62663,     0.62763,     0.62863,     0.62963,     0.63063,     0.63163,     0.63263,     0.63363,     0.63463,     0.63564,     0.63664,     0.63764,     0.63864,     0.63964,     0.64064,     0.64164,     0.64264,     0.64364,     0.64464,     0.64565,     0.64665,     0.64765,\n",
       "           0.64865,     0.64965,     0.65065,     0.65165,     0.65265,     0.65365,     0.65465,     0.65566,     0.65666,     0.65766,     0.65866,     0.65966,     0.66066,     0.66166,     0.66266,     0.66366,     0.66466,     0.66567,     0.66667,     0.66767,     0.66867,     0.66967,     0.67067,     0.67167,\n",
       "           0.67267,     0.67367,     0.67467,     0.67568,     0.67668,     0.67768,     0.67868,     0.67968,     0.68068,     0.68168,     0.68268,     0.68368,     0.68468,     0.68569,     0.68669,     0.68769,     0.68869,     0.68969,     0.69069,     0.69169,     0.69269,     0.69369,     0.69469,      0.6957,\n",
       "            0.6967,      0.6977,      0.6987,      0.6997,      0.7007,      0.7017,      0.7027,      0.7037,      0.7047,     0.70571,     0.70671,     0.70771,     0.70871,     0.70971,     0.71071,     0.71171,     0.71271,     0.71371,     0.71471,     0.71572,     0.71672,     0.71772,     0.71872,     0.71972,\n",
       "           0.72072,     0.72172,     0.72272,     0.72372,     0.72472,     0.72573,     0.72673,     0.72773,     0.72873,     0.72973,     0.73073,     0.73173,     0.73273,     0.73373,     0.73473,     0.73574,     0.73674,     0.73774,     0.73874,     0.73974,     0.74074,     0.74174,     0.74274,     0.74374,\n",
       "           0.74474,     0.74575,     0.74675,     0.74775,     0.74875,     0.74975,     0.75075,     0.75175,     0.75275,     0.75375,     0.75475,     0.75576,     0.75676,     0.75776,     0.75876,     0.75976,     0.76076,     0.76176,     0.76276,     0.76376,     0.76476,     0.76577,     0.76677,     0.76777,\n",
       "           0.76877,     0.76977,     0.77077,     0.77177,     0.77277,     0.77377,     0.77477,     0.77578,     0.77678,     0.77778,     0.77878,     0.77978,     0.78078,     0.78178,     0.78278,     0.78378,     0.78478,     0.78579,     0.78679,     0.78779,     0.78879,     0.78979,     0.79079,     0.79179,\n",
       "           0.79279,     0.79379,     0.79479,      0.7958,      0.7968,      0.7978,      0.7988,      0.7998,      0.8008,      0.8018,      0.8028,      0.8038,      0.8048,     0.80581,     0.80681,     0.80781,     0.80881,     0.80981,     0.81081,     0.81181,     0.81281,     0.81381,     0.81481,     0.81582,\n",
       "           0.81682,     0.81782,     0.81882,     0.81982,     0.82082,     0.82182,     0.82282,     0.82382,     0.82482,     0.82583,     0.82683,     0.82783,     0.82883,     0.82983,     0.83083,     0.83183,     0.83283,     0.83383,     0.83483,     0.83584,     0.83684,     0.83784,     0.83884,     0.83984,\n",
       "           0.84084,     0.84184,     0.84284,     0.84384,     0.84484,     0.84585,     0.84685,     0.84785,     0.84885,     0.84985,     0.85085,     0.85185,     0.85285,     0.85385,     0.85485,     0.85586,     0.85686,     0.85786,     0.85886,     0.85986,     0.86086,     0.86186,     0.86286,     0.86386,\n",
       "           0.86486,     0.86587,     0.86687,     0.86787,     0.86887,     0.86987,     0.87087,     0.87187,     0.87287,     0.87387,     0.87487,     0.87588,     0.87688,     0.87788,     0.87888,     0.87988,     0.88088,     0.88188,     0.88288,     0.88388,     0.88488,     0.88589,     0.88689,     0.88789,\n",
       "           0.88889,     0.88989,     0.89089,     0.89189,     0.89289,     0.89389,     0.89489,      0.8959,      0.8969,      0.8979,      0.8989,      0.8999,      0.9009,      0.9019,      0.9029,      0.9039,      0.9049,     0.90591,     0.90691,     0.90791,     0.90891,     0.90991,     0.91091,     0.91191,\n",
       "           0.91291,     0.91391,     0.91491,     0.91592,     0.91692,     0.91792,     0.91892,     0.91992,     0.92092,     0.92192,     0.92292,     0.92392,     0.92492,     0.92593,     0.92693,     0.92793,     0.92893,     0.92993,     0.93093,     0.93193,     0.93293,     0.93393,     0.93493,     0.93594,\n",
       "           0.93694,     0.93794,     0.93894,     0.93994,     0.94094,     0.94194,     0.94294,     0.94394,     0.94494,     0.94595,     0.94695,     0.94795,     0.94895,     0.94995,     0.95095,     0.95195,     0.95295,     0.95395,     0.95495,     0.95596,     0.95696,     0.95796,     0.95896,     0.95996,\n",
       "           0.96096,     0.96196,     0.96296,     0.96396,     0.96496,     0.96597,     0.96697,     0.96797,     0.96897,     0.96997,     0.97097,     0.97197,     0.97297,     0.97397,     0.97497,     0.97598,     0.97698,     0.97798,     0.97898,     0.97998,     0.98098,     0.98198,     0.98298,     0.98398,\n",
       "           0.98498,     0.98599,     0.98699,     0.98799,     0.98899,     0.98999,     0.99099,     0.99199,     0.99299,     0.99399,     0.99499,       0.996,       0.997,       0.998,       0.999,           1]), array([[    0.61937,     0.61937,     0.70007,     0.73645,     0.76034,     0.77335,     0.78515,      0.7928,     0.79936,     0.80617,     0.81157,     0.81598,     0.82065,      0.8246,     0.82827,     0.83078,     0.83411,     0.83641,     0.83877,     0.84083,     0.84213,      0.8436,     0.84509,\n",
       "            0.84637,     0.84733,     0.84866,     0.84933,     0.84985,     0.85148,     0.85217,     0.85278,     0.85419,     0.85529,     0.85665,     0.85684,     0.85706,      0.8575,     0.85873,     0.85913,      0.8593,     0.86032,     0.86097,     0.86111,     0.86172,     0.86168,     0.86268,\n",
       "            0.86348,     0.86384,     0.86465,      0.8653,     0.86592,     0.86683,     0.86782,     0.86837,     0.86877,     0.86915,     0.86907,     0.86947,        0.87,     0.87047,     0.87136,     0.87116,     0.87152,      0.8717,     0.87182,     0.87309,      0.8739,      0.8742,     0.87436,\n",
       "            0.87505,      0.8749,     0.87495,      0.8756,      0.8759,     0.87574,     0.87596,     0.87613,     0.87679,     0.87725,     0.87784,     0.87791,     0.87799,     0.87829,     0.87841,     0.87858,     0.87878,     0.87924,     0.87966,     0.88003,     0.88049,     0.88107,     0.88119,\n",
       "            0.88117,     0.88146,     0.88164,     0.88222,     0.88236,     0.88255,     0.88232,     0.88246,     0.88259,     0.88273,     0.88245,     0.88334,     0.88321,     0.88314,     0.88327,     0.88374,     0.88468,     0.88512,     0.88523,     0.88503,     0.88487,     0.88472,     0.88468,\n",
       "            0.88472,     0.88476,      0.8848,     0.88485,     0.88489,     0.88502,     0.88519,     0.88538,     0.88574,     0.88594,     0.88627,      0.8864,     0.88647,     0.88654,      0.8866,     0.88667,     0.88673,      0.8868,     0.88699,     0.88735,     0.88753,     0.88696,     0.88722,\n",
       "            0.88729,     0.88735,     0.88742,     0.88763,     0.88746,     0.88744,     0.88761,      0.8877,     0.88729,     0.88737,     0.88746,     0.88764,     0.88789,     0.88793,     0.88805,     0.88815,     0.88803,     0.88791,      0.8881,     0.88822,     0.88833,      0.8887,     0.88858,\n",
       "            0.88873,     0.88905,     0.88916,     0.88928,     0.88937,     0.88946,     0.88958,     0.88972,     0.88951,     0.88949,     0.88957,     0.88964,     0.88971,     0.89014,     0.89023,     0.89032,     0.89047,     0.89065,     0.89079,     0.89123,      0.8914,      0.8915,     0.89154,\n",
       "            0.89129,     0.89138,     0.89149,     0.89162,     0.89175,     0.89184,     0.89193,     0.89201,      0.8922,     0.89203,     0.89213,     0.89231,     0.89271,     0.89274,     0.89272,     0.89281,     0.89294,     0.89313,     0.89297,     0.89308,     0.89316,     0.89324,     0.89332,\n",
       "            0.89329,     0.89326,     0.89323,      0.8932,     0.89317,     0.89314,     0.89311,     0.89307,     0.89304,     0.89329,      0.8935,     0.89355,      0.8936,     0.89365,     0.89369,     0.89374,     0.89411,     0.89423,     0.89412,     0.89401,     0.89418,     0.89416,     0.89413,\n",
       "             0.8941,     0.89407,     0.89405,     0.89402,     0.89399,     0.89396,     0.89394,     0.89391,     0.89393,     0.89404,     0.89414,     0.89417,      0.8942,     0.89424,     0.89427,      0.8943,     0.89433,     0.89436,     0.89412,      0.8943,     0.89446,     0.89459,     0.89464,\n",
       "            0.89469,     0.89473,     0.89478,     0.89479,     0.89458,      0.8946,     0.89471,     0.89473,     0.89465,     0.89457,     0.89449,     0.89456,     0.89495,     0.89487,     0.89479,     0.89471,     0.89455,     0.89436,      0.8944,     0.89443,     0.89447,      0.8945,     0.89454,\n",
       "            0.89458,     0.89447,     0.89429,     0.89422,     0.89415,     0.89408,     0.89402,     0.89401,     0.89411,     0.89421,     0.89404,     0.89396,     0.89406,     0.89416,     0.89421,     0.89427,     0.89432,     0.89437,     0.89442,      0.8945,     0.89458,     0.89466,      0.8948,\n",
       "            0.89488,     0.89476,     0.89463,     0.89455,     0.89447,      0.8944,     0.89432,     0.89409,     0.89404,     0.89412,      0.8942,     0.89436,     0.89427,     0.89403,     0.89387,     0.89391,     0.89396,       0.894,     0.89404,     0.89408,     0.89405,     0.89378,     0.89369,\n",
       "             0.8936,     0.89351,     0.89358,     0.89369,     0.89347,     0.89354,     0.89361,     0.89369,     0.89351,     0.89345,     0.89367,     0.89382,     0.89397,     0.89411,     0.89445,     0.89452,     0.89459,     0.89467,     0.89473,      0.8948,     0.89487,     0.89496,     0.89505,\n",
       "            0.89516,      0.8953,     0.89553,     0.89582,     0.89585,     0.89579,     0.89573,     0.89568,     0.89562,     0.89559,     0.89561,     0.89563,     0.89565,     0.89567,      0.8957,     0.89572,     0.89574,     0.89576,     0.89578,      0.8958,     0.89583,     0.89589,     0.89599,\n",
       "            0.89608,     0.89623,     0.89651,      0.8963,     0.89637,     0.89644,     0.89651,     0.89651,     0.89648,     0.89644,     0.89641,     0.89638,     0.89634,     0.89631,     0.89628,     0.89624,     0.89627,     0.89642,     0.89653,     0.89662,      0.8967,     0.89691,     0.89724,\n",
       "            0.89748,     0.89732,     0.89718,     0.89722,     0.89726,     0.89729,     0.89733,     0.89737,     0.89741,     0.89713,     0.89717,      0.8972,     0.89724,     0.89727,     0.89731,     0.89734,     0.89742,     0.89765,     0.89778,     0.89789,     0.89796,     0.89803,     0.89809,\n",
       "            0.89825,     0.89847,      0.8986,     0.89822,     0.89806,     0.89779,     0.89736,     0.89731,     0.89726,     0.89721,     0.89717,     0.89712,     0.89709,     0.89716,     0.89722,     0.89729,     0.89725,     0.89704,      0.8971,     0.89717,     0.89724,     0.89724,     0.89716,\n",
       "            0.89707,     0.89699,     0.89701,     0.89707,     0.89714,     0.89721,     0.89725,      0.8973,     0.89734,     0.89738,     0.89743,     0.89747,     0.89754,      0.8976,     0.89767,     0.89773,     0.89779,     0.89784,      0.8979,     0.89795,     0.89809,      0.8983,     0.89843,\n",
       "            0.89877,     0.89881,     0.89886,      0.8989,     0.89895,     0.89899,     0.89884,     0.89868,     0.89895,     0.89904,     0.89912,     0.89908,       0.899,     0.89892,     0.89884,     0.89888,     0.89893,     0.89898,     0.89903,     0.89909,     0.89917,     0.89926,     0.89935,\n",
       "            0.89939,     0.89943,     0.89948,     0.89952,     0.89957,     0.89961,     0.89968,     0.89975,     0.89981,     0.89994,      0.9002,     0.90046,     0.90064,     0.90069,     0.90073,     0.90078,     0.90082,     0.90086,     0.90086,      0.9008,     0.90075,      0.9007,     0.90064,\n",
       "            0.90059,     0.90075,     0.90092,     0.90105,     0.90128,      0.9012,     0.90112,     0.90104,     0.90076,     0.90083,     0.90096,      0.9009,     0.90082,     0.90074,     0.90066,      0.9006,     0.90055,      0.9005,     0.90044,     0.90039,     0.90064,     0.90088,     0.90102,\n",
       "            0.90118,      0.9014,     0.90149,     0.90158,     0.90158,     0.90142,     0.90142,     0.90194,     0.90212,     0.90217,     0.90222,     0.90228,     0.90233,     0.90276,     0.90278,     0.90262,     0.90264,     0.90277,     0.90291,     0.90304,       0.903,     0.90289,     0.90278,\n",
       "            0.90281,     0.90288,     0.90295,     0.90301,     0.90242,     0.90255,     0.90269,     0.90278,     0.90287,     0.90288,     0.90281,     0.90275,     0.90268,     0.90262,     0.90238,     0.90246,     0.90272,     0.90267,     0.90281,      0.9029,     0.90299,     0.90348,     0.90325,\n",
       "            0.90344,     0.90319,     0.90324,     0.90328,     0.90332,     0.90337,     0.90368,     0.90375,     0.90383,     0.90391,     0.90385,     0.90381,     0.90377,     0.90373,     0.90369,     0.90365,     0.90361,     0.90357,      0.9033,     0.90328,     0.90332,     0.90336,      0.9034,\n",
       "            0.90344,     0.90349,     0.90345,     0.90334,     0.90323,     0.90324,     0.90333,     0.90342,     0.90349,     0.90355,     0.90361,     0.90367,     0.90374,     0.90383,     0.90391,     0.90406,     0.90425,     0.90427,      0.9043,     0.90432,     0.90435,     0.90437,      0.9044,\n",
       "            0.90443,     0.90445,     0.90448,     0.90456,     0.90478,     0.90482,     0.90486,     0.90489,     0.90493,     0.90496,       0.905,     0.90511,     0.90544,     0.90496,      0.9051,     0.90483,     0.90476,     0.90468,     0.90461,     0.90454,     0.90457,     0.90459,     0.90462,\n",
       "            0.90465,     0.90468,      0.9047,     0.90473,     0.90476,     0.90478,     0.90478,     0.90469,     0.90459,      0.9045,     0.90442,     0.90433,     0.90425,     0.90417,     0.90424,     0.90432,     0.90439,     0.90431,     0.90413,     0.90436,     0.90419,     0.90407,     0.90418,\n",
       "            0.90428,     0.90441,     0.90455,     0.90495,     0.90482,     0.90493,     0.90504,     0.90511,     0.90517,     0.90523,     0.90529,     0.90492,     0.90476,     0.90436,      0.9045,     0.90463,     0.90482,     0.90494,     0.90503,     0.90512,     0.90543,     0.90549,     0.90555,\n",
       "            0.90561,     0.90567,     0.90551,     0.90572,     0.90593,     0.90604,     0.90615,     0.90634,     0.90624,     0.90615,      0.9062,     0.90637,     0.90642,     0.90646,     0.90651,     0.90655,      0.9066,     0.90635,     0.90653,     0.90634,     0.90598,     0.90603,     0.90609,\n",
       "            0.90614,      0.9062,     0.90626,     0.90632,     0.90638,     0.90644,      0.9065,     0.90657,     0.90664,     0.90671,     0.90696,     0.90687,     0.90679,     0.90671,     0.90752,     0.90757,     0.90762,     0.90767,     0.90772,     0.90778,     0.90785,     0.90793,     0.90801,\n",
       "            0.90832,     0.90842,     0.90851,     0.90861,     0.90872,     0.90881,     0.90859,     0.90866,     0.90888,     0.90903,     0.90895,     0.90888,     0.90881,     0.90873,     0.90906,     0.90923,     0.90913,     0.90904,     0.90894,     0.90909,     0.90942,     0.90999,     0.90958,\n",
       "            0.90936,     0.90872,     0.90891,     0.90878,     0.90871,     0.90864,     0.90895,     0.90949,      0.9096,     0.90993,     0.90979,     0.90966,     0.90977,      0.9098,     0.90947,     0.90932,      0.9095,     0.90923,     0.90928,     0.90938,     0.90947,     0.90925,     0.90929,\n",
       "            0.90949,     0.90963,     0.90959,     0.90942,     0.90954,     0.90956,     0.90945,     0.90934,     0.90941,     0.90955,     0.90964,     0.90945,     0.90935,     0.90926,      0.9098,     0.90994,     0.91027,     0.91007,     0.90979,     0.90894,     0.90912,     0.90885,     0.90863,\n",
       "            0.90884,     0.90898,     0.90896,     0.90899,     0.90876,     0.90828,     0.90811,     0.90809,     0.90804,     0.90775,      0.9075,     0.90755,     0.90738,     0.90724,     0.90731,     0.90736,     0.90719,     0.90755,     0.90773,     0.90784,     0.90784,     0.90758,     0.90772,\n",
       "            0.90775,     0.90754,     0.90773,     0.90719,     0.90678,     0.90649,     0.90654,      0.9062,     0.90572,      0.9048,     0.90457,     0.90434,     0.90415,     0.90359,     0.90282,      0.9026,     0.90237,     0.90186,     0.90163,     0.90201,     0.90187,     0.90181,       0.902,\n",
       "            0.90153,     0.90155,     0.90188,     0.90181,     0.90167,     0.90131,     0.90056,     0.89963,     0.89959,     0.89937,     0.89834,     0.89829,     0.89806,     0.89798,     0.89793,     0.89772,     0.89759,     0.89803,     0.89818,     0.89768,     0.89686,     0.89648,     0.89583,\n",
       "             0.8956,     0.89442,      0.8935,     0.89371,     0.89305,     0.89274,     0.89228,     0.89242,     0.89216,     0.89131,     0.89096,     0.89087,     0.89072,     0.89074,     0.89006,     0.88908,     0.88897,     0.88875,     0.88832,     0.88725,     0.88646,     0.88654,     0.88538,\n",
       "            0.88507,     0.88483,     0.88414,     0.88354,      0.8833,     0.88274,     0.88163,     0.88052,     0.87974,     0.87889,     0.87769,     0.87768,     0.87642,     0.87462,     0.87442,      0.8734,     0.87346,     0.87182,     0.87104,     0.86841,      0.8672,     0.86523,      0.8633,\n",
       "            0.85902,     0.85776,     0.85408,     0.85007,     0.84668,     0.84554,     0.84116,     0.83871,     0.83478,     0.83258,     0.82889,     0.82317,     0.81795,     0.81456,     0.81019,     0.80523,     0.79923,     0.79137,     0.78167,     0.77248,     0.75687,     0.74712,     0.73354,\n",
       "            0.71907,     0.70821,     0.69564,     0.68682,     0.66959,     0.65214,     0.62811,     0.60749,     0.58538,     0.56266,     0.53295,     0.49928,     0.47508,     0.44168,     0.40065,     0.36527,     0.30684,     0.24421,     0.19905,     0.14641,      0.1152,    0.081827,    0.060762,\n",
       "            0.04379,    0.027675,    0.017154,    0.014462,   0.0052791,   0.0033244,   0.0025142,           0,           0,           0,           0,           0,           0,           0,           0,           0,           0,           0,           0,           0,           0,           0,           0,\n",
       "                  0,           0,           0,           0,           0,           0,           0,           0,           0,           0,           0]]), 'Confidence', 'F1'], [array([          0,    0.001001,    0.002002,    0.003003,    0.004004,    0.005005,    0.006006,    0.007007,    0.008008,    0.009009,     0.01001,    0.011011,    0.012012,    0.013013,    0.014014,    0.015015,    0.016016,    0.017017,    0.018018,    0.019019,     0.02002,    0.021021,    0.022022,    0.023023,\n",
       "          0.024024,    0.025025,    0.026026,    0.027027,    0.028028,    0.029029,     0.03003,    0.031031,    0.032032,    0.033033,    0.034034,    0.035035,    0.036036,    0.037037,    0.038038,    0.039039,     0.04004,    0.041041,    0.042042,    0.043043,    0.044044,    0.045045,    0.046046,    0.047047,\n",
       "          0.048048,    0.049049,     0.05005,    0.051051,    0.052052,    0.053053,    0.054054,    0.055055,    0.056056,    0.057057,    0.058058,    0.059059,     0.06006,    0.061061,    0.062062,    0.063063,    0.064064,    0.065065,    0.066066,    0.067067,    0.068068,    0.069069,     0.07007,    0.071071,\n",
       "          0.072072,    0.073073,    0.074074,    0.075075,    0.076076,    0.077077,    0.078078,    0.079079,     0.08008,    0.081081,    0.082082,    0.083083,    0.084084,    0.085085,    0.086086,    0.087087,    0.088088,    0.089089,     0.09009,    0.091091,    0.092092,    0.093093,    0.094094,    0.095095,\n",
       "          0.096096,    0.097097,    0.098098,    0.099099,      0.1001,      0.1011,      0.1021,      0.1031,      0.1041,     0.10511,     0.10611,     0.10711,     0.10811,     0.10911,     0.11011,     0.11111,     0.11211,     0.11311,     0.11411,     0.11512,     0.11612,     0.11712,     0.11812,     0.11912,\n",
       "           0.12012,     0.12112,     0.12212,     0.12312,     0.12412,     0.12513,     0.12613,     0.12713,     0.12813,     0.12913,     0.13013,     0.13113,     0.13213,     0.13313,     0.13413,     0.13514,     0.13614,     0.13714,     0.13814,     0.13914,     0.14014,     0.14114,     0.14214,     0.14314,\n",
       "           0.14414,     0.14515,     0.14615,     0.14715,     0.14815,     0.14915,     0.15015,     0.15115,     0.15215,     0.15315,     0.15415,     0.15516,     0.15616,     0.15716,     0.15816,     0.15916,     0.16016,     0.16116,     0.16216,     0.16316,     0.16416,     0.16517,     0.16617,     0.16717,\n",
       "           0.16817,     0.16917,     0.17017,     0.17117,     0.17217,     0.17317,     0.17417,     0.17518,     0.17618,     0.17718,     0.17818,     0.17918,     0.18018,     0.18118,     0.18218,     0.18318,     0.18418,     0.18519,     0.18619,     0.18719,     0.18819,     0.18919,     0.19019,     0.19119,\n",
       "           0.19219,     0.19319,     0.19419,      0.1952,      0.1962,      0.1972,      0.1982,      0.1992,      0.2002,      0.2012,      0.2022,      0.2032,      0.2042,     0.20521,     0.20621,     0.20721,     0.20821,     0.20921,     0.21021,     0.21121,     0.21221,     0.21321,     0.21421,     0.21522,\n",
       "           0.21622,     0.21722,     0.21822,     0.21922,     0.22022,     0.22122,     0.22222,     0.22322,     0.22422,     0.22523,     0.22623,     0.22723,     0.22823,     0.22923,     0.23023,     0.23123,     0.23223,     0.23323,     0.23423,     0.23524,     0.23624,     0.23724,     0.23824,     0.23924,\n",
       "           0.24024,     0.24124,     0.24224,     0.24324,     0.24424,     0.24525,     0.24625,     0.24725,     0.24825,     0.24925,     0.25025,     0.25125,     0.25225,     0.25325,     0.25425,     0.25526,     0.25626,     0.25726,     0.25826,     0.25926,     0.26026,     0.26126,     0.26226,     0.26326,\n",
       "           0.26426,     0.26527,     0.26627,     0.26727,     0.26827,     0.26927,     0.27027,     0.27127,     0.27227,     0.27327,     0.27427,     0.27528,     0.27628,     0.27728,     0.27828,     0.27928,     0.28028,     0.28128,     0.28228,     0.28328,     0.28428,     0.28529,     0.28629,     0.28729,\n",
       "           0.28829,     0.28929,     0.29029,     0.29129,     0.29229,     0.29329,     0.29429,      0.2953,      0.2963,      0.2973,      0.2983,      0.2993,      0.3003,      0.3013,      0.3023,      0.3033,      0.3043,     0.30531,     0.30631,     0.30731,     0.30831,     0.30931,     0.31031,     0.31131,\n",
       "           0.31231,     0.31331,     0.31431,     0.31532,     0.31632,     0.31732,     0.31832,     0.31932,     0.32032,     0.32132,     0.32232,     0.32332,     0.32432,     0.32533,     0.32633,     0.32733,     0.32833,     0.32933,     0.33033,     0.33133,     0.33233,     0.33333,     0.33433,     0.33534,\n",
       "           0.33634,     0.33734,     0.33834,     0.33934,     0.34034,     0.34134,     0.34234,     0.34334,     0.34434,     0.34535,     0.34635,     0.34735,     0.34835,     0.34935,     0.35035,     0.35135,     0.35235,     0.35335,     0.35435,     0.35536,     0.35636,     0.35736,     0.35836,     0.35936,\n",
       "           0.36036,     0.36136,     0.36236,     0.36336,     0.36436,     0.36537,     0.36637,     0.36737,     0.36837,     0.36937,     0.37037,     0.37137,     0.37237,     0.37337,     0.37437,     0.37538,     0.37638,     0.37738,     0.37838,     0.37938,     0.38038,     0.38138,     0.38238,     0.38338,\n",
       "           0.38438,     0.38539,     0.38639,     0.38739,     0.38839,     0.38939,     0.39039,     0.39139,     0.39239,     0.39339,     0.39439,      0.3954,      0.3964,      0.3974,      0.3984,      0.3994,      0.4004,      0.4014,      0.4024,      0.4034,      0.4044,     0.40541,     0.40641,     0.40741,\n",
       "           0.40841,     0.40941,     0.41041,     0.41141,     0.41241,     0.41341,     0.41441,     0.41542,     0.41642,     0.41742,     0.41842,     0.41942,     0.42042,     0.42142,     0.42242,     0.42342,     0.42442,     0.42543,     0.42643,     0.42743,     0.42843,     0.42943,     0.43043,     0.43143,\n",
       "           0.43243,     0.43343,     0.43443,     0.43544,     0.43644,     0.43744,     0.43844,     0.43944,     0.44044,     0.44144,     0.44244,     0.44344,     0.44444,     0.44545,     0.44645,     0.44745,     0.44845,     0.44945,     0.45045,     0.45145,     0.45245,     0.45345,     0.45445,     0.45546,\n",
       "           0.45646,     0.45746,     0.45846,     0.45946,     0.46046,     0.46146,     0.46246,     0.46346,     0.46446,     0.46547,     0.46647,     0.46747,     0.46847,     0.46947,     0.47047,     0.47147,     0.47247,     0.47347,     0.47447,     0.47548,     0.47648,     0.47748,     0.47848,     0.47948,\n",
       "           0.48048,     0.48148,     0.48248,     0.48348,     0.48448,     0.48549,     0.48649,     0.48749,     0.48849,     0.48949,     0.49049,     0.49149,     0.49249,     0.49349,     0.49449,      0.4955,      0.4965,      0.4975,      0.4985,      0.4995,      0.5005,      0.5015,      0.5025,      0.5035,\n",
       "            0.5045,     0.50551,     0.50651,     0.50751,     0.50851,     0.50951,     0.51051,     0.51151,     0.51251,     0.51351,     0.51451,     0.51552,     0.51652,     0.51752,     0.51852,     0.51952,     0.52052,     0.52152,     0.52252,     0.52352,     0.52452,     0.52553,     0.52653,     0.52753,\n",
       "           0.52853,     0.52953,     0.53053,     0.53153,     0.53253,     0.53353,     0.53453,     0.53554,     0.53654,     0.53754,     0.53854,     0.53954,     0.54054,     0.54154,     0.54254,     0.54354,     0.54454,     0.54555,     0.54655,     0.54755,     0.54855,     0.54955,     0.55055,     0.55155,\n",
       "           0.55255,     0.55355,     0.55455,     0.55556,     0.55656,     0.55756,     0.55856,     0.55956,     0.56056,     0.56156,     0.56256,     0.56356,     0.56456,     0.56557,     0.56657,     0.56757,     0.56857,     0.56957,     0.57057,     0.57157,     0.57257,     0.57357,     0.57457,     0.57558,\n",
       "           0.57658,     0.57758,     0.57858,     0.57958,     0.58058,     0.58158,     0.58258,     0.58358,     0.58458,     0.58559,     0.58659,     0.58759,     0.58859,     0.58959,     0.59059,     0.59159,     0.59259,     0.59359,     0.59459,      0.5956,      0.5966,      0.5976,      0.5986,      0.5996,\n",
       "            0.6006,      0.6016,      0.6026,      0.6036,      0.6046,     0.60561,     0.60661,     0.60761,     0.60861,     0.60961,     0.61061,     0.61161,     0.61261,     0.61361,     0.61461,     0.61562,     0.61662,     0.61762,     0.61862,     0.61962,     0.62062,     0.62162,     0.62262,     0.62362,\n",
       "           0.62462,     0.62563,     0.62663,     0.62763,     0.62863,     0.62963,     0.63063,     0.63163,     0.63263,     0.63363,     0.63463,     0.63564,     0.63664,     0.63764,     0.63864,     0.63964,     0.64064,     0.64164,     0.64264,     0.64364,     0.64464,     0.64565,     0.64665,     0.64765,\n",
       "           0.64865,     0.64965,     0.65065,     0.65165,     0.65265,     0.65365,     0.65465,     0.65566,     0.65666,     0.65766,     0.65866,     0.65966,     0.66066,     0.66166,     0.66266,     0.66366,     0.66466,     0.66567,     0.66667,     0.66767,     0.66867,     0.66967,     0.67067,     0.67167,\n",
       "           0.67267,     0.67367,     0.67467,     0.67568,     0.67668,     0.67768,     0.67868,     0.67968,     0.68068,     0.68168,     0.68268,     0.68368,     0.68468,     0.68569,     0.68669,     0.68769,     0.68869,     0.68969,     0.69069,     0.69169,     0.69269,     0.69369,     0.69469,      0.6957,\n",
       "            0.6967,      0.6977,      0.6987,      0.6997,      0.7007,      0.7017,      0.7027,      0.7037,      0.7047,     0.70571,     0.70671,     0.70771,     0.70871,     0.70971,     0.71071,     0.71171,     0.71271,     0.71371,     0.71471,     0.71572,     0.71672,     0.71772,     0.71872,     0.71972,\n",
       "           0.72072,     0.72172,     0.72272,     0.72372,     0.72472,     0.72573,     0.72673,     0.72773,     0.72873,     0.72973,     0.73073,     0.73173,     0.73273,     0.73373,     0.73473,     0.73574,     0.73674,     0.73774,     0.73874,     0.73974,     0.74074,     0.74174,     0.74274,     0.74374,\n",
       "           0.74474,     0.74575,     0.74675,     0.74775,     0.74875,     0.74975,     0.75075,     0.75175,     0.75275,     0.75375,     0.75475,     0.75576,     0.75676,     0.75776,     0.75876,     0.75976,     0.76076,     0.76176,     0.76276,     0.76376,     0.76476,     0.76577,     0.76677,     0.76777,\n",
       "           0.76877,     0.76977,     0.77077,     0.77177,     0.77277,     0.77377,     0.77477,     0.77578,     0.77678,     0.77778,     0.77878,     0.77978,     0.78078,     0.78178,     0.78278,     0.78378,     0.78478,     0.78579,     0.78679,     0.78779,     0.78879,     0.78979,     0.79079,     0.79179,\n",
       "           0.79279,     0.79379,     0.79479,      0.7958,      0.7968,      0.7978,      0.7988,      0.7998,      0.8008,      0.8018,      0.8028,      0.8038,      0.8048,     0.80581,     0.80681,     0.80781,     0.80881,     0.80981,     0.81081,     0.81181,     0.81281,     0.81381,     0.81481,     0.81582,\n",
       "           0.81682,     0.81782,     0.81882,     0.81982,     0.82082,     0.82182,     0.82282,     0.82382,     0.82482,     0.82583,     0.82683,     0.82783,     0.82883,     0.82983,     0.83083,     0.83183,     0.83283,     0.83383,     0.83483,     0.83584,     0.83684,     0.83784,     0.83884,     0.83984,\n",
       "           0.84084,     0.84184,     0.84284,     0.84384,     0.84484,     0.84585,     0.84685,     0.84785,     0.84885,     0.84985,     0.85085,     0.85185,     0.85285,     0.85385,     0.85485,     0.85586,     0.85686,     0.85786,     0.85886,     0.85986,     0.86086,     0.86186,     0.86286,     0.86386,\n",
       "           0.86486,     0.86587,     0.86687,     0.86787,     0.86887,     0.86987,     0.87087,     0.87187,     0.87287,     0.87387,     0.87487,     0.87588,     0.87688,     0.87788,     0.87888,     0.87988,     0.88088,     0.88188,     0.88288,     0.88388,     0.88488,     0.88589,     0.88689,     0.88789,\n",
       "           0.88889,     0.88989,     0.89089,     0.89189,     0.89289,     0.89389,     0.89489,      0.8959,      0.8969,      0.8979,      0.8989,      0.8999,      0.9009,      0.9019,      0.9029,      0.9039,      0.9049,     0.90591,     0.90691,     0.90791,     0.90891,     0.90991,     0.91091,     0.91191,\n",
       "           0.91291,     0.91391,     0.91491,     0.91592,     0.91692,     0.91792,     0.91892,     0.91992,     0.92092,     0.92192,     0.92292,     0.92392,     0.92492,     0.92593,     0.92693,     0.92793,     0.92893,     0.92993,     0.93093,     0.93193,     0.93293,     0.93393,     0.93493,     0.93594,\n",
       "           0.93694,     0.93794,     0.93894,     0.93994,     0.94094,     0.94194,     0.94294,     0.94394,     0.94494,     0.94595,     0.94695,     0.94795,     0.94895,     0.94995,     0.95095,     0.95195,     0.95295,     0.95395,     0.95495,     0.95596,     0.95696,     0.95796,     0.95896,     0.95996,\n",
       "           0.96096,     0.96196,     0.96296,     0.96396,     0.96496,     0.96597,     0.96697,     0.96797,     0.96897,     0.96997,     0.97097,     0.97197,     0.97297,     0.97397,     0.97497,     0.97598,     0.97698,     0.97798,     0.97898,     0.97998,     0.98098,     0.98198,     0.98298,     0.98398,\n",
       "           0.98498,     0.98599,     0.98699,     0.98799,     0.98899,     0.98999,     0.99099,     0.99199,     0.99299,     0.99399,     0.99499,       0.996,       0.997,       0.998,       0.999,           1]), array([[    0.44983,     0.44983,     0.54081,     0.58592,     0.61722,     0.63503,     0.65162,     0.66276,     0.67197,     0.68194,     0.69029,       0.697,     0.70415,      0.7103,     0.71576,     0.71983,     0.72485,     0.72832,     0.73192,     0.73539,     0.73738,     0.73963,     0.74194,\n",
       "            0.74425,     0.74676,      0.7492,     0.75058,     0.75139,     0.75394,     0.75502,     0.75634,     0.75856,      0.7603,     0.76244,     0.76312,     0.76402,     0.76489,     0.76685,     0.76753,     0.76813,     0.76976,      0.7708,     0.77103,     0.77201,     0.77268,      0.7743,\n",
       "            0.77559,     0.77617,     0.77748,     0.77852,     0.77954,     0.78101,     0.78262,     0.78351,     0.78417,     0.78479,     0.78505,     0.78569,     0.78655,     0.78733,     0.78889,     0.78882,     0.78943,     0.78973,     0.78993,     0.79201,     0.79335,     0.79385,     0.79411,\n",
       "            0.79524,     0.79527,     0.79548,     0.79656,     0.79715,      0.7971,     0.79755,     0.79784,     0.79893,     0.79969,     0.80068,      0.8008,     0.80092,     0.80143,     0.80162,     0.80191,     0.80266,     0.80342,     0.80412,     0.80474,      0.8055,     0.80648,     0.80667,\n",
       "            0.80678,     0.80754,     0.80784,     0.80882,     0.80906,     0.80982,     0.80982,     0.81005,     0.81028,     0.81051,     0.81045,     0.81204,       0.812,     0.81202,     0.81225,     0.81304,     0.81464,     0.81538,     0.81562,     0.81556,     0.81551,     0.81547,     0.81548,\n",
       "            0.81555,     0.81562,      0.8157,     0.81577,     0.81584,     0.81606,     0.81635,     0.81667,     0.81729,     0.81763,     0.81819,     0.81842,     0.81853,     0.81864,     0.81876,     0.81887,     0.81898,     0.81909,     0.81942,     0.82004,     0.82035,     0.82023,     0.82068,\n",
       "            0.82079,      0.8209,       0.821,     0.82143,     0.82138,     0.82148,     0.82177,     0.82214,     0.82208,     0.82222,     0.82237,     0.82268,     0.82311,     0.82362,     0.82382,     0.82401,     0.82397,     0.82394,     0.82434,     0.82455,     0.82475,     0.82556,     0.82561,\n",
       "            0.82587,     0.82641,     0.82662,     0.82681,     0.82697,     0.82713,     0.82733,     0.82758,     0.82755,     0.82763,     0.82776,     0.82789,     0.82832,      0.8292,     0.82935,      0.8295,     0.82976,     0.83008,     0.83032,     0.83109,     0.83137,     0.83156,     0.83169,\n",
       "            0.83162,      0.8318,     0.83198,      0.8322,     0.83244,      0.8326,     0.83274,     0.83289,     0.83322,     0.83337,     0.83355,     0.83385,     0.83456,     0.83491,     0.83502,     0.83519,     0.83541,     0.83575,     0.83571,     0.83611,     0.83625,     0.83638,     0.83652,\n",
       "            0.83653,     0.83652,     0.83651,      0.8365,     0.83649,     0.83648,     0.83647,     0.83646,     0.83646,     0.83694,     0.83729,     0.83739,     0.83747,     0.83756,     0.83764,     0.83772,     0.83837,     0.83862,     0.83859,     0.83856,     0.83898,     0.83897,     0.83896,\n",
       "            0.83895,     0.83895,     0.83894,     0.83893,     0.83892,     0.83891,     0.83891,      0.8389,     0.83896,     0.83916,     0.83934,     0.83939,     0.83945,     0.83951,     0.83956,     0.83962,     0.83967,     0.83973,     0.83975,     0.84008,     0.84036,     0.84059,     0.84067,\n",
       "            0.84076,     0.84085,     0.84093,       0.841,     0.84094,     0.84106,     0.84126,     0.84135,     0.84133,     0.84131,     0.84129,     0.84146,     0.84216,     0.84214,     0.84212,     0.84209,     0.84205,     0.84203,     0.84209,     0.84216,     0.84222,     0.84229,     0.84235,\n",
       "            0.84242,      0.8424,     0.84236,     0.84234,     0.84232,      0.8423,     0.84228,     0.84233,     0.84251,     0.84269,     0.84266,     0.84271,     0.84289,     0.84307,     0.84316,     0.84326,     0.84335,     0.84344,     0.84353,     0.84367,     0.84381,     0.84395,     0.84421,\n",
       "             0.8444,     0.84437,     0.84433,     0.84431,     0.84429,     0.84427,     0.84425,     0.84419,     0.84426,      0.8444,     0.84454,     0.84484,       0.845,     0.84494,      0.8449,     0.84497,     0.84505,     0.84513,      0.8452,     0.84528,     0.84532,     0.84525,     0.84523,\n",
       "             0.8452,     0.84518,     0.84533,     0.84551,     0.84559,     0.84573,     0.84586,     0.84599,     0.84594,     0.84604,     0.84644,      0.8467,     0.84697,     0.84723,     0.84783,     0.84796,     0.84809,     0.84822,     0.84834,     0.84847,     0.84859,     0.84875,     0.84892,\n",
       "             0.8491,     0.84937,     0.84978,      0.8503,     0.85042,      0.8504,     0.85039,     0.85037,     0.85036,     0.85036,      0.8504,     0.85044,     0.85048,     0.85052,     0.85056,     0.85059,     0.85063,     0.85067,     0.85071,     0.85075,     0.85079,     0.85091,     0.85108,\n",
       "            0.85125,     0.85151,     0.85215,     0.85212,     0.85225,     0.85237,      0.8525,     0.85254,     0.85253,     0.85252,     0.85252,     0.85251,      0.8525,     0.85249,     0.85248,     0.85247,     0.85256,     0.85283,     0.85303,     0.85318,     0.85334,     0.85372,     0.85431,\n",
       "            0.85476,     0.85472,     0.85469,     0.85476,     0.85483,      0.8549,     0.85497,     0.85504,     0.85511,      0.8551,     0.85516,     0.85522,     0.85528,     0.85535,     0.85541,     0.85547,     0.85561,     0.85604,     0.85627,     0.85648,      0.8566,     0.85672,     0.85683,\n",
       "            0.85713,     0.85752,     0.85776,     0.85773,      0.8577,     0.85763,     0.85752,     0.85751,      0.8575,     0.85749,     0.85747,     0.85746,     0.85747,     0.85759,     0.85771,     0.85783,      0.8579,     0.85787,     0.85799,     0.85811,     0.85823,      0.8583,     0.85828,\n",
       "            0.85826,     0.85824,     0.85832,     0.85843,     0.85855,     0.85867,     0.85876,     0.85884,     0.85892,       0.859,     0.85908,     0.85916,     0.85928,      0.8594,     0.85952,     0.85964,     0.85974,     0.85984,     0.85994,     0.86004,      0.8603,     0.86067,     0.86092,\n",
       "            0.86154,     0.86163,     0.86171,     0.86179,     0.86187,     0.86195,     0.86235,     0.86231,     0.86288,     0.86304,      0.8632,     0.86322,      0.8632,     0.86319,     0.86317,     0.86325,     0.86334,     0.86344,     0.86354,     0.86364,      0.8638,     0.86396,     0.86411,\n",
       "             0.8642,     0.86428,     0.86436,     0.86444,     0.86452,     0.86461,     0.86473,     0.86485,     0.86497,     0.86521,     0.86569,     0.86618,     0.86651,      0.8666,     0.86668,     0.86676,     0.86684,     0.86692,     0.86695,     0.86694,     0.86693,     0.86692,      0.8669,\n",
       "            0.86689,     0.86721,     0.86753,     0.86778,     0.86831,     0.86829,     0.86827,     0.86825,     0.86818,     0.86839,     0.86863,     0.86864,     0.86862,      0.8686,     0.86858,     0.86857,     0.86856,     0.86854,     0.86853,     0.86852,     0.86907,     0.86951,     0.86976,\n",
       "            0.87006,     0.87047,     0.87064,      0.8708,      0.8709,     0.87087,     0.87103,     0.87201,     0.87234,     0.87244,     0.87253,     0.87263,     0.87273,     0.87354,     0.87373,     0.87369,     0.87383,     0.87408,     0.87433,     0.87458,     0.87463,     0.87461,     0.87459,\n",
       "            0.87468,     0.87481,     0.87493,     0.87506,     0.87494,     0.87524,     0.87549,     0.87566,     0.87583,      0.8759,     0.87589,     0.87587,     0.87586,     0.87584,     0.87579,     0.87611,     0.87661,     0.87705,      0.8773,     0.87747,     0.87764,     0.87857,     0.87859,\n",
       "            0.87902,     0.87908,     0.87917,     0.87925,     0.87934,     0.87942,     0.88001,     0.88015,      0.8803,     0.88044,     0.88092,     0.88091,      0.8809,     0.88089,     0.88089,     0.88088,     0.88087,     0.88086,      0.8808,     0.88086,     0.88094,     0.88101,     0.88109,\n",
       "            0.88117,     0.88125,     0.88128,     0.88125,     0.88123,     0.88132,     0.88149,     0.88166,     0.88179,     0.88191,     0.88202,     0.88214,     0.88226,     0.88243,     0.88261,     0.88289,     0.88324,     0.88329,     0.88334,     0.88338,     0.88343,     0.88348,     0.88353,\n",
       "            0.88358,     0.88363,     0.88368,     0.88384,     0.88427,     0.88433,      0.8844,     0.88447,     0.88454,     0.88461,     0.88468,     0.88488,     0.88571,     0.88569,     0.88595,     0.88603,     0.88602,       0.886,     0.88599,     0.88598,     0.88603,     0.88608,     0.88613,\n",
       "            0.88618,     0.88623,     0.88629,     0.88634,     0.88639,     0.88644,     0.88648,     0.88646,     0.88644,     0.88642,      0.8864,     0.88638,     0.88637,     0.88635,     0.88649,     0.88664,     0.88679,     0.88683,     0.88683,      0.8873,     0.88726,     0.88726,     0.88747,\n",
       "            0.88768,     0.88793,     0.88819,     0.88924,     0.88927,     0.88948,     0.88969,     0.88982,     0.88993,     0.89005,     0.89017,     0.89015,     0.89012,     0.89004,     0.89031,     0.89058,     0.89093,     0.89117,     0.89135,     0.89152,     0.89212,     0.89223,     0.89235,\n",
       "            0.89247,     0.89259,     0.89283,     0.89324,     0.89366,     0.89387,     0.89408,      0.8946,     0.89458,     0.89456,     0.89473,     0.89508,     0.89516,     0.89525,     0.89534,     0.89543,     0.89552,      0.8956,     0.89595,     0.89601,     0.89601,     0.89612,     0.89622,\n",
       "            0.89633,     0.89644,     0.89655,     0.89667,     0.89679,     0.89691,     0.89704,     0.89717,     0.89731,     0.89744,     0.89801,     0.89799,     0.89798,     0.89796,      0.8996,      0.8997,     0.89979,     0.89989,     0.89999,     0.90011,     0.90026,     0.90041,     0.90057,\n",
       "            0.90119,     0.90137,     0.90155,     0.90174,     0.90196,     0.90217,     0.90213,     0.90242,     0.90286,     0.90317,     0.90315,     0.90314,     0.90313,     0.90312,     0.90379,     0.90417,     0.90415,     0.90414,     0.90412,     0.90443,      0.9051,     0.90622,     0.90618,\n",
       "            0.90614,     0.90605,     0.90655,     0.90653,     0.90661,     0.90705,     0.90768,     0.90875,     0.90897,     0.90968,     0.90966,     0.90964,     0.90992,     0.91016,      0.9101,      0.9102,     0.91057,     0.91056,     0.91073,     0.91091,      0.9111,     0.91106,     0.91134,\n",
       "            0.91174,     0.91202,     0.91212,     0.91209,     0.91245,     0.91262,      0.9126,     0.91258,     0.91279,     0.91307,     0.91364,      0.9136,     0.91359,     0.91357,     0.91478,     0.91506,     0.91573,     0.91624,      0.9162,     0.91608,     0.91646,     0.91656,     0.91653,\n",
       "            0.91711,      0.9174,     0.91761,     0.91812,     0.91809,     0.91853,     0.91851,     0.91867,     0.91902,     0.91897,     0.91935,     0.91998,     0.91996,     0.91994,     0.92021,     0.92048,     0.92045,     0.92133,      0.9217,     0.92193,     0.92212,     0.92265,     0.92294,\n",
       "            0.92316,     0.92322,     0.92361,     0.92414,     0.92408,     0.92422,     0.92458,     0.92453,     0.92447,     0.92433,      0.9243,     0.92427,     0.92452,      0.9247,     0.92459,     0.92456,     0.92453,       0.925,     0.92496,      0.9261,     0.92608,     0.92616,     0.92656,\n",
       "            0.92658,     0.92693,     0.92763,      0.9277,     0.92768,     0.92763,     0.92808,      0.9285,     0.92877,     0.92902,     0.92888,     0.92943,      0.9294,     0.93008,     0.93066,     0.93103,     0.93157,     0.93295,     0.93326,     0.93357,      0.9343,     0.93539,     0.93531,\n",
       "            0.93528,     0.93559,      0.9356,     0.93617,     0.93612,     0.93666,     0.93661,     0.93692,     0.93717,     0.93707,     0.93819,     0.93856,     0.93895,     0.93934,     0.93926,     0.93914,     0.93945,     0.94088,     0.94143,     0.94131,     0.94182,     0.94218,      0.9429,\n",
       "            0.94286,     0.94284,     0.94357,     0.94452,     0.94449,     0.94504,     0.94493,     0.94543,     0.94534,     0.94526,     0.94699,     0.94744,     0.94811,     0.94857,     0.94918,      0.9512,     0.95356,     0.95471,     0.95465,     0.95507,     0.95562,      0.9561,     0.95662,\n",
       "            0.95762,     0.95818,     0.95797,     0.95823,     0.95882,     0.95971,     0.96033,     0.96085,     0.96054,     0.96182,     0.96228,     0.96259,     0.96447,     0.96499,     0.96623,     0.96826,     0.96867,     0.97137,     0.97257,     0.97205,     0.97113,     0.97145,     0.97345,\n",
       "             0.9736,     0.97599,     0.97844,     0.97909,      0.9794,      0.9809,     0.98229,     0.98272,      0.9818,     0.98513,     0.98556,     0.98597,     0.98687,     0.98965,     0.99294,     0.99735,     0.99673,           1,           1,           1,           1,           1,           1,\n",
       "                  1,           1,           1,           1,           1,           1,           1,           1,           1,           1,           1,           1,           1,           1,           1,           1,           1,           1,           1,           1,           1,           1,           1,\n",
       "                  1,           1,           1,           1,           1,           1,           1,           1,           1,           1,           1]]), 'Confidence', 'Precision'], [array([          0,    0.001001,    0.002002,    0.003003,    0.004004,    0.005005,    0.006006,    0.007007,    0.008008,    0.009009,     0.01001,    0.011011,    0.012012,    0.013013,    0.014014,    0.015015,    0.016016,    0.017017,    0.018018,    0.019019,     0.02002,    0.021021,    0.022022,    0.023023,\n",
       "          0.024024,    0.025025,    0.026026,    0.027027,    0.028028,    0.029029,     0.03003,    0.031031,    0.032032,    0.033033,    0.034034,    0.035035,    0.036036,    0.037037,    0.038038,    0.039039,     0.04004,    0.041041,    0.042042,    0.043043,    0.044044,    0.045045,    0.046046,    0.047047,\n",
       "          0.048048,    0.049049,     0.05005,    0.051051,    0.052052,    0.053053,    0.054054,    0.055055,    0.056056,    0.057057,    0.058058,    0.059059,     0.06006,    0.061061,    0.062062,    0.063063,    0.064064,    0.065065,    0.066066,    0.067067,    0.068068,    0.069069,     0.07007,    0.071071,\n",
       "          0.072072,    0.073073,    0.074074,    0.075075,    0.076076,    0.077077,    0.078078,    0.079079,     0.08008,    0.081081,    0.082082,    0.083083,    0.084084,    0.085085,    0.086086,    0.087087,    0.088088,    0.089089,     0.09009,    0.091091,    0.092092,    0.093093,    0.094094,    0.095095,\n",
       "          0.096096,    0.097097,    0.098098,    0.099099,      0.1001,      0.1011,      0.1021,      0.1031,      0.1041,     0.10511,     0.10611,     0.10711,     0.10811,     0.10911,     0.11011,     0.11111,     0.11211,     0.11311,     0.11411,     0.11512,     0.11612,     0.11712,     0.11812,     0.11912,\n",
       "           0.12012,     0.12112,     0.12212,     0.12312,     0.12412,     0.12513,     0.12613,     0.12713,     0.12813,     0.12913,     0.13013,     0.13113,     0.13213,     0.13313,     0.13413,     0.13514,     0.13614,     0.13714,     0.13814,     0.13914,     0.14014,     0.14114,     0.14214,     0.14314,\n",
       "           0.14414,     0.14515,     0.14615,     0.14715,     0.14815,     0.14915,     0.15015,     0.15115,     0.15215,     0.15315,     0.15415,     0.15516,     0.15616,     0.15716,     0.15816,     0.15916,     0.16016,     0.16116,     0.16216,     0.16316,     0.16416,     0.16517,     0.16617,     0.16717,\n",
       "           0.16817,     0.16917,     0.17017,     0.17117,     0.17217,     0.17317,     0.17417,     0.17518,     0.17618,     0.17718,     0.17818,     0.17918,     0.18018,     0.18118,     0.18218,     0.18318,     0.18418,     0.18519,     0.18619,     0.18719,     0.18819,     0.18919,     0.19019,     0.19119,\n",
       "           0.19219,     0.19319,     0.19419,      0.1952,      0.1962,      0.1972,      0.1982,      0.1992,      0.2002,      0.2012,      0.2022,      0.2032,      0.2042,     0.20521,     0.20621,     0.20721,     0.20821,     0.20921,     0.21021,     0.21121,     0.21221,     0.21321,     0.21421,     0.21522,\n",
       "           0.21622,     0.21722,     0.21822,     0.21922,     0.22022,     0.22122,     0.22222,     0.22322,     0.22422,     0.22523,     0.22623,     0.22723,     0.22823,     0.22923,     0.23023,     0.23123,     0.23223,     0.23323,     0.23423,     0.23524,     0.23624,     0.23724,     0.23824,     0.23924,\n",
       "           0.24024,     0.24124,     0.24224,     0.24324,     0.24424,     0.24525,     0.24625,     0.24725,     0.24825,     0.24925,     0.25025,     0.25125,     0.25225,     0.25325,     0.25425,     0.25526,     0.25626,     0.25726,     0.25826,     0.25926,     0.26026,     0.26126,     0.26226,     0.26326,\n",
       "           0.26426,     0.26527,     0.26627,     0.26727,     0.26827,     0.26927,     0.27027,     0.27127,     0.27227,     0.27327,     0.27427,     0.27528,     0.27628,     0.27728,     0.27828,     0.27928,     0.28028,     0.28128,     0.28228,     0.28328,     0.28428,     0.28529,     0.28629,     0.28729,\n",
       "           0.28829,     0.28929,     0.29029,     0.29129,     0.29229,     0.29329,     0.29429,      0.2953,      0.2963,      0.2973,      0.2983,      0.2993,      0.3003,      0.3013,      0.3023,      0.3033,      0.3043,     0.30531,     0.30631,     0.30731,     0.30831,     0.30931,     0.31031,     0.31131,\n",
       "           0.31231,     0.31331,     0.31431,     0.31532,     0.31632,     0.31732,     0.31832,     0.31932,     0.32032,     0.32132,     0.32232,     0.32332,     0.32432,     0.32533,     0.32633,     0.32733,     0.32833,     0.32933,     0.33033,     0.33133,     0.33233,     0.33333,     0.33433,     0.33534,\n",
       "           0.33634,     0.33734,     0.33834,     0.33934,     0.34034,     0.34134,     0.34234,     0.34334,     0.34434,     0.34535,     0.34635,     0.34735,     0.34835,     0.34935,     0.35035,     0.35135,     0.35235,     0.35335,     0.35435,     0.35536,     0.35636,     0.35736,     0.35836,     0.35936,\n",
       "           0.36036,     0.36136,     0.36236,     0.36336,     0.36436,     0.36537,     0.36637,     0.36737,     0.36837,     0.36937,     0.37037,     0.37137,     0.37237,     0.37337,     0.37437,     0.37538,     0.37638,     0.37738,     0.37838,     0.37938,     0.38038,     0.38138,     0.38238,     0.38338,\n",
       "           0.38438,     0.38539,     0.38639,     0.38739,     0.38839,     0.38939,     0.39039,     0.39139,     0.39239,     0.39339,     0.39439,      0.3954,      0.3964,      0.3974,      0.3984,      0.3994,      0.4004,      0.4014,      0.4024,      0.4034,      0.4044,     0.40541,     0.40641,     0.40741,\n",
       "           0.40841,     0.40941,     0.41041,     0.41141,     0.41241,     0.41341,     0.41441,     0.41542,     0.41642,     0.41742,     0.41842,     0.41942,     0.42042,     0.42142,     0.42242,     0.42342,     0.42442,     0.42543,     0.42643,     0.42743,     0.42843,     0.42943,     0.43043,     0.43143,\n",
       "           0.43243,     0.43343,     0.43443,     0.43544,     0.43644,     0.43744,     0.43844,     0.43944,     0.44044,     0.44144,     0.44244,     0.44344,     0.44444,     0.44545,     0.44645,     0.44745,     0.44845,     0.44945,     0.45045,     0.45145,     0.45245,     0.45345,     0.45445,     0.45546,\n",
       "           0.45646,     0.45746,     0.45846,     0.45946,     0.46046,     0.46146,     0.46246,     0.46346,     0.46446,     0.46547,     0.46647,     0.46747,     0.46847,     0.46947,     0.47047,     0.47147,     0.47247,     0.47347,     0.47447,     0.47548,     0.47648,     0.47748,     0.47848,     0.47948,\n",
       "           0.48048,     0.48148,     0.48248,     0.48348,     0.48448,     0.48549,     0.48649,     0.48749,     0.48849,     0.48949,     0.49049,     0.49149,     0.49249,     0.49349,     0.49449,      0.4955,      0.4965,      0.4975,      0.4985,      0.4995,      0.5005,      0.5015,      0.5025,      0.5035,\n",
       "            0.5045,     0.50551,     0.50651,     0.50751,     0.50851,     0.50951,     0.51051,     0.51151,     0.51251,     0.51351,     0.51451,     0.51552,     0.51652,     0.51752,     0.51852,     0.51952,     0.52052,     0.52152,     0.52252,     0.52352,     0.52452,     0.52553,     0.52653,     0.52753,\n",
       "           0.52853,     0.52953,     0.53053,     0.53153,     0.53253,     0.53353,     0.53453,     0.53554,     0.53654,     0.53754,     0.53854,     0.53954,     0.54054,     0.54154,     0.54254,     0.54354,     0.54454,     0.54555,     0.54655,     0.54755,     0.54855,     0.54955,     0.55055,     0.55155,\n",
       "           0.55255,     0.55355,     0.55455,     0.55556,     0.55656,     0.55756,     0.55856,     0.55956,     0.56056,     0.56156,     0.56256,     0.56356,     0.56456,     0.56557,     0.56657,     0.56757,     0.56857,     0.56957,     0.57057,     0.57157,     0.57257,     0.57357,     0.57457,     0.57558,\n",
       "           0.57658,     0.57758,     0.57858,     0.57958,     0.58058,     0.58158,     0.58258,     0.58358,     0.58458,     0.58559,     0.58659,     0.58759,     0.58859,     0.58959,     0.59059,     0.59159,     0.59259,     0.59359,     0.59459,      0.5956,      0.5966,      0.5976,      0.5986,      0.5996,\n",
       "            0.6006,      0.6016,      0.6026,      0.6036,      0.6046,     0.60561,     0.60661,     0.60761,     0.60861,     0.60961,     0.61061,     0.61161,     0.61261,     0.61361,     0.61461,     0.61562,     0.61662,     0.61762,     0.61862,     0.61962,     0.62062,     0.62162,     0.62262,     0.62362,\n",
       "           0.62462,     0.62563,     0.62663,     0.62763,     0.62863,     0.62963,     0.63063,     0.63163,     0.63263,     0.63363,     0.63463,     0.63564,     0.63664,     0.63764,     0.63864,     0.63964,     0.64064,     0.64164,     0.64264,     0.64364,     0.64464,     0.64565,     0.64665,     0.64765,\n",
       "           0.64865,     0.64965,     0.65065,     0.65165,     0.65265,     0.65365,     0.65465,     0.65566,     0.65666,     0.65766,     0.65866,     0.65966,     0.66066,     0.66166,     0.66266,     0.66366,     0.66466,     0.66567,     0.66667,     0.66767,     0.66867,     0.66967,     0.67067,     0.67167,\n",
       "           0.67267,     0.67367,     0.67467,     0.67568,     0.67668,     0.67768,     0.67868,     0.67968,     0.68068,     0.68168,     0.68268,     0.68368,     0.68468,     0.68569,     0.68669,     0.68769,     0.68869,     0.68969,     0.69069,     0.69169,     0.69269,     0.69369,     0.69469,      0.6957,\n",
       "            0.6967,      0.6977,      0.6987,      0.6997,      0.7007,      0.7017,      0.7027,      0.7037,      0.7047,     0.70571,     0.70671,     0.70771,     0.70871,     0.70971,     0.71071,     0.71171,     0.71271,     0.71371,     0.71471,     0.71572,     0.71672,     0.71772,     0.71872,     0.71972,\n",
       "           0.72072,     0.72172,     0.72272,     0.72372,     0.72472,     0.72573,     0.72673,     0.72773,     0.72873,     0.72973,     0.73073,     0.73173,     0.73273,     0.73373,     0.73473,     0.73574,     0.73674,     0.73774,     0.73874,     0.73974,     0.74074,     0.74174,     0.74274,     0.74374,\n",
       "           0.74474,     0.74575,     0.74675,     0.74775,     0.74875,     0.74975,     0.75075,     0.75175,     0.75275,     0.75375,     0.75475,     0.75576,     0.75676,     0.75776,     0.75876,     0.75976,     0.76076,     0.76176,     0.76276,     0.76376,     0.76476,     0.76577,     0.76677,     0.76777,\n",
       "           0.76877,     0.76977,     0.77077,     0.77177,     0.77277,     0.77377,     0.77477,     0.77578,     0.77678,     0.77778,     0.77878,     0.77978,     0.78078,     0.78178,     0.78278,     0.78378,     0.78478,     0.78579,     0.78679,     0.78779,     0.78879,     0.78979,     0.79079,     0.79179,\n",
       "           0.79279,     0.79379,     0.79479,      0.7958,      0.7968,      0.7978,      0.7988,      0.7998,      0.8008,      0.8018,      0.8028,      0.8038,      0.8048,     0.80581,     0.80681,     0.80781,     0.80881,     0.80981,     0.81081,     0.81181,     0.81281,     0.81381,     0.81481,     0.81582,\n",
       "           0.81682,     0.81782,     0.81882,     0.81982,     0.82082,     0.82182,     0.82282,     0.82382,     0.82482,     0.82583,     0.82683,     0.82783,     0.82883,     0.82983,     0.83083,     0.83183,     0.83283,     0.83383,     0.83483,     0.83584,     0.83684,     0.83784,     0.83884,     0.83984,\n",
       "           0.84084,     0.84184,     0.84284,     0.84384,     0.84484,     0.84585,     0.84685,     0.84785,     0.84885,     0.84985,     0.85085,     0.85185,     0.85285,     0.85385,     0.85485,     0.85586,     0.85686,     0.85786,     0.85886,     0.85986,     0.86086,     0.86186,     0.86286,     0.86386,\n",
       "           0.86486,     0.86587,     0.86687,     0.86787,     0.86887,     0.86987,     0.87087,     0.87187,     0.87287,     0.87387,     0.87487,     0.87588,     0.87688,     0.87788,     0.87888,     0.87988,     0.88088,     0.88188,     0.88288,     0.88388,     0.88488,     0.88589,     0.88689,     0.88789,\n",
       "           0.88889,     0.88989,     0.89089,     0.89189,     0.89289,     0.89389,     0.89489,      0.8959,      0.8969,      0.8979,      0.8989,      0.8999,      0.9009,      0.9019,      0.9029,      0.9039,      0.9049,     0.90591,     0.90691,     0.90791,     0.90891,     0.90991,     0.91091,     0.91191,\n",
       "           0.91291,     0.91391,     0.91491,     0.91592,     0.91692,     0.91792,     0.91892,     0.91992,     0.92092,     0.92192,     0.92292,     0.92392,     0.92492,     0.92593,     0.92693,     0.92793,     0.92893,     0.92993,     0.93093,     0.93193,     0.93293,     0.93393,     0.93493,     0.93594,\n",
       "           0.93694,     0.93794,     0.93894,     0.93994,     0.94094,     0.94194,     0.94294,     0.94394,     0.94494,     0.94595,     0.94695,     0.94795,     0.94895,     0.94995,     0.95095,     0.95195,     0.95295,     0.95395,     0.95495,     0.95596,     0.95696,     0.95796,     0.95896,     0.95996,\n",
       "           0.96096,     0.96196,     0.96296,     0.96396,     0.96496,     0.96597,     0.96697,     0.96797,     0.96897,     0.96997,     0.97097,     0.97197,     0.97297,     0.97397,     0.97497,     0.97598,     0.97698,     0.97798,     0.97898,     0.97998,     0.98098,     0.98198,     0.98298,     0.98398,\n",
       "           0.98498,     0.98599,     0.98699,     0.98799,     0.98899,     0.98999,     0.99099,     0.99199,     0.99299,     0.99399,     0.99499,       0.996,       0.997,       0.998,       0.999,           1]), array([[    0.99405,     0.99405,     0.99227,     0.99108,     0.98989,      0.9887,     0.98749,     0.98633,     0.98633,     0.98573,     0.98454,     0.98395,     0.98335,     0.98276,     0.98276,     0.98216,     0.98216,     0.98216,     0.98216,     0.98157,     0.98157,     0.98157,     0.98157,\n",
       "            0.98098,     0.97919,     0.97857,       0.978,       0.978,       0.978,       0.978,     0.97741,     0.97741,     0.97741,     0.97741,      0.9768,     0.97591,     0.97562,     0.97562,     0.97556,     0.97503,     0.97503,     0.97503,     0.97503,     0.97503,     0.97384,     0.97384,\n",
       "            0.97384,     0.97384,     0.97384,     0.97384,     0.97384,     0.97384,     0.97384,     0.97384,     0.97384,     0.97384,     0.97325,     0.97325,     0.97325,     0.97325,     0.97309,      0.9727,     0.97265,     0.97265,     0.97265,     0.97265,     0.97265,     0.97265,     0.97265,\n",
       "            0.97265,     0.97226,     0.97206,     0.97206,     0.97192,      0.9716,     0.97146,     0.97146,     0.97146,     0.97146,     0.97146,     0.97146,     0.97146,     0.97146,     0.97146,     0.97146,     0.97087,     0.97087,     0.97087,     0.97087,     0.97087,     0.97087,     0.97087,\n",
       "            0.97066,     0.97027,     0.97027,     0.97027,     0.97027,     0.96963,     0.96908,     0.96908,     0.96908,     0.96908,      0.9685,     0.96837,      0.9681,      0.9679,      0.9679,      0.9679,      0.9679,      0.9679,     0.96782,     0.96743,     0.96712,     0.96684,     0.96671,\n",
       "            0.96671,     0.96671,     0.96671,     0.96671,     0.96671,     0.96671,     0.96671,     0.96671,     0.96671,     0.96671,     0.96671,     0.96671,     0.96671,     0.96671,     0.96671,     0.96671,     0.96671,     0.96671,     0.96671,     0.96671,     0.96671,     0.96552,     0.96552,\n",
       "            0.96552,     0.96552,     0.96552,     0.96543,      0.9651,     0.96492,     0.96492,     0.96462,     0.96373,     0.96373,     0.96373,     0.96373,     0.96373,     0.96314,     0.96314,     0.96312,     0.96289,     0.96266,     0.96254,     0.96254,     0.96254,     0.96229,     0.96195,\n",
       "            0.96195,     0.96195,     0.96195,     0.96195,     0.96195,     0.96195,     0.96195,     0.96195,      0.9615,     0.96136,     0.96136,     0.96136,     0.96092,     0.96076,     0.96076,     0.96076,     0.96076,     0.96076,     0.96076,     0.96076,     0.96076,     0.96076,     0.96066,\n",
       "            0.96018,     0.96017,     0.96017,     0.96017,     0.96017,     0.96017,     0.96017,     0.96017,     0.96017,     0.95957,     0.95957,     0.95957,     0.95957,     0.95916,     0.95898,     0.95898,     0.95898,     0.95897,     0.95866,     0.95838,     0.95838,     0.95838,     0.95838,\n",
       "            0.95833,     0.95827,     0.95821,     0.95814,     0.95808,     0.95802,     0.95796,      0.9579,     0.95784,     0.95779,     0.95779,     0.95779,     0.95779,     0.95779,     0.95779,     0.95779,     0.95779,     0.95774,     0.95753,     0.95732,     0.95717,     0.95712,     0.95706,\n",
       "            0.95701,     0.95696,      0.9569,     0.95685,      0.9568,     0.95674,     0.95669,     0.95664,      0.9566,      0.9566,      0.9566,      0.9566,      0.9566,      0.9566,      0.9566,      0.9566,      0.9566,      0.9566,       0.956,       0.956,       0.956,       0.956,       0.956,\n",
       "              0.956,       0.956,       0.956,     0.95594,     0.95554,     0.95541,     0.95541,     0.95533,     0.95518,     0.95503,     0.95488,     0.95482,      0.9548,     0.95464,     0.95449,     0.95434,     0.95404,     0.95363,     0.95363,     0.95363,     0.95363,     0.95363,     0.95363,\n",
       "            0.95363,     0.95339,     0.95305,     0.95291,     0.95278,     0.95265,     0.95252,     0.95244,     0.95244,     0.95244,     0.95208,     0.95184,     0.95184,     0.95184,     0.95184,     0.95184,     0.95184,     0.95184,     0.95184,     0.95184,     0.95184,     0.95184,     0.95184,\n",
       "            0.95179,     0.95154,      0.9513,     0.95114,     0.95099,     0.95085,     0.95071,     0.95026,     0.95006,     0.95006,     0.95006,     0.95006,     0.94964,     0.94919,     0.94887,     0.94887,     0.94887,     0.94887,     0.94887,     0.94887,     0.94873,     0.94823,     0.94806,\n",
       "            0.94788,     0.94771,     0.94768,     0.94768,     0.94709,     0.94709,     0.94709,     0.94709,     0.94674,     0.94649,     0.94649,     0.94649,     0.94649,     0.94649,     0.94649,     0.94649,     0.94649,     0.94649,     0.94649,     0.94649,     0.94649,     0.94649,     0.94649,\n",
       "            0.94649,     0.94649,     0.94649,     0.94649,     0.94641,      0.9463,     0.94619,     0.94608,     0.94597,      0.9459,      0.9459,      0.9459,      0.9459,      0.9459,      0.9459,      0.9459,      0.9459,      0.9459,      0.9459,      0.9459,      0.9459,      0.9459,      0.9459,\n",
       "             0.9459,      0.9459,     0.94574,      0.9453,      0.9453,      0.9453,      0.9453,     0.94526,      0.9452,     0.94514,     0.94507,     0.94501,     0.94494,     0.94488,     0.94481,     0.94475,     0.94471,     0.94471,     0.94471,     0.94471,     0.94471,     0.94471,     0.94471,\n",
       "             0.9447,     0.94439,     0.94411,     0.94411,     0.94411,     0.94411,     0.94411,     0.94411,     0.94411,     0.94352,     0.94352,     0.94352,     0.94352,     0.94352,     0.94352,     0.94352,     0.94352,     0.94352,     0.94352,     0.94352,     0.94352,     0.94352,     0.94352,\n",
       "            0.94352,     0.94352,     0.94352,     0.94272,     0.94242,     0.94189,     0.94107,     0.94098,     0.94089,      0.9408,     0.94071,     0.94062,     0.94055,     0.94055,     0.94055,     0.94055,     0.94039,     0.93995,     0.93995,     0.93995,     0.93995,     0.93989,     0.93973,\n",
       "            0.93957,      0.9394,     0.93936,     0.93936,     0.93936,     0.93936,     0.93936,     0.93936,     0.93936,     0.93936,     0.93936,     0.93936,     0.93936,     0.93936,     0.93936,     0.93936,     0.93936,     0.93936,     0.93936,     0.93936,     0.93936,     0.93936,     0.93936,\n",
       "            0.93936,     0.93936,     0.93936,     0.93936,     0.93936,     0.93936,     0.93857,     0.93826,     0.93817,     0.93817,     0.93817,     0.93805,      0.9379,     0.93775,     0.93759,     0.93757,     0.93757,     0.93757,     0.93757,     0.93757,     0.93757,     0.93757,     0.93757,\n",
       "            0.93757,     0.93757,     0.93757,     0.93757,     0.93757,     0.93757,     0.93757,     0.93757,     0.93757,     0.93757,     0.93757,     0.93757,     0.93757,     0.93757,     0.93757,     0.93757,     0.93757,     0.93757,     0.93752,     0.93742,     0.93732,     0.93722,     0.93711,\n",
       "            0.93701,     0.93698,     0.93698,     0.93698,     0.93687,     0.93671,     0.93656,     0.93641,     0.93587,     0.93579,     0.93579,     0.93565,      0.9355,     0.93535,     0.93519,     0.93509,     0.93499,     0.93489,     0.93479,     0.93469,      0.9346,      0.9346,      0.9346,\n",
       "             0.9346,      0.9346,      0.9346,      0.9346,      0.9345,      0.9342,     0.93401,     0.93401,     0.93401,     0.93401,     0.93401,     0.93401,     0.93401,     0.93401,     0.93383,     0.93353,     0.93341,     0.93341,     0.93341,     0.93341,     0.93327,     0.93306,     0.93286,\n",
       "            0.93282,     0.93282,     0.93282,     0.93282,     0.93168,     0.93163,     0.93163,     0.93163,     0.93163,     0.93156,     0.93144,     0.93132,      0.9312,     0.93108,     0.93064,     0.93044,     0.93044,     0.92985,     0.92985,     0.92985,     0.92985,     0.92985,     0.92933,\n",
       "            0.92925,     0.92866,     0.92866,     0.92866,     0.92866,     0.92866,     0.92866,     0.92866,     0.92866,     0.92866,     0.92801,     0.92794,     0.92786,     0.92779,     0.92771,     0.92763,     0.92756,     0.92748,     0.92697,     0.92687,     0.92687,     0.92687,     0.92687,\n",
       "            0.92687,     0.92687,     0.92677,     0.92657,     0.92636,     0.92628,     0.92628,     0.92628,     0.92628,     0.92628,     0.92628,     0.92628,     0.92628,     0.92628,     0.92628,     0.92628,     0.92628,     0.92628,     0.92628,     0.92628,     0.92628,     0.92628,     0.92628,\n",
       "            0.92628,     0.92628,     0.92628,     0.92628,     0.92628,     0.92628,     0.92628,     0.92628,     0.92628,     0.92628,     0.92628,     0.92628,     0.92608,     0.92509,     0.92509,     0.92444,      0.9243,     0.92417,     0.92403,      0.9239,      0.9239,      0.9239,      0.9239,\n",
       "             0.9239,      0.9239,      0.9239,      0.9239,      0.9239,      0.9239,     0.92385,     0.92368,     0.92351,     0.92333,     0.92318,     0.92302,     0.92287,     0.92272,     0.92271,     0.92271,     0.92271,      0.9225,     0.92212,     0.92209,     0.92178,     0.92152,     0.92152,\n",
       "            0.92152,     0.92152,     0.92152,     0.92122,     0.92093,     0.92093,     0.92093,     0.92093,     0.92093,     0.92093,     0.92093,     0.92019,     0.91989,     0.91914,     0.91914,     0.91914,     0.91914,     0.91914,     0.91914,     0.91914,     0.91914,     0.91914,     0.91914,\n",
       "            0.91914,     0.91914,     0.91855,     0.91855,     0.91855,     0.91855,     0.91855,     0.91839,     0.91822,     0.91804,     0.91795,     0.91795,     0.91795,     0.91795,     0.91795,     0.91795,     0.91795,     0.91736,     0.91736,     0.91692,     0.91617,     0.91617,     0.91617,\n",
       "            0.91617,     0.91617,     0.91617,     0.91617,     0.91617,     0.91617,     0.91617,     0.91617,     0.91617,     0.91617,     0.91608,     0.91593,     0.91578,     0.91563,     0.91558,     0.91558,     0.91558,     0.91558,     0.91558,     0.91558,     0.91558,     0.91558,     0.91558,\n",
       "            0.91558,     0.91558,     0.91558,     0.91558,     0.91558,     0.91556,     0.91515,     0.91498,     0.91498,     0.91496,     0.91483,     0.91469,     0.91456,     0.91442,     0.91439,     0.91434,     0.91416,     0.91399,     0.91382,     0.91379,     0.91379,     0.91379,     0.91301,\n",
       "            0.91261,     0.91141,     0.91129,     0.91104,     0.91082,     0.91023,     0.91023,     0.91023,     0.91023,     0.91017,     0.90993,     0.90969,     0.90963,     0.90944,     0.90883,     0.90844,     0.90844,      0.9079,     0.90785,     0.90785,     0.90785,     0.90744,     0.90725,\n",
       "            0.90725,     0.90725,     0.90707,     0.90676,     0.90666,     0.90652,     0.90632,     0.90611,     0.90606,     0.90606,     0.90568,     0.90533,     0.90515,     0.90498,     0.90488,     0.90488,     0.90488,     0.90399,     0.90348,      0.9019,      0.9019,     0.90127,     0.90086,\n",
       "            0.90071,     0.90071,     0.90048,     0.90003,     0.89963,     0.89825,     0.89795,     0.89774,     0.89733,      0.8968,     0.89596,     0.89546,     0.89514,     0.89489,     0.89477,     0.89461,     0.89431,     0.89417,     0.89417,     0.89417,       0.894,     0.89298,     0.89298,\n",
       "            0.89285,     0.89239,     0.89239,     0.89085,     0.89012,     0.88942,      0.8892,     0.88859,     0.88773,     0.88607,     0.88566,     0.88526,     0.88466,     0.88342,     0.88206,     0.88165,     0.88124,     0.87985,     0.87944,     0.87914,      0.8789,     0.87872,     0.87872,\n",
       "            0.87781,     0.87753,     0.87753,     0.87732,     0.87708,     0.87643,     0.87462,     0.87249,     0.87218,     0.87156,     0.86974,     0.86917,     0.86877,     0.86801,     0.86742,     0.86672,       0.866,     0.86564,     0.86564,     0.86445,     0.86231,     0.86069,     0.85955,\n",
       "            0.85915,     0.85672,     0.85503,     0.85493,     0.85378,     0.85276,     0.85196,     0.85196,     0.85128,     0.84982,     0.84825,      0.8478,     0.84721,     0.84693,     0.84575,     0.84409,     0.84364,      0.8421,     0.84088,     0.83906,     0.83725,      0.8371,     0.83447,\n",
       "            0.83395,     0.83354,     0.83175,     0.82996,     0.82955,     0.82814,     0.82628,     0.82395,     0.82265,     0.82124,     0.81784,     0.81748,     0.81481,     0.81137,     0.81059,     0.80737,     0.80577,     0.80217,     0.80089,     0.79617,     0.79376,     0.79013,     0.78657,\n",
       "            0.77883,      0.7764,     0.77051,     0.76385,     0.75803,     0.75565,     0.74831,     0.74412,     0.73814,     0.73395,     0.72797,     0.71903,     0.71008,      0.7047,     0.69753,     0.68918,     0.68023,     0.66766,     0.65342,     0.64091,     0.62007,     0.60696,      0.5885,\n",
       "            0.57004,     0.55574,     0.53966,     0.52893,     0.50868,     0.48844,     0.46165,     0.43963,       0.417,     0.39379,     0.36522,     0.33428,     0.31284,     0.28428,     0.25095,     0.22357,     0.18133,     0.13909,     0.11052,    0.078984,    0.061119,    0.042659,    0.031333,\n",
       "           0.022385,    0.014032,   0.0086513,   0.0072834,   0.0026465,    0.001665,   0.0012587,           0,           0,           0,           0,           0,           0,           0,           0,           0,           0,           0,           0,           0,           0,           0,           0,\n",
       "                  0,           0,           0,           0,           0,           0,           0,           0,           0,           0,           0]]), 'Confidence', 'Recall']]\n",
       "fitness: 0.930648729885344\n",
       "keys: ['metrics/precision(B)', 'metrics/recall(B)', 'metrics/mAP50(B)', 'metrics/mAP50-95(B)']\n",
       "maps: array([    0.92748])\n",
       "names: {0: 'strawberry'}\n",
       "plot: True\n",
       "results_dict: {'metrics/precision(B)': 0.911061777411651, 'metrics/recall(B)': 0.9074437100596435, 'metrics/mAP50(B)': 0.9591766496760585, 'metrics/mAP50-95(B)': 0.927478961019709, 'fitness': 0.930648729885344}\n",
       "save_dir: PosixPath('runs/detect/val')\n",
       "speed: {'preprocess': 0.3018943601385415, 'inference': 1.3779541067722534, 'loss': 0.0009410117211580638, 'postprocess': 1.542461479198589}\n",
       "task: 'detect'"
      ]
     },
     "execution_count": 1,
     "metadata": {},
     "output_type": "execute_result"
    }
   ],
   "source": [
    "from ultralytics import YOLO\n",
    "model_path = \"runs/detect/train/weights/best.pt\"\n",
    "model = YOLO(model_path)\n",
    "model.val(half=True, dnn=True)"
   ]
  },
  {
   "cell_type": "code",
   "execution_count": null,
   "metadata": {},
   "outputs": [],
   "source": [
    "%pip install nvidia-pyindex\n",
    "%pip install nvidia-tensorrt"
   ]
  },
  {
   "cell_type": "code",
   "execution_count": 3,
   "metadata": {},
   "outputs": [
    {
     "name": "stdout",
     "output_type": "stream",
     "text": [
      "WARNING ⚠️ TensorRT requires GPU export, automatically assigning device=0\n",
      "Ultralytics YOLOv8.1.9 🚀 Python-3.10.8 torch-2.0.0+cu118 CUDA:0 (NVIDIA GeForce GTX 1650 Ti, 4096MiB)\n",
      "YOLOv8n-seg summary (fused): 195 layers, 3258259 parameters, 0 gradients, 12.0 GFLOPs\n",
      "\n",
      "\u001b[34m\u001b[1mPyTorch:\u001b[0m starting from 'models\\yolov8n\\best.pt' with input shape (1, 3, 640, 640) BCHW and output shape(s) ((1, 37, 8400), (1, 32, 160, 160)) (6.5 MB)\n",
      "\n",
      "\u001b[34m\u001b[1mONNX:\u001b[0m starting export with onnx 1.15.0 opset 17...\n",
      "============= Diagnostic Run torch.onnx.export version 2.0.0+cu118 =============\n",
      "verbose: False, log level: Level.ERROR\n",
      "======================= 0 NONE 0 NOTE 0 WARNING 0 ERROR ========================\n",
      "\n",
      "\u001b[34m\u001b[1mONNX:\u001b[0m export success ✅ 2.0s, saved as 'models\\yolov8n\\best.onnx' (12.6 MB)\n",
      "\u001b[34m\u001b[1mTensorRT:\u001b[0m export failure ❌ 2.0s: No module named 'tensorrt'\n"
     ]
    },
    {
     "ename": "ModuleNotFoundError",
     "evalue": "No module named 'tensorrt'",
     "output_type": "error",
     "traceback": [
      "\u001b[1;31m---------------------------------------------------------------------------\u001b[0m",
      "\u001b[1;31mModuleNotFoundError\u001b[0m                       Traceback (most recent call last)",
      "File \u001b[1;32md:\\work\\project_ras\\project\\lib\\site-packages\\ultralytics\\engine\\exporter.py:632\u001b[0m, in \u001b[0;36mExporter.export_engine\u001b[1;34m(self, prefix)\u001b[0m\n\u001b[0;32m    631\u001b[0m \u001b[38;5;28;01mtry\u001b[39;00m:\n\u001b[1;32m--> 632\u001b[0m     \u001b[38;5;28;01mimport\u001b[39;00m \u001b[38;5;21;01mtensorrt\u001b[39;00m \u001b[38;5;28;01mas\u001b[39;00m \u001b[38;5;21;01mtrt\u001b[39;00m  \u001b[38;5;66;03m# noqa\u001b[39;00m\n\u001b[0;32m    633\u001b[0m \u001b[38;5;28;01mexcept\u001b[39;00m \u001b[38;5;167;01mImportError\u001b[39;00m:\n",
      "\u001b[1;31mModuleNotFoundError\u001b[0m: No module named 'tensorrt'",
      "\nDuring handling of the above exception, another exception occurred:\n",
      "\u001b[1;31mModuleNotFoundError\u001b[0m                       Traceback (most recent call last)",
      "Cell \u001b[1;32mIn[3], line 7\u001b[0m\n\u001b[0;32m      4\u001b[0m model \u001b[38;5;241m=\u001b[39m YOLO(\u001b[38;5;124m'\u001b[39m\u001b[38;5;124m./models/yolov8n/best.pt\u001b[39m\u001b[38;5;124m'\u001b[39m)\n\u001b[0;32m      6\u001b[0m \u001b[38;5;66;03m# Export the model to TensorRT format\u001b[39;00m\n\u001b[1;32m----> 7\u001b[0m \u001b[43mmodel\u001b[49m\u001b[38;5;241;43m.\u001b[39;49m\u001b[43mexport\u001b[49m\u001b[43m(\u001b[49m\u001b[38;5;28;43mformat\u001b[39;49m\u001b[38;5;241;43m=\u001b[39;49m\u001b[38;5;124;43m'\u001b[39;49m\u001b[38;5;124;43mengine\u001b[39;49m\u001b[38;5;124;43m'\u001b[39;49m\u001b[43m,\u001b[49m\u001b[43m \u001b[49m\u001b[43mhalf\u001b[49m\u001b[38;5;241;43m=\u001b[39;49m\u001b[38;5;28;43;01mTrue\u001b[39;49;00m\u001b[43m)\u001b[49m  \u001b[38;5;66;03m# creates 'yolov8n.engine'\u001b[39;00m\n\u001b[0;32m      9\u001b[0m \u001b[38;5;66;03m# Load the exported TensorRT model\u001b[39;00m\n\u001b[0;32m     10\u001b[0m tensorrt_model \u001b[38;5;241m=\u001b[39m YOLO(\u001b[38;5;124m'\u001b[39m\u001b[38;5;124myolov8n.engine\u001b[39m\u001b[38;5;124m'\u001b[39m)\n",
      "File \u001b[1;32md:\\work\\project_ras\\project\\lib\\site-packages\\ultralytics\\engine\\model.py:538\u001b[0m, in \u001b[0;36mModel.export\u001b[1;34m(self, **kwargs)\u001b[0m\n\u001b[0;32m    536\u001b[0m custom \u001b[38;5;241m=\u001b[39m {\u001b[38;5;124m\"\u001b[39m\u001b[38;5;124mimgsz\u001b[39m\u001b[38;5;124m\"\u001b[39m: \u001b[38;5;28mself\u001b[39m\u001b[38;5;241m.\u001b[39mmodel\u001b[38;5;241m.\u001b[39margs[\u001b[38;5;124m\"\u001b[39m\u001b[38;5;124mimgsz\u001b[39m\u001b[38;5;124m\"\u001b[39m], \u001b[38;5;124m\"\u001b[39m\u001b[38;5;124mbatch\u001b[39m\u001b[38;5;124m\"\u001b[39m: \u001b[38;5;241m1\u001b[39m, \u001b[38;5;124m\"\u001b[39m\u001b[38;5;124mdata\u001b[39m\u001b[38;5;124m\"\u001b[39m: \u001b[38;5;28;01mNone\u001b[39;00m, \u001b[38;5;124m\"\u001b[39m\u001b[38;5;124mverbose\u001b[39m\u001b[38;5;124m\"\u001b[39m: \u001b[38;5;28;01mFalse\u001b[39;00m}  \u001b[38;5;66;03m# method defaults\u001b[39;00m\n\u001b[0;32m    537\u001b[0m args \u001b[38;5;241m=\u001b[39m {\u001b[38;5;241m*\u001b[39m\u001b[38;5;241m*\u001b[39m\u001b[38;5;28mself\u001b[39m\u001b[38;5;241m.\u001b[39moverrides, \u001b[38;5;241m*\u001b[39m\u001b[38;5;241m*\u001b[39mcustom, \u001b[38;5;241m*\u001b[39m\u001b[38;5;241m*\u001b[39mkwargs, \u001b[38;5;124m\"\u001b[39m\u001b[38;5;124mmode\u001b[39m\u001b[38;5;124m\"\u001b[39m: \u001b[38;5;124m\"\u001b[39m\u001b[38;5;124mexport\u001b[39m\u001b[38;5;124m\"\u001b[39m}  \u001b[38;5;66;03m# highest priority args on the right\u001b[39;00m\n\u001b[1;32m--> 538\u001b[0m \u001b[38;5;28;01mreturn\u001b[39;00m \u001b[43mExporter\u001b[49m\u001b[43m(\u001b[49m\u001b[43moverrides\u001b[49m\u001b[38;5;241;43m=\u001b[39;49m\u001b[43margs\u001b[49m\u001b[43m,\u001b[49m\u001b[43m \u001b[49m\u001b[43m_callbacks\u001b[49m\u001b[38;5;241;43m=\u001b[39;49m\u001b[38;5;28;43mself\u001b[39;49m\u001b[38;5;241;43m.\u001b[39;49m\u001b[43mcallbacks\u001b[49m\u001b[43m)\u001b[49m\u001b[43m(\u001b[49m\u001b[43mmodel\u001b[49m\u001b[38;5;241;43m=\u001b[39;49m\u001b[38;5;28;43mself\u001b[39;49m\u001b[38;5;241;43m.\u001b[39;49m\u001b[43mmodel\u001b[49m\u001b[43m)\u001b[49m\n",
      "File \u001b[1;32md:\\work\\project_ras\\project\\lib\\site-packages\\torch\\utils\\_contextlib.py:115\u001b[0m, in \u001b[0;36mcontext_decorator.<locals>.decorate_context\u001b[1;34m(*args, **kwargs)\u001b[0m\n\u001b[0;32m    112\u001b[0m \u001b[38;5;129m@functools\u001b[39m\u001b[38;5;241m.\u001b[39mwraps(func)\n\u001b[0;32m    113\u001b[0m \u001b[38;5;28;01mdef\u001b[39;00m \u001b[38;5;21mdecorate_context\u001b[39m(\u001b[38;5;241m*\u001b[39margs, \u001b[38;5;241m*\u001b[39m\u001b[38;5;241m*\u001b[39mkwargs):\n\u001b[0;32m    114\u001b[0m     \u001b[38;5;28;01mwith\u001b[39;00m ctx_factory():\n\u001b[1;32m--> 115\u001b[0m         \u001b[38;5;28;01mreturn\u001b[39;00m func(\u001b[38;5;241m*\u001b[39margs, \u001b[38;5;241m*\u001b[39m\u001b[38;5;241m*\u001b[39mkwargs)\n",
      "File \u001b[1;32md:\\work\\project_ras\\project\\lib\\site-packages\\ultralytics\\engine\\exporter.py:275\u001b[0m, in \u001b[0;36mExporter.__call__\u001b[1;34m(self, model)\u001b[0m\n\u001b[0;32m    273\u001b[0m     f[\u001b[38;5;241m0\u001b[39m], _ \u001b[38;5;241m=\u001b[39m \u001b[38;5;28mself\u001b[39m\u001b[38;5;241m.\u001b[39mexport_torchscript()\n\u001b[0;32m    274\u001b[0m \u001b[38;5;28;01mif\u001b[39;00m engine:  \u001b[38;5;66;03m# TensorRT required before ONNX\u001b[39;00m\n\u001b[1;32m--> 275\u001b[0m     f[\u001b[38;5;241m1\u001b[39m], _ \u001b[38;5;241m=\u001b[39m \u001b[38;5;28;43mself\u001b[39;49m\u001b[38;5;241;43m.\u001b[39;49m\u001b[43mexport_engine\u001b[49m\u001b[43m(\u001b[49m\u001b[43m)\u001b[49m\n\u001b[0;32m    276\u001b[0m \u001b[38;5;28;01mif\u001b[39;00m onnx \u001b[38;5;129;01mor\u001b[39;00m xml:  \u001b[38;5;66;03m# OpenVINO requires ONNX\u001b[39;00m\n\u001b[0;32m    277\u001b[0m     f[\u001b[38;5;241m2\u001b[39m], _ \u001b[38;5;241m=\u001b[39m \u001b[38;5;28mself\u001b[39m\u001b[38;5;241m.\u001b[39mexport_onnx()\n",
      "File \u001b[1;32md:\\work\\project_ras\\project\\lib\\site-packages\\ultralytics\\engine\\exporter.py:136\u001b[0m, in \u001b[0;36mtry_export.<locals>.outer_func\u001b[1;34m(*args, **kwargs)\u001b[0m\n\u001b[0;32m    134\u001b[0m \u001b[38;5;28;01mexcept\u001b[39;00m \u001b[38;5;167;01mException\u001b[39;00m \u001b[38;5;28;01mas\u001b[39;00m e:\n\u001b[0;32m    135\u001b[0m     LOGGER\u001b[38;5;241m.\u001b[39minfo(\u001b[38;5;124mf\u001b[39m\u001b[38;5;124m\"\u001b[39m\u001b[38;5;132;01m{\u001b[39;00mprefix\u001b[38;5;132;01m}\u001b[39;00m\u001b[38;5;124m export failure ❌ \u001b[39m\u001b[38;5;132;01m{\u001b[39;00mdt\u001b[38;5;241m.\u001b[39mt\u001b[38;5;132;01m:\u001b[39;00m\u001b[38;5;124m.1f\u001b[39m\u001b[38;5;132;01m}\u001b[39;00m\u001b[38;5;124ms: \u001b[39m\u001b[38;5;132;01m{\u001b[39;00me\u001b[38;5;132;01m}\u001b[39;00m\u001b[38;5;124m\"\u001b[39m)\n\u001b[1;32m--> 136\u001b[0m     \u001b[38;5;28;01mraise\u001b[39;00m e\n",
      "File \u001b[1;32md:\\work\\project_ras\\project\\lib\\site-packages\\ultralytics\\engine\\exporter.py:131\u001b[0m, in \u001b[0;36mtry_export.<locals>.outer_func\u001b[1;34m(*args, **kwargs)\u001b[0m\n\u001b[0;32m    129\u001b[0m \u001b[38;5;28;01mtry\u001b[39;00m:\n\u001b[0;32m    130\u001b[0m     \u001b[38;5;28;01mwith\u001b[39;00m Profile() \u001b[38;5;28;01mas\u001b[39;00m dt:\n\u001b[1;32m--> 131\u001b[0m         f, model \u001b[38;5;241m=\u001b[39m inner_func(\u001b[38;5;241m*\u001b[39margs, \u001b[38;5;241m*\u001b[39m\u001b[38;5;241m*\u001b[39mkwargs)\n\u001b[0;32m    132\u001b[0m     LOGGER\u001b[38;5;241m.\u001b[39minfo(\u001b[38;5;124mf\u001b[39m\u001b[38;5;124m\"\u001b[39m\u001b[38;5;132;01m{\u001b[39;00mprefix\u001b[38;5;132;01m}\u001b[39;00m\u001b[38;5;124m export success ✅ \u001b[39m\u001b[38;5;132;01m{\u001b[39;00mdt\u001b[38;5;241m.\u001b[39mt\u001b[38;5;132;01m:\u001b[39;00m\u001b[38;5;124m.1f\u001b[39m\u001b[38;5;132;01m}\u001b[39;00m\u001b[38;5;124ms, saved as \u001b[39m\u001b[38;5;124m'\u001b[39m\u001b[38;5;132;01m{\u001b[39;00mf\u001b[38;5;132;01m}\u001b[39;00m\u001b[38;5;124m'\u001b[39m\u001b[38;5;124m (\u001b[39m\u001b[38;5;132;01m{\u001b[39;00mfile_size(f)\u001b[38;5;132;01m:\u001b[39;00m\u001b[38;5;124m.1f\u001b[39m\u001b[38;5;132;01m}\u001b[39;00m\u001b[38;5;124m MB)\u001b[39m\u001b[38;5;124m\"\u001b[39m)\n\u001b[0;32m    133\u001b[0m     \u001b[38;5;28;01mreturn\u001b[39;00m f, model\n",
      "File \u001b[1;32md:\\work\\project_ras\\project\\lib\\site-packages\\ultralytics\\engine\\exporter.py:636\u001b[0m, in \u001b[0;36mExporter.export_engine\u001b[1;34m(self, prefix)\u001b[0m\n\u001b[0;32m    634\u001b[0m     \u001b[38;5;28;01mif\u001b[39;00m LINUX:\n\u001b[0;32m    635\u001b[0m         check_requirements(\u001b[38;5;124m\"\u001b[39m\u001b[38;5;124mnvidia-tensorrt\u001b[39m\u001b[38;5;124m\"\u001b[39m, cmds\u001b[38;5;241m=\u001b[39m\u001b[38;5;124m\"\u001b[39m\u001b[38;5;124m-U --index-url https://pypi.ngc.nvidia.com\u001b[39m\u001b[38;5;124m\"\u001b[39m)\n\u001b[1;32m--> 636\u001b[0m     \u001b[38;5;28;01mimport\u001b[39;00m \u001b[38;5;21;01mtensorrt\u001b[39;00m \u001b[38;5;28;01mas\u001b[39;00m \u001b[38;5;21;01mtrt\u001b[39;00m  \u001b[38;5;66;03m# noqa\u001b[39;00m\n\u001b[0;32m    638\u001b[0m check_version(trt\u001b[38;5;241m.\u001b[39m__version__, \u001b[38;5;124m\"\u001b[39m\u001b[38;5;124m7.0.0\u001b[39m\u001b[38;5;124m\"\u001b[39m, hard\u001b[38;5;241m=\u001b[39m\u001b[38;5;28;01mTrue\u001b[39;00m)  \u001b[38;5;66;03m# require tensorrt>=7.0.0\u001b[39;00m\n\u001b[0;32m    640\u001b[0m \u001b[38;5;28mself\u001b[39m\u001b[38;5;241m.\u001b[39margs\u001b[38;5;241m.\u001b[39msimplify \u001b[38;5;241m=\u001b[39m \u001b[38;5;28;01mTrue\u001b[39;00m\n",
      "\u001b[1;31mModuleNotFoundError\u001b[0m: No module named 'tensorrt'"
     ]
    }
   ],
   "source": [
    "from ultralytics import YOLO\n",
    "\n",
    "# Load the YOLOv8 model\n",
    "model = YOLO('./models/yolov8n/best.pt')\n",
    "\n",
    "# Export the model to TensorRT format\n",
    "model.export(format='engine', half=True)  # creates 'yolov8n.engine'\n",
    "\n",
    "# Load the exported TensorRT model\n",
    "tensorrt_model = YOLO('yolov8n.engine')\n",
    "\n",
    "# Run inference\n",
    "results = tensorrt_model('https://ultralytics.com/images/bus.jpg')"
   ]
  }
 ],
 "metadata": {
  "kernelspec": {
   "display_name": "Python 3 (ipykernel)",
   "language": "python",
   "name": "python3"
  },
  "language_info": {
   "codemirror_mode": {
    "name": "ipython",
    "version": 3
   },
   "file_extension": ".py",
   "mimetype": "text/x-python",
   "name": "python",
   "nbconvert_exporter": "python",
   "pygments_lexer": "ipython3",
   "version": "3.10.8"
  }
 },
 "nbformat": 4,
 "nbformat_minor": 2
}
